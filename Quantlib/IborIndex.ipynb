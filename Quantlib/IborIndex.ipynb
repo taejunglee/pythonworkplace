{
 "cells": [
  {
   "cell_type": "markdown",
   "metadata": {},
   "source": [
    "## iborIndex"
   ]
  },
  {
   "cell_type": "markdown",
   "metadata": {},
   "source": [
    "여러 준거 금리들 EURIBOR, EONIA, SONIA 를 묶어놓은 베이스 클래스"
   ]
  },
  {
   "cell_type": "code",
   "execution_count": 2,
   "metadata": {},
   "outputs": [],
   "source": [
    "# ql.IborIndex(string name,\n",
    "#             Period tenor,\n",
    "#             Integer settlementDays\n",
    "#             Currency currency,\n",
    "#             Calendar fixingCalendar,\n",
    "#             BusinessDayConventiion convention,\n",
    "#             Bool endOfMonth,\n",
    "#             DayCounter dayCounter,\n",
    "#             Handle forecastYieldTermStructure)"
   ]
  },
  {
   "cell_type": "markdown",
   "metadata": {},
   "source": [
    "1. name : 준거 금리의 이름, (e.g.\"USD_3M_LIBOR\")\n",
    "2. tenor : 주기를 나타내면 Period 클래스를 인자로 받음\n",
    "3. settlementDays : 보통 2일 후에 위치, integer 형태의 데이터가 들어가야함\n",
    "4. currency : 해당 준거금리의 기준통화가 무엇이냐 ex) ql.USDCurrency() 형태로\n",
    "5. fixingCalendar : 픽싱 스케줄 정할때 기준이 되는 달력 입력\n",
    "6. convention : 영업일 관행 방식을 결정하는 인자\n",
    "7. endOfMonth : bool형태, 월말일자 기준을 어떻게 설정할 것인가\n",
    "8. dayCounter : 이자 일수 계산방식에 대한 기준을 제공하는 인자\n",
    "9. forecastYieldTermStructure : 미래 변동금리 추정"
   ]
  },
  {
   "cell_type": "code",
   "execution_count": 5,
   "metadata": {},
   "outputs": [],
   "source": [
    "import QuantLib as ql\n",
    "\n",
    "name = \"USD_3M_Libor\"\n",
    "tenor = ql.Period(ql.Quarterly)\n",
    "settlementDays = 2\n",
    "currency = ql.USDCurrency()\n",
    "calendar = ql.UnitedStates()\n",
    "convention = ql.ModifiedFollowing\n",
    "endOfMonth = False\n",
    "dayCounter = ql.Actual360()\n",
    "\n",
    "usd_3m_libor = ql.IborIndex(name,\n",
    "                            tenor,\n",
    "                           settlementDays,\n",
    "                           currency,\n",
    "                           calendar,\n",
    "                           convention,\n",
    "                           endOfMonth,\n",
    "                           dayCounter)\n",
    "\n"
   ]
  },
  {
   "cell_type": "markdown",
   "metadata": {},
   "source": [
    "## addFixing"
   ]
  },
  {
   "cell_type": "markdown",
   "metadata": {},
   "source": [
    "이미 픽싱된 금리와 날짜를 입력하는 기능을 담당 ( 픽싱되는날짜(Date), 픽싱금리(Real) ) 을 인자로"
   ]
  },
  {
   "cell_type": "code",
   "execution_count": 8,
   "metadata": {},
   "outputs": [],
   "source": [
    "usd_3m_libor.addFixing(ql.Date(9,4,2021),0.0135)\n"
   ]
  },
  {
   "cell_type": "code",
   "execution_count": null,
   "metadata": {},
   "outputs": [],
   "source": [
    "usd_3m_libor.clearFixings() # 과거 발생한 픽싱 금리를 객체에서 삭제하고 싶다면"
   ]
  }
 ],
 "metadata": {
  "kernelspec": {
   "display_name": "Python 3",
   "language": "python",
   "name": "python3"
  },
  "language_info": {
   "codemirror_mode": {
    "name": "ipython",
    "version": 3
   },
   "file_extension": ".py",
   "mimetype": "text/x-python",
   "name": "python",
   "nbconvert_exporter": "python",
   "pygments_lexer": "ipython3",
   "version": "3.8.5"
  }
 },
 "nbformat": 4,
 "nbformat_minor": 4
}
