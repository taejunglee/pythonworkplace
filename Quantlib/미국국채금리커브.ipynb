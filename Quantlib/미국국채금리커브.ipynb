{
 "cells": [
  {
   "cell_type": "code",
   "execution_count": 1,
   "metadata": {},
   "outputs": [],
   "source": [
    "import numpy as np\n",
    "import pandas as pd\n",
    "import matplotlib.pyplot as plt\n",
    "import datetime\n",
    "from bs4 import BeautifulSoup\n",
    "from selenium import webdriver\n",
    "import QuantLib as ql\n",
    "options = webdriver.ChromeOptions()\n",
    "options.add_argument('headless')\n"
   ]
  },
  {
   "cell_type": "code",
   "execution_count": 2,
   "metadata": {},
   "outputs": [],
   "source": [
    "def GET_DATE():\n",
    "    driver = webdriver.Chrome('C:\\it\\python_workspace\\chromedriver', options=options)\n",
    "    driver.get(\"https://www.wsj.com/market-data/bonds\")\n",
    "    html = driver.page_source    \n",
    "    soup = BeautifulSoup(html, 'html.parser')\n",
    "    data = soup.find(\"span\", class_=\"WSJBase--card__timestamp--3F2HxyAE\")\n",
    "    date = data.text\n",
    "    date = date.split(' ')[3]\n",
    "    date = datetime.datetime.strptime(date, \"%m/%d/%y\").date()\n",
    "    return date"
   ]
  },
  {
   "cell_type": "code",
   "execution_count": 3,
   "metadata": {},
   "outputs": [],
   "source": [
    "def GET_QUOTE(reference_date):\n",
    "    driver = webdriver.Chrome('C:\\it\\python_workspace\\chromedriver', options=options)\n",
    "    tenors = ['01M', '03M', '06M', '01Y', '02Y', '03Y', '05Y', '07Y', '10Y', '30Y']\n",
    "    \n",
    "    # Create Empty Lists\n",
    "    maturities = []\n",
    "    days = []\n",
    "    prices = []\n",
    "    coupons = []\n",
    "    \n",
    "    # Get Market Information    \n",
    "    for i, tenor in enumerate(tenors):\n",
    "        driver.get(\"https://quotes.wsj.com/bond/BX/TMUBMUSD\" + tenor + \"?mod=md_bond_overview_quote\")\n",
    "        html = driver.page_source\n",
    "        soup = BeautifulSoup(html, 'html.parser')\n",
    "        \n",
    "        # Price\n",
    "        if i <= 3:\n",
    "            data_src = soup.find(\"span\", id=\"quote_val\")\n",
    "            price = data_src.text\n",
    "            price = float(price[:-1])\n",
    "        else:\n",
    "            data_src = soup.find(\"span\", id=\"price_quote_val\")\n",
    "            price = data_src.text\n",
    "            price = price.split()\n",
    "            price1 = float(price[0])\n",
    "            price = price[1].split('/')\n",
    "            price2 = float(price[0])\n",
    "            price3 = float(price[1])            \n",
    "            price = price1 + (price2 / price3)  \n",
    "            \n",
    "        data_src2 = soup.find_all(\"span\", class_=\"data_data\")\n",
    "        \n",
    "        # Coupon\n",
    "        coupon = data_src2[2].text\n",
    "        if coupon != '':\n",
    "            coupon = float(coupon[:-1])\n",
    "        else:\n",
    "            coupon = 0.0\n",
    "        \n",
    "        # Maturity Date\n",
    "        maturity = data_src2[3].text\n",
    "        maturity = datetime.datetime.strptime(maturity, '%m/%d/%y').date()\n",
    "        \n",
    "        # Send to Lists\n",
    "        days.append((maturity - reference_date).days)\n",
    "        prices.append(price)\n",
    "        coupons.append(coupon)\n",
    "        maturities.append(maturity)\n",
    "    \n",
    "    # Create DataFrame\n",
    "    df = pd.DataFrame([maturities, days, prices, coupons]).transpose()\n",
    "    headers = ['maturity', 'days', 'price', 'coupon']\n",
    "    df.columns = headers\n",
    "    df.set_index('maturity', inplace=True)\n",
    "    \n",
    "    return df"
   ]
  },
  {
   "cell_type": "code",
   "execution_count": 4,
   "metadata": {},
   "outputs": [
    {
     "name": "stdout",
     "output_type": "stream",
     "text": [
      "             days    price coupon\n",
      "maturity                         \n",
      "2021-05-04     32    0.018      0\n",
      "2021-07-01     90    0.018      0\n",
      "2021-09-30    181     0.04      0\n",
      "2022-03-24    356    0.063      0\n",
      "2023-03-31    728  99.2812  0.125\n",
      "2024-03-15   1078  99.1875   0.25\n",
      "2026-03-31   1824  98.2812   0.75\n",
      "2028-03-31   2555  98.2812   1.25\n",
      "2031-02-15   3606  94.1875  1.125\n",
      "2051-02-15  10911  89.2188  1.875\n"
     ]
    }
   ],
   "source": [
    "# Test\n",
    "ref_date = GET_DATE()\n",
    "quote = GET_QUOTE(ref_date)\n",
    "print(quote)"
   ]
  },
  {
   "cell_type": "code",
   "execution_count": 20,
   "metadata": {},
   "outputs": [],
   "source": [
    "def TREASURY_CURVE(date, quote):\n",
    "    \n",
    "    # Divide Quotes\n",
    "    tbill = quote[0:4]\n",
    "    tbond = quote[4:]\n",
    "    # 평가일 설정\n",
    "    eval_date = ql.Date(date.day, date.month, date.year)\n",
    "    ql.Settings.instance().evaluationDate = eval_date\n",
    "    # 마켓 컨벤션 설정 #달력,금리설정일,이자계산방식,정산일자선정방식,명목금액,이자정산주기\n",
    "    calendar = ql.UnitedStates()\n",
    "    convention = ql.ModifiedFollowing\n",
    "    day_counter = ql.ActualActual()\n",
    "    end_of_month = True\n",
    "    fixing_days = 1\n",
    "    face_amount = 100\n",
    "    coupon_frequency = ql.Period(ql.Semiannual)\n",
    "    #Deposit Rate Helper\n",
    "    #DepositRateHelper-무이표채에적용,\n",
    "    #FixedRateBondHelper-이표채에적용\n",
    "    bill_helpers = [ql.DepositRateHelper(ql.QuoteHandle(ql.SimpleQuote(r/100.0)),\n",
    "                                        ql.Period(m, ql.Days),\n",
    "                                        fixing_days,\n",
    "                                        calendar,\n",
    "                                        convention,\n",
    "                                        end_of_month,\n",
    "                                        day_counter)\n",
    "                   for r, m in zip(tbill['price'], tbill['days'])]\n",
    "                #for 문으로 무이표채 금리와 잔존일수 데이터 입력\n",
    "    # Construct Treasury Bond Helpers [ Fixed Bond Rate Helper ]\n",
    "    bond_helpers = []\n",
    "    for p, c, m in zip(tbond['price'], tbond['coupon'], tbond['days']):\n",
    "        termination_date = eval_date + ql.Period(m, ql.Days)\n",
    "        schedule = ql.Schedule(eval_date,\n",
    "                              termination_date,\n",
    "                              coupon_frequency,\n",
    "                              calendar,\n",
    "                              convention,\n",
    "                              convention,\n",
    "                              ql.DateGeneration.Backward,\n",
    "                              end_of_month)\n",
    "        bond_helper = ql.FixedRateBondHelper(ql.QuoteHandle(ql.SimpleQuote(p)),\n",
    "                                            fixing_days,\n",
    "                                             face_amount,\n",
    "                                             schedule,\n",
    "                                             [c/100.0],\n",
    "                                             day_counter,\n",
    "                                             convention)\n",
    "        bond_helpers.append(bond_helper)\n",
    "        # FixedRateBondHelper - 이표채 이자지급스케쥴 생성\n",
    "    # 헬퍼 결합(무이표채 + 이표채)\n",
    "    rate_helper = bill_helpers + bond_helpers\n",
    "    # 헬퍼를 커브 모듈에 태우기\n",
    "    yc_linearzero = ql.PiecewiseLinearZero(eval_date, rate_helper, day_counter)\n",
    "    return yc_linearzero"
   ]
  },
  {
   "cell_type": "code",
   "execution_count": 9,
   "metadata": {},
   "outputs": [],
   "source": [
    "def DISCOUNT_FACTOR(date, curve):\n",
    "    date = ql.Date(date.day, date.month, date.year)\n",
    "    return curve.discount(date)\n",
    "# 특정일을 알려주면 할인계수 얼마인지 * 날짜를 퀀트립의 날짜 형식에 맞춰주기"
   ]
  },
  {
   "cell_type": "code",
   "execution_count": 10,
   "metadata": {},
   "outputs": [],
   "source": [
    "def ZERO_RATE(date, curve):\n",
    "    date = ql.Date(date.day, date.month, date.year)\n",
    "    day_counter = ql.ActualActual()\n",
    "    compounding = ql.Compounded\n",
    "    freq = ql.Continuous\n",
    "    zero_rate = curve.zeroRate(date, day_counter, compounding, freq).rate()\n",
    "    return zero_rate\n",
    "\n",
    "# 특정 날짜의 제로금리가 얼마인지"
   ]
  },
  {
   "cell_type": "code",
   "execution_count": 25,
   "metadata": {},
   "outputs": [
    {
     "name": "stdout",
     "output_type": "stream",
     "text": [
      "            discount factor  zero rate\n",
      "maturity                              \n",
      "2021-05-04         0.999984   0.000180\n",
      "2021-07-01         0.999956   0.000180\n",
      "2021-09-30         0.999870   0.000262\n",
      "2022-03-24         0.999531   0.000481\n",
      "2023-03-31         0.990421   0.004832\n",
      "2024-03-15         0.984560   0.005277\n",
      "2026-03-31         0.946646   0.011008\n",
      "2028-03-31         0.899556   0.015187\n",
      "2031-02-15         0.838299   0.017943\n",
      "2051-02-15         0.475483   0.025041\n"
     ]
    },
    {
     "data": {
      "text/plain": [
       "Text(0, 0.5, 'Discount Factor')"
      ]
     },
     "execution_count": 25,
     "metadata": {},
     "output_type": "execute_result"
    },
    {
     "data": {
      "image/png": "[encoded data removed]",
      "text/plain": [
       "<Figure size 1152x576 with 1 Axes>"
      ]
     },
     "metadata": {
      "needs_background": "light"
     },
     "output_type": "display_data"
    },
    {
     "data": {
      "image/png": "[encoded data removed]",
      "text/plain": [
       "<Figure size 1152x576 with 1 Axes>"
      ]
     },
     "metadata": {
      "needs_background": "light"
     },
     "output_type": "display_data"
    }
   ],
   "source": [
    "ref_date = GET_DATE()\n",
    "quote = GET_QUOTE(ref_date)\n",
    "curve = TREASURY_CURVE(ref_date, quote)\n",
    "\n",
    "quote['discount factor'] = np.nan\n",
    "quote['zero rate'] = np.nan\n",
    "\n",
    "for date in quote.index:\n",
    "    quote.loc[date, 'discount factor'] = DISCOUNT_FACTOR(date, curve)\n",
    "    quote.loc[date, 'zero rate'] = ZERO_RATE(date, curve)\n",
    "    \n",
    "print(quote[['discount factor', 'zero rate']])\n",
    "\n",
    "plt.figure(figsize=(16,8))\n",
    "plt.plot(quote['zero rate'], 'b.-')\n",
    "plt.title('Zero Curve', loc='center')\n",
    "plt.xlabel('Maturity')\n",
    "plt.ylabel('Zero Rate')\n",
    "\n",
    "plt.figure(figsize=(16,8))\n",
    "plt.plot(quote['discount factor'], 'r.-')\n",
    "plt.title('Discount Curve', loc='center')\n",
    "plt.xlabel('Maturity')\n",
    "plt.ylabel('Discount Factor')\n"
   ]
  },
  {
   "cell_type": "code",
   "execution_count": null,
   "metadata": {},
   "outputs": [],
   "source": []
  }
 ],
 "metadata": {
  "kernelspec": {
   "display_name": "Python 3",
   "language": "python",
   "name": "python3"
  },
  "language_info": {
   "codemirror_mode": {
    "name": "ipython",
    "version": 3
   },
   "file_extension": ".py",
   "mimetype": "text/x-python",
   "name": "python",
   "nbconvert_exporter": "python",
   "pygments_lexer": "ipython3",
   "version": "3.8.5"
  }
 },
 "nbformat": 4,
 "nbformat_minor": 4
}
