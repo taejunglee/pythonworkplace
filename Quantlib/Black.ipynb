{
 "cells": [
  {
   "cell_type": "markdown",
   "metadata": {},
   "source": [
    "# Black 모형"
   ]
  },
  {
   "cell_type": "markdown",
   "metadata": {},
   "source": [
    "선물(Futures) 혹은 선도(Forwards)를 기초자산으로 한 유러피언 옵션 프라이싱 목적"
   ]
  },
  {
   "cell_type": "markdown",
   "metadata": {},
   "source": [
    "배당률, 보유비용, 편의수익률 직접 추정할 필요 X (선물을 기초자산으로 하므로)"
   ]
  },
  {
   "cell_type": "markdown",
   "metadata": {},
   "source": [
    "## 코스피 200 옵션 프라이싱"
   ]
  },
  {
   "cell_type": "markdown",
   "metadata": {},
   "source": [
    "3,6,9,12 월 옵션은 각각 만기에 맞는 선물 가격을 그대로 가져다 써도됨"
   ]
  },
  {
   "cell_type": "code",
   "execution_count": 2,
   "metadata": {},
   "outputs": [],
   "source": [
    "import QuantLib as ql"
   ]
  },
  {
   "cell_type": "code",
   "execution_count": 3,
   "metadata": {},
   "outputs": [],
   "source": [
    "valuationDate = ql.Date(25,4,2021)\n",
    "ql.Settings.instance().evaluationDate = valuationDate\n",
    "calendar = ql.SouthKorea()\n",
    "dayCount = ql.ActualActual()"
   ]
  },
  {
   "cell_type": "markdown",
   "metadata": {},
   "source": [
    "Simple Quote Objects"
   ]
  },
  {
   "cell_type": "code",
   "execution_count": 4,
   "metadata": {},
   "outputs": [],
   "source": [
    "futures_qt = ql.SimpleQuote(426.90)    # KOSPI 200 Futures Apr 26\n",
    "riskfreerate_qt = ql.SimpleQuote(0.01) # Risk=Free Rate\n",
    "volatility_qt = ql.SimpleQuote(0.40)   # Volatility"
   ]
  },
  {
   "cell_type": "markdown",
   "metadata": {},
   "source": [
    "Quote Handle Objects"
   ]
  },
  {
   "cell_type": "code",
   "execution_count": 5,
   "metadata": {},
   "outputs": [],
   "source": [
    "f_qhd = ql.QuoteHandle(futures_qt)\n",
    "r_qhd = ql.QuoteHandle(riskfreerate_qt)\n",
    "v_qhd = ql.QuoteHandle(volatility_qt)"
   ]
  },
  {
   "cell_type": "markdown",
   "metadata": {},
   "source": [
    "Term-Structure Objects"
   ]
  },
  {
   "cell_type": "code",
   "execution_count": 6,
   "metadata": {},
   "outputs": [],
   "source": [
    "r_ts = ql.FlatForward(valuationDate, r_qhd, dayCount)\n",
    "v_ts = ql.BlackConstantVol(valuationDate, calendar, v_qhd, dayCount)"
   ]
  },
  {
   "cell_type": "markdown",
   "metadata": {},
   "source": [
    "Term-Structure Handle Objects"
   ]
  },
  {
   "cell_type": "code",
   "execution_count": 7,
   "metadata": {},
   "outputs": [],
   "source": [
    "r_thd = ql.YieldTermStructureHandle(r_ts)\n",
    "v_thd = ql.BlackVolTermStructureHandle(v_ts)"
   ]
  },
  {
   "cell_type": "markdown",
   "metadata": {},
   "source": [
    "Process & Engine"
   ]
  },
  {
   "cell_type": "code",
   "execution_count": 8,
   "metadata": {},
   "outputs": [],
   "source": [
    "process = ql.BlackProcess(f_qhd, r_thd, v_thd)   # 블랙숄즈 모형과 차이점\n",
    "engine = ql.AnalyticEuropeanEngine(process)"
   ]
  },
  {
   "cell_type": "markdown",
   "metadata": {},
   "source": [
    "Option Objects"
   ]
  },
  {
   "cell_type": "code",
   "execution_count": 9,
   "metadata": {},
   "outputs": [],
   "source": [
    "option_type = ql.Option.Call\n",
    "strikePrice = 400                                       #행사가\n",
    "expiryDate = ql.Date(31,12,2021)\n",
    "exercise = ql.EuropeanExercise(expiryDate)\n",
    "payoff = ql.PlainVanillaPayoff(option_type, strikePrice)\n",
    "option = ql.VanillaOption(payoff, exercise)"
   ]
  },
  {
   "cell_type": "markdown",
   "metadata": {},
   "source": [
    "Pricing"
   ]
  },
  {
   "cell_type": "code",
   "execution_count": 10,
   "metadata": {},
   "outputs": [],
   "source": [
    "option.setPricingEngine(engine)"
   ]
  },
  {
   "cell_type": "markdown",
   "metadata": {},
   "source": [
    "Price & Greeks Results"
   ]
  },
  {
   "cell_type": "code",
   "execution_count": 11,
   "metadata": {},
   "outputs": [
    {
     "name": "stdout",
     "output_type": "stream",
     "text": [
      "Option Premium = 68.37\n",
      "Option Delta = 0.637\n",
      "Option Gamma = 0.0026\n",
      "Option Theta = -0.103\n",
      "Option Vega = 1.311\n",
      "Option Rho = 1.3943\n"
     ]
    }
   ],
   "source": [
    "print(\"Option Premium =\", round(option.NPV(), 2))\n",
    "print(\"Option Delta =\", round(option.delta(), 4))\n",
    "print(\"Option Gamma =\", round(option.gamma(), 4))\n",
    "print(\"Option Theta =\", round(option.thetaPerDay(), 4))\n",
    "print(\"Option Vega =\", round(option.vega()/ 100, 4))\n",
    "print(\"Option Rho =\", round(option.rho()/ 100, 4))"
   ]
  },
  {
   "cell_type": "code",
   "execution_count": 13,
   "metadata": {},
   "outputs": [
    {
     "name": "stdout",
     "output_type": "stream",
     "text": [
      "Option Premium = 70.0\n",
      "Option Delta = 0.6367\n",
      "Option Gamma = 0.0025\n",
      "Option Theta = -0.1062\n",
      "Option Vega = 1.3114\n",
      "Option Rho = 1.3823\n"
     ]
    }
   ],
   "source": [
    "mkt_price = 70 # 콜옵션 가격\n",
    "implied_volatility = option.impliedVolatility(mkt_price, process)\n",
    "volatility_qt.setValue(implied_volatility) # 옵션의 시장가격과 확률과정을 받음\n",
    "print(\"Option Premium =\", round(option.NPV(), 2))\n",
    "print(\"Option Delta =\", round(option.delta(), 4))\n",
    "print(\"Option Gamma =\", round(option.gamma(), 4))\n",
    "print(\"Option Theta =\", round(option.thetaPerDay(), 4))\n",
    "print(\"Option Vega =\", round(option.vega()/ 100, 4))\n",
    "print(\"Option Rho =\", round(option.rho()/ 100, 4))"
   ]
  },
  {
   "cell_type": "code",
   "execution_count": null,
   "metadata": {},
   "outputs": [],
   "source": []
  }
 ],
 "metadata": {
  "kernelspec": {
   "display_name": "Python 3",
   "language": "python",
   "name": "python3"
  },
  "language_info": {
   "codemirror_mode": {
    "name": "ipython",
    "version": 3
   },
   "file_extension": ".py",
   "mimetype": "text/x-python",
   "name": "python",
   "nbconvert_exporter": "python",
   "pygments_lexer": "ipython3",
   "version": "3.8.5"
  }
 },
 "nbformat": 4,
 "nbformat_minor": 4
}
