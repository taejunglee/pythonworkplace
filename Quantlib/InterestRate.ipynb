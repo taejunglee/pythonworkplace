{
 "cells": [
  {
   "cell_type": "markdown",
   "metadata": {},
   "source": [
    "# interestRate\n",
    "1. 금리(rate)\n",
    "2. 이자 일수 계산방식(dayCounter)\n",
    "3. 복리계산방식(Compounding)\n",
    "4. 이자 지급 주기(Frequency)\n",
    "\n",
    "Compounding\n",
    "- ql.Simple - 단리\n",
    "- ql.Compounded - 복리\n",
    "- ql.Continuouos - 연속복리\n",
    "- ql.SimpleThenCompounded - 차기 이표일까지 단리/ 이후부터 복리 - 보통 이방식\n",
    "- ql.CompoundedThenSimple - 차기 이표일까지 복리/ 이후부터 단리"
   ]
  },
  {
   "cell_type": "code",
   "execution_count": 1,
   "metadata": {},
   "outputs": [],
   "source": [
    "import QuantLib as ql\n",
    "\n",
    "rate = 0.0148\n",
    "dc = ql.ActualActual()\n",
    "comp = ql.Compounded\n",
    "freq = ql.Annual\n",
    "\n",
    "ir = ql.InterestRate(rate, dc, comp, freq)"
   ]
  },
  {
   "cell_type": "markdown",
   "metadata": {},
   "source": [
    "금리와, 관행을 바탕으로 특정 기간 동안 할인계수와 복리계수 계산 가능"
   ]
  },
  {
   "cell_type": "code",
   "execution_count": 2,
   "metadata": {},
   "outputs": [
    {
     "name": "stdout",
     "output_type": "stream",
     "text": [
      "Discoiunt Factor between April 5th, 2020 and April 5th, 2021 = 0.9854\n",
      "Compounding Factor between April 5th, 2020 and April 5th, 2021 = 1.0148\n"
     ]
    }
   ],
   "source": [
    "# Discount & Compound Factor\n",
    "\n",
    "start_date = ql.Date(5,4,2020)\n",
    "end_date = ql.Date(5,4,2021)\n",
    "\n",
    "print(\"Discoiunt Factor between {} and {} = {}\".format(start_date, end_date, round(ir.discountFactor(start_date, end_date), 4)))\n",
    "print(\"Compounding Factor between {} and {} = {}\".format(start_date, end_date, round(ir.compoundFactor(start_date, end_date), 4)))\n"
   ]
  },
  {
   "cell_type": "markdown",
   "metadata": {},
   "source": [
    "equivalentRate() - 현재 시장 관행 하 금리수준과 같은 다른 시장 관행 하에서 금리 계산"
   ]
  },
  {
   "cell_type": "code",
   "execution_count": 3,
   "metadata": {},
   "outputs": [
    {
     "name": "stdout",
     "output_type": "stream",
     "text": [
      "Equivalent Rate = 1.471856 % Actual/Actual (ISDA) Quarterly compounding\n"
     ]
    }
   ],
   "source": [
    "new_dc = ql.ActualActual()\n",
    "new_comp = ql.Compounded\n",
    "new_freq = ql.Quarterly\n",
    "print(\"Equivalent Rate = {}\".format(ir.equivalentRate(new_dc, new_comp, new_freq, start_date, end_date)))"
   ]
  },
  {
   "cell_type": "markdown",
   "metadata": {},
   "source": [
    "impliedRate() - 복리계수가 주어지면, 내제되어 있는 금리를 계산(역산하여)"
   ]
  },
  {
   "cell_type": "code",
   "execution_count": null,
   "metadata": {},
   "outputs": [],
   "source": [
    "comp_factor = 1.05\n",
    "new_dc = ql.ActualActual()\n",
    "new_comp = ql.Compounded\n",
    "new_freq = ql.Annual\n",
    "print(\"Implied Rate = {}\".format(ir.impliedRate(comp_factor, new_dc, new_comp, )))"
   ]
  }
 ],
 "metadata": {
  "kernelspec": {
   "display_name": "Python 3",
   "language": "python",
   "name": "python3"
  },
  "language_info": {
   "codemirror_mode": {
    "name": "ipython",
    "version": 3
   },
   "file_extension": ".py",
   "mimetype": "text/x-python",
   "name": "python",
   "nbconvert_exporter": "python",
   "pygments_lexer": "ipython3",
   "version": "3.8.5"
  }
 },
 "nbformat": 4,
 "nbformat_minor": 4
}
