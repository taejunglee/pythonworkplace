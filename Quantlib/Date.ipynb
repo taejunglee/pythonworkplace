{
 "cells": [
  {
   "cell_type": "markdown",
   "metadata": {},
   "source": [
    "## Date\n"
   ]
  },
  {
   "cell_type": "code",
   "execution_count": 1,
   "metadata": {},
   "outputs": [
    {
     "name": "stdout",
     "output_type": "stream",
     "text": [
      "March 13th, 2021\n"
     ]
    }
   ],
   "source": [
    "\n",
    "\n",
    "# Effective Date, Maturity Date ----Theta\n",
    "\n",
    "# ql.Date(Day, Month, Year)\n",
    "# ql.Date(serialNumber)\n",
    "\n",
    "import QuantLib as ql\n",
    "date1 = ql.Date(13, 3, 2021)\n",
    "# date2 = ql.Date(43942) -> 1900년 1월 1일 기준 하루씩 +1\n",
    "\n",
    "print(date1)\n",
    "\n"
   ]
  },
  {
   "cell_type": "code",
   "execution_count": 15,
   "metadata": {},
   "outputs": [
    {
     "name": "stdout",
     "output_type": "stream",
     "text": [
      "Day of Month = 13\n",
      "Day of Year = 72\n",
      "Month = 3\n",
      "Year = 2021\n",
      "Serial Number = 44268\n",
      "Weekday = 7\n"
     ]
    }
   ],
   "source": [
    "date = ql.Date(13, 3, 2021)\n",
    "\n",
    "dayOfMonth = date.dayOfMonth() # 오늘이 이번 달의 몇 번째 날인지\n",
    "dayOfYear = date.dayOfYear() # 오늘이 올해의 며칠째인지\n",
    "month =date.month() \n",
    "year = date.year()\n",
    "serialNumber = date.serialNumber()  #1900년 1월 1일 기준 하루씩 +1\n",
    "weekday = date.weekday() # 해당 날짜가 무슨 요일인지(일요일 기준1)\n",
    "\n",
    "print(\"Day of Month = {}\".format(dayOfMonth))\n",
    "print(\"Day of Year = {}\".format(dayOfYear))\n",
    "print(\"Month = {}\".format(month))\n",
    "print(\"Year = {}\".format(year))\n",
    "print(\"Serial Number = {}\".format(serialNumber))\n",
    "print(\"Weekday = {}\".format(weekday))\n",
    "\n"
   ]
  },
  {
   "cell_type": "code",
   "execution_count": 29,
   "metadata": {},
   "outputs": [
    {
     "name": "stdout",
     "output_type": "stream",
     "text": [
      "오늘은 March 13th, 2021 입니다.\n",
      "is Leap? = False\n",
      "is End of Month = False\n",
      "End of Month? = March 31st, 2021\n",
      "Next Week? = March 15th, 2021\n",
      "Nth Weekday? = April 13th, 2021\n"
     ]
    }
   ],
   "source": [
    "\n",
    "# todayDate() # 오늘이 며칠인지\n",
    "# isLeap() # 그 해가 윤년안지 아닌지 불(Boolean)로 알려줌 (true, false)\n",
    "# isEndOfMonth() # 그 날이 해당 월의 마지막 날인지 (true, false)\n",
    "# endOfMonth() # 해당 월의 마지막 날짜 출력\n",
    "# nextWeekday() # 다음 요일이 언제인지, ex) 다음주 토요일이 언제인지\n",
    "# nthWeekday() # 올해 @월의 $번째 요일이 몇일인지 알고 싶을 때\n",
    "            # (몇 번쨰, 무슨 요일, 월, 연도) 입력\n",
    "    \n",
    "todaysDate = date.todaysDate()\n",
    "isLeap = date.isLeap(date.year())\n",
    "isEndOfMonth = date.isEndOfMonth(date)\n",
    "endOfMonth = date.endOfMonth(date)\n",
    "nextWeekday = date.nextWeekday(date, 2)\n",
    "nthWeekday = date.nthWeekday(2, 3, 4, 2021)\n",
    "\n",
    "print(\"오늘은 {} 입니다.\".format(todaysDate))\n",
    "print(\"is Leap? = {}\".format(isLeap))\n",
    "print(\"is End of Month = {}\".format(isEndOfMonth))\n",
    "print(\"End of Month? = {}\".format(endOfMonth))\n",
    "print(\"Next Week? = {}\".format(nextWeekday))\n",
    "print(\"Nth Weekday? = {}\".format(nthWeekday))"
   ]
  },
  {
   "cell_type": "code",
   "execution_count": null,
   "metadata": {},
   "outputs": [],
   "source": []
  }
 ],
 "metadata": {
  "kernelspec": {
   "display_name": "Python 3",
   "language": "python",
   "name": "python3"
  },
  "language_info": {
   "codemirror_mode": {
    "name": "ipython",
    "version": 3
   },
   "file_extension": ".py",
   "mimetype": "text/x-python",
   "name": "python",
   "nbconvert_exporter": "python",
   "pygments_lexer": "ipython3",
   "version": "3.8.5"
  }
 },
 "nbformat": 4,
 "nbformat_minor": 4
}
