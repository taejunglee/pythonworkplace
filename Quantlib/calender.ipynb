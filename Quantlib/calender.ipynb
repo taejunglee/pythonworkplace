{
 "cells": [
  {
   "cell_type": "markdown",
   "metadata": {},
   "source": [
    "## Calender\n",
    "각 나라별 휴일이 다르므로 장외파생상품을 프라이싱 할때 calender lib 이용"
   ]
  },
  {
   "cell_type": "code",
   "execution_count": 8,
   "metadata": {},
   "outputs": [],
   "source": [
    "import QuantLib as ql\n",
    "\n",
    "# Construction\n",
    "\n",
    "us = ql.UnitedStates()\n",
    "eu = ql.TARGET()\n",
    "kr = ql.SouthKorea()\n",
    "jp = ql.Japan()\n",
    "cn = ql.China()"
   ]
  },
  {
   "cell_type": "code",
   "execution_count": 15,
   "metadata": {},
   "outputs": [],
   "source": [
    "#1. hoildayList\n",
    "# 시작일\n",
    "date1 = ql.Date(1, 1, 2020)\n",
    "# 종료일\n",
    "date2 = ql.Date(31, 12, 2020)\n",
    "\n",
    "kr_holidayList = kr.holidayList(kr, date1, date2)\n",
    "\n",
    "print(kr_holidayList)"
   ]
  },
  {
   "cell_type": "code",
   "execution_count": 22,
   "metadata": {},
   "outputs": [],
   "source": [
    "#2. addHoliday\n",
    "#3. removeHoliday\n",
    "# kr.addHoliday(ql.Date(27, 1, 2020))\n",
    "# kr.addHoilday(ql.Date(15, 4, 2020))\n",
    "# kr.removeHoliday(ql.Date(27, 1, 2020))"
   ]
  },
  {
   "cell_type": "code",
   "execution_count": 23,
   "metadata": {},
   "outputs": [
    {
     "ename": "AttributeError",
     "evalue": "'SouthKorea' object has no attribute 'businessDayBetween'",
     "output_type": "error",
     "traceback": [
      "\u001b[1;31m---------------------------------------------------------------------------\u001b[0m",
      "\u001b[1;31mAttributeError\u001b[0m                            Traceback (most recent call last)",
      "\u001b[1;32m<ipython-input-23-789d9987e641>\u001b[0m in \u001b[0;36m<module>\u001b[1;34m\u001b[0m\n\u001b[0;32m      3\u001b[0m \u001b[1;31m# 날짜 사이 영업일 수 계산\u001b[0m\u001b[1;33m\u001b[0m\u001b[1;33m\u001b[0m\u001b[1;33m\u001b[0m\u001b[0m\n\u001b[0;32m      4\u001b[0m \u001b[1;33m\u001b[0m\u001b[0m\n\u001b[1;32m----> 5\u001b[1;33m \u001b[0mkr\u001b[0m\u001b[1;33m.\u001b[0m\u001b[0mbusinessDayBetween\u001b[0m\u001b[1;33m(\u001b[0m\u001b[0mdate1\u001b[0m\u001b[1;33m,\u001b[0m \u001b[0mdate2\u001b[0m\u001b[1;33m)\u001b[0m\u001b[1;33m\u001b[0m\u001b[1;33m\u001b[0m\u001b[0m\n\u001b[0m",
      "\u001b[1;31mAttributeError\u001b[0m: 'SouthKorea' object has no attribute 'businessDayBetween'"
     ]
    }
   ],
   "source": [
    "# businessDaysBetween()\n",
    "\n",
    "# 날짜 사이 영업일 수 계산\n",
    "\n",
    "kr.businessDayBetween(date1, date2)"
   ]
  },
  {
   "cell_type": "code",
   "execution_count": 24,
   "metadata": {},
   "outputs": [
    {
     "data": {
      "text/plain": [
       "True"
      ]
     },
     "execution_count": 24,
     "metadata": {},
     "output_type": "execute_result"
    }
   ],
   "source": [
    "# isBusinessDay() / isHoliday()\n",
    "\n",
    "kr.isBusinessDay(date1) # 영업일인지\n",
    "kr.isHoliday(date1) # 휴일인지"
   ]
  },
  {
   "cell_type": "code",
   "execution_count": 25,
   "metadata": {},
   "outputs": [
    {
     "data": {
      "text/plain": [
       "Date(1,7,2020)"
      ]
     },
     "execution_count": 25,
     "metadata": {},
     "output_type": "execute_result"
    }
   ],
   "source": [
    "# advance() - 특정 일자로부터 특정 기간 후 날짜 반환(but 영업일관행, 월말기준 반영)\n",
    "# 영업일관행 고려 - \n",
    "# ql.Unadjusted\n",
    "# ql.Preceding\n",
    "# ql.ModifiedPreceding\n",
    "# ql.Following\n",
    "# ql.ModifiedFollowing\n",
    "\n",
    "kr.advance(date1, ql.Period(6, ql.Months), ql.ModifiedFollowing, True)"
   ]
  },
  {
   "cell_type": "code",
   "execution_count": 26,
   "metadata": {},
   "outputs": [
    {
     "ename": "AttributeError",
     "evalue": "module 'QuantLib' has no attribute 'JointCalender'",
     "output_type": "error",
     "traceback": [
      "\u001b[1;31m---------------------------------------------------------------------------\u001b[0m",
      "\u001b[1;31mAttributeError\u001b[0m                            Traceback (most recent call last)",
      "\u001b[1;32m<ipython-input-26-e733f0d0f642>\u001b[0m in \u001b[0;36m<module>\u001b[1;34m\u001b[0m\n\u001b[0;32m      1\u001b[0m \u001b[1;31m# JointCalender() - 각 나라의 달력을 합친다\u001b[0m\u001b[1;33m\u001b[0m\u001b[1;33m\u001b[0m\u001b[1;33m\u001b[0m\u001b[0m\n\u001b[0;32m      2\u001b[0m \u001b[1;33m\u001b[0m\u001b[0m\n\u001b[1;32m----> 3\u001b[1;33m \u001b[0mnew_calender\u001b[0m \u001b[1;33m=\u001b[0m \u001b[0mql\u001b[0m\u001b[1;33m.\u001b[0m\u001b[0mJointCalender\u001b[0m\u001b[1;33m(\u001b[0m\u001b[0mus\u001b[0m\u001b[1;33m,\u001b[0m \u001b[0meu\u001b[0m\u001b[1;33m,\u001b[0m \u001b[0mkr\u001b[0m\u001b[1;33m)\u001b[0m\u001b[1;33m\u001b[0m\u001b[1;33m\u001b[0m\u001b[0m\n\u001b[0m\u001b[0;32m      4\u001b[0m \u001b[0mprint\u001b[0m\u001b[1;33m(\u001b[0m\u001b[0mnew_calender\u001b[0m\u001b[1;33m.\u001b[0m\u001b[0mhoildayList\u001b[0m\u001b[1;33m(\u001b[0m\u001b[0mnew_calender\u001b[0m\u001b[1;33m,\u001b[0m \u001b[0mdate1\u001b[0m\u001b[1;33m,\u001b[0m \u001b[0mdate2\u001b[0m\u001b[1;33m)\u001b[0m\u001b[1;33m)\u001b[0m\u001b[1;33m\u001b[0m\u001b[1;33m\u001b[0m\u001b[0m\n",
      "\u001b[1;31mAttributeError\u001b[0m: module 'QuantLib' has no attribute 'JointCalender'"
     ]
    }
   ],
   "source": [
    "# JointCalender() - 각 나라의 달력을 합친다\n",
    "\n",
    "new_calender = ql.JointCalender(us, eu, kr)\n",
    "print(new_calender.hoildayList(new_calender, date1, date2))\n"
   ]
  },
  {
   "cell_type": "code",
   "execution_count": null,
   "metadata": {},
   "outputs": [],
   "source": []
  }
 ],
 "metadata": {
  "kernelspec": {
   "display_name": "Python 3",
   "language": "python",
   "name": "python3"
  },
  "language_info": {
   "codemirror_mode": {
    "name": "ipython",
    "version": 3
   },
   "file_extension": ".py",
   "mimetype": "text/x-python",
   "name": "python",
   "nbconvert_exporter": "python",
   "pygments_lexer": "ipython3",
   "version": "3.8.5"
  }
 },
 "nbformat": 4,
 "nbformat_minor": 4
}
