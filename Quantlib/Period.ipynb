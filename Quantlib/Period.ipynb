{
 "cells": [
  {
   "cell_type": "code",
   "execution_count": 6,
   "metadata": {},
   "outputs": [],
   "source": [
    "import QuantLib as ql"
   ]
  },
  {
   "cell_type": "code",
   "execution_count": 8,
   "metadata": {},
   "outputs": [],
   "source": [
    "# ql.Period(Integer, TimeUnits) - Days, Weeks, Months, Years\n",
    "# ql.Period(Frequency) - 주기 Annual, Semiannual, Quarterly,\n",
    "#    Monthly, Biweekly, Weekly, Daily, Once"
   ]
  },
  {
   "cell_type": "code",
   "execution_count": 35,
   "metadata": {},
   "outputs": [],
   "source": [
    "period1 = ql.Period(3, ql.Months)\n",
    "period2 = ql.Period(ql.Biweekly)\n",
    "period3 = ql.Period(ql.Once)\n",
    "period4 = ql.Period(ql.Quarterly)\n",
    "period5 = ql.Period(ql.Semiannual)\n"
   ]
  },
  {
   "cell_type": "code",
   "execution_count": 36,
   "metadata": {},
   "outputs": [
    {
     "name": "stdout",
     "output_type": "stream",
     "text": [
      "3주 후 : April 4th, 2021\n",
      "3달 후 : June 14th, 2021\n",
      "3년 후 : March 14th, 2024\n",
      "Once : 0Y\n",
      "Biweekly : 2W\n",
      "Quarterly : 3M\n",
      "Semiannual : 6M\n",
      "연말까지 남은 일 수 =  292\n"
     ]
    }
   ],
   "source": [
    "date1 = ql.Date(14, 3, 2021)\n",
    "date2 = ql.Date(31, 12, 2021)\n",
    "\n",
    "three_weeks = ql.Period(3, ql.Weeks)\n",
    "three_months = ql.Period(3, ql.Months)\n",
    "three_years = ql.Period(3, ql.Years)\n",
    "\n",
    "\n",
    "print(\"3주 후 : {}\".format(date1+three_weeks))\n",
    "print(\"3달 후 : {}\".format(date1+three_months))\n",
    "print(\"3년 후 : {}\".format(date1+three_years))\n",
    "print(\"Once : {}\".format(period3))\n",
    "print(\"Biweekly : {}\".format(period2))\n",
    "print(\"Quarterly : {}\".format(period4))\n",
    "print(\"Semiannual : {}\".format(period5))\n",
    "\n",
    "\n",
    "print(\"연말까지 남은 일 수 =  {}\".format(date2 - date1))"
   ]
  },
  {
   "cell_type": "code",
   "execution_count": null,
   "metadata": {},
   "outputs": [],
   "source": []
  }
 ],
 "metadata": {
  "kernelspec": {
   "display_name": "Python 3",
   "language": "python",
   "name": "python3"
  },
  "language_info": {
   "codemirror_mode": {
    "name": "ipython",
    "version": 3
   },
   "file_extension": ".py",
   "mimetype": "text/x-python",
   "name": "python",
   "nbconvert_exporter": "python",
   "pygments_lexer": "ipython3",
   "version": "3.8.5"
  }
 },
 "nbformat": 4,
 "nbformat_minor": 4
}
