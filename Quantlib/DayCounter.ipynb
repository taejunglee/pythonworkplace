{
 "cells": [
  {
   "cell_type": "markdown",
   "metadata": {},
   "source": [
    "## DayCounter\n",
    "이자 일수 계산 방식 제공"
   ]
  },
  {
   "cell_type": "markdown",
   "metadata": {},
   "source": [
    "0. ACT = ACTUAL - 실제 일 수 계산\n",
    "1. 일년을 며칠로 볼 것인지 - ACT, 365, 360, 252\n",
    "2. 한달을 며칠로 볼 것인지 - ACT, 30, 영업일\n",
    "3. 한 달 관행/ 일년 관행"
   ]
  },
  {
   "cell_type": "code",
   "execution_count": 1,
   "metadata": {},
   "outputs": [],
   "source": [
    "import QuantLib as ql"
   ]
  },
  {
   "cell_type": "code",
   "execution_count": 2,
   "metadata": {},
   "outputs": [],
   "source": [
    "act360 = ql.Actual360()\n",
    "act365 = ql.Actual365Fixed()\n",
    "actact = ql.ActualActual()\n",
    "Thirty360 = ql.Thirty360()\n",
    "b252 = ql.Business252()"
   ]
  },
  {
   "cell_type": "code",
   "execution_count": 13,
   "metadata": {},
   "outputs": [],
   "source": [
    "date1 = ql.Date(1,1,2020)\n",
    "date2 = ql.Date(20,9,2020)"
   ]
  },
  {
   "cell_type": "code",
   "execution_count": 18,
   "metadata": {},
   "outputs": [
    {
     "name": "stdout",
     "output_type": "stream",
     "text": [
      "Day count by Actual/360 = 263\n",
      "Day count by Actual/365 = 263\n",
      "Day count by Actual/Actual = 263\n",
      "Day count by 30/360 = 259\n",
      "Day count by BusinessDay/252 = 180\n"
     ]
    }
   ],
   "source": [
    "# daycount\n",
    "print(\"Day count by Actual/360 = {}\".format(act360.dayCount(date1, date2)))\n",
    "print(\"Day count by Actual/365 = {}\".format(act365.dayCount(date1, date2)))\n",
    "print(\"Day count by Actual/Actual = {}\".format(actact.dayCount(date1, date2)))\n",
    "print(\"Day count by 30/360 = {}\".format(Thirty360.dayCount(date1, date2)))\n",
    "print(\"Day count by BusinessDay/252 = {}\".format(b252.dayCount(date1, date2)))"
   ]
  },
  {
   "cell_type": "code",
   "execution_count": 25,
   "metadata": {},
   "outputs": [
    {
     "name": "stdout",
     "output_type": "stream",
     "text": [
      "Year Fraction by Actual/360 = 0.7306\n",
      "Year Fraction by Actual/365 = 0.7205\n",
      "Year Fraction by Actual/Actual = 0.7186\n",
      "Year Fraction by 30/360 = 0.7194\n",
      "Year Fraction by BusinessDay/252 = 0.7143\n"
     ]
    }
   ],
   "source": [
    "# YearFraction 주어진 두 날짜 사이의 기간이 연단위로 얼마나 되는지\n",
    "print(\"Year Fraction by Actual/360 = {}\".format(round(act360.yearFraction(date1, date2),4)))\n",
    "print(\"Year Fraction by Actual/365 = {}\".format(round(act365.yearFraction(date1, date2),4)))\n",
    "print(\"Year Fraction by Actual/Actual = {}\".format(round(actact.yearFraction(date1, date2),4)))\n",
    "print(\"Year Fraction by 30/360 = {}\".format(round(Thirty360.yearFraction(date1, date2),4)))\n",
    "print(\"Year Fraction by BusinessDay/252 = {}\".format(round(b252.yearFraction(date1, date2),4)))"
   ]
  },
  {
   "cell_type": "code",
   "execution_count": null,
   "metadata": {},
   "outputs": [],
   "source": []
  }
 ],
 "metadata": {
  "kernelspec": {
   "display_name": "Python 3",
   "language": "python",
   "name": "python3"
  },
  "language_info": {
   "codemirror_mode": {
    "name": "ipython",
    "version": 3
   },
   "file_extension": ".py",
   "mimetype": "text/x-python",
   "name": "python",
   "nbconvert_exporter": "python",
   "pygments_lexer": "ipython3",
   "version": "3.8.5"
  }
 },
 "nbformat": 4,
 "nbformat_minor": 4
}
