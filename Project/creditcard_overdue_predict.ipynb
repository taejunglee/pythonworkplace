{
 "cells": [
  {
   "cell_type": "markdown",
   "metadata": {},
   "source": [
    "# 신용카드 연체 사용자 예측"
   ]
  },
  {
   "cell_type": "code",
   "execution_count": 1,
   "metadata": {},
   "outputs": [],
   "source": [
    "import pandas as pd\n",
    "import numpy as np\n",
    "import matplotlib.pyplot as plt\n",
    "import seaborn as sns\n",
    "from sklearn.model_selection import StratifiedKFold\n",
    "from sklearn.preprocessing import OneHotEncoder\n",
    "import random\n",
    "from collections import Counter\n",
    "import warnings\n",
    "warnings.filterwarnings('ignore')"
   ]
  },
  {
   "cell_type": "code",
   "execution_count": 2,
   "metadata": {},
   "outputs": [
    {
     "data": {
      "text/plain": [
       "((26457, 20), (10000, 19))"
      ]
     },
     "execution_count": 2,
     "metadata": {},
     "output_type": "execute_result"
    }
   ],
   "source": [
    "train = pd.read_csv('train.csv')\n",
    "test = pd.read_csv('test.csv')\n",
    "train.shape, test.shape"
   ]
  },
  {
   "cell_type": "code",
   "execution_count": 3,
   "metadata": {},
   "outputs": [
    {
     "name": "stdout",
     "output_type": "stream",
     "text": [
      "<class 'pandas.core.frame.DataFrame'>\n",
      "RangeIndex: 26457 entries, 0 to 26456\n",
      "Data columns (total 20 columns):\n",
      " #   Column         Non-Null Count  Dtype  \n",
      "---  ------         --------------  -----  \n",
      " 0   index          26457 non-null  int64  \n",
      " 1   gender         26457 non-null  object \n",
      " 2   car            26457 non-null  object \n",
      " 3   reality        26457 non-null  object \n",
      " 4   child_num      26457 non-null  int64  \n",
      " 5   income_total   26457 non-null  float64\n",
      " 6   income_type    26457 non-null  object \n",
      " 7   edu_type       26457 non-null  object \n",
      " 8   family_type    26457 non-null  object \n",
      " 9   house_type     26457 non-null  object \n",
      " 10  DAYS_BIRTH     26457 non-null  int64  \n",
      " 11  DAYS_EMPLOYED  26457 non-null  int64  \n",
      " 12  FLAG_MOBIL     26457 non-null  int64  \n",
      " 13  work_phone     26457 non-null  int64  \n",
      " 14  phone          26457 non-null  int64  \n",
      " 15  email          26457 non-null  int64  \n",
      " 16  occyp_type     18286 non-null  object \n",
      " 17  family_size    26457 non-null  int64  \n",
      " 18  begin_month    26457 non-null  int64  \n",
      " 19  credit         26457 non-null  int64  \n",
      "dtypes: float64(1), int64(11), object(8)\n",
      "memory usage: 4.0+ MB\n"
     ]
    }
   ],
   "source": [
    "train.info()"
   ]
  },
  {
   "cell_type": "markdown",
   "metadata": {},
   "source": [
    "# null값 제거"
   ]
  },
  {
   "cell_type": "code",
   "execution_count": 3,
   "metadata": {},
   "outputs": [],
   "source": [
    "train.fillna('NAN', inplace=True)\n",
    "test.fillna('NAN', inplace=True)"
   ]
  },
  {
   "cell_type": "markdown",
   "metadata": {},
   "source": [
    "# Outlier Drop"
   ]
  },
  {
   "cell_type": "code",
   "execution_count": 5,
   "metadata": {},
   "outputs": [],
   "source": [
    "# def crd_outlier(df=None, column=None, weight=1.5):\n",
    "#     df = df[df['credit']==2][column]\n",
    "#     p25 = np.percentile(df.values, 25)\n",
    "#     p75 = np.percentile(df.values, 75)\n",
    "#     IQR = (p75 - p25) * weight\n",
    "#     low_limit  = p25 - IQR\n",
    "#     high_limit = p75 + IQR\n",
    "#     outlier_idx = df[(df < low_limit) | (df > high_limit)].index.values.tolist()\n",
    "#     return outlier_idx\n",
    "# outlier_idx = crd_outlier(df=train,column=\"income_total\",weight=1.5)"
   ]
  },
  {
   "cell_type": "code",
   "execution_count": 6,
   "metadata": {},
   "outputs": [],
   "source": [
    "# train.drop(outlier_idx, inplace=True)"
   ]
  },
  {
   "cell_type": "markdown",
   "metadata": {},
   "source": [
    "# 파생변수 생성"
   ]
  },
  {
   "cell_type": "code",
   "execution_count": 7,
   "metadata": {},
   "outputs": [],
   "source": [
    "edu_dict = {'Higher education':1, 'Secondary / secondary special':0, 'Incomplete higher':0, 'Lower secondary':0, 'Academic degree':0}\n",
    "ft_dict = {'Married':1, 'Civil marriage':1, 'Separated':0, 'Single / not married':0, 'Widow':0}\n",
    "house_dict = {'House / apartment':1,'Municipal apartment':0,'With parents':0,'Co-op apartment':0, 'Rented apartment':0, 'Office apartment':0}"
   ]
  },
  {
   "cell_type": "code",
   "execution_count": 8,
   "metadata": {},
   "outputs": [],
   "source": [
    "train[\"T_edu_type\"] = train[\"edu_type\"].map(edu_dict)\n",
    "train[\"T_family_type\"] = train[\"family_type\"].map(ft_dict)\n",
    "train[\"T_house_type\"] = train[\"house_type\"].map(house_dict)\n",
    "test[\"T_edu_type\"] = test[\"edu_type\"].map(edu_dict)\n",
    "test[\"T_family_type\"] = test[\"family_type\"].map(ft_dict)\n",
    "test[\"T_house_type\"] = test[\"house_type\"].map(house_dict)"
   ]
  },
  {
   "cell_type": "markdown",
   "metadata": {},
   "source": [
    "----------------------------------------------------------------------------------------------------------------------------------------------------------------"
   ]
  },
  {
   "cell_type": "code",
   "execution_count": 9,
   "metadata": {},
   "outputs": [],
   "source": [
    "train[\"new_member\"] = train[\"begin_month\"].map(lambda x : 'new' if x>-6 else 'old')\n",
    "test[\"new_member\"] = test[\"begin_month\"].map(lambda x : 'new' if x>-6 else 'old')"
   ]
  },
  {
   "cell_type": "code",
   "execution_count": 10,
   "metadata": {},
   "outputs": [],
   "source": [
    "train[\"income_per_person\"] = train[\"income_total\"]//train[\"family_size\"]\n",
    "test[\"income_per_person\"] = test[\"income_total\"]//test[\"family_size\"]"
   ]
  },
  {
   "cell_type": "code",
   "execution_count": 11,
   "metadata": {},
   "outputs": [],
   "source": [
    "gen3_train_idx = train[(train[\"house_type\"]==\"With parents\") & (train[\"child_num\"]>0)].index\n",
    "gen1_train_idx = train[(train[\"house_type\"]!=\"With parents\") & (train[\"child_num\"]==0)].index\n",
    "\n",
    "train[\"T_generation\"]=2\n",
    "train[\"T_generation\"].loc[gen3_train_idx] = 3\n",
    "train[\"T_generation\"].loc[gen1_train_idx] = 1\n",
    "\n",
    "gen3_test_idx = test[(test[\"house_type\"]==\"With parents\") & (test[\"child_num\"]>0)].index\n",
    "gen1_test_idx = test[(test[\"house_type\"]!=\"With parents\") & (test[\"child_num\"]==0)].index\n",
    "\n",
    "test[\"T_generation\"]=2\n",
    "test[\"T_generation\"].loc[gen3_test_idx] = 3\n",
    "test[\"T_generation\"].loc[gen1_test_idx] = 1"
   ]
  },
  {
   "cell_type": "code",
   "execution_count": 12,
   "metadata": {},
   "outputs": [],
   "source": [
    "# train['car_reality'] = train['car'] + train['reality']\n",
    "# test['car_reality'] = test['car'] + test['reality']"
   ]
  },
  {
   "cell_type": "code",
   "execution_count": 13,
   "metadata": {},
   "outputs": [],
   "source": [
    "dic = {'NAN':6, 'Laborers':6, 'Managers':6, 'Sales staff':6, 'High skill tech staff':6, 'Core staff':6, 'Drivers':6,\n",
    "       'Accountants':6, 'Private service staff':6, 'Cooking staff':6,\n",
    "       \"Waiters/barmen staff\": 5, \"Secretaries\": 5,\n",
    "       \"Low-skill Laborers\" :4, \"Realty agents\":4,\n",
    "       \"Cleaning staff\":3,\"Medicine staff\":3,\n",
    "       \"HR staff\":2, \"IT staff\":1, \"Security staff\":0}\n",
    "\n",
    "train[\"T_occyp_type\"] = train[\"occyp_type\"].map(dic)\n",
    "test[\"T_occyp_type\"] = test[\"occyp_type\"].map(dic)"
   ]
  },
  {
   "cell_type": "markdown",
   "metadata": {},
   "source": [
    "--------------------------------------------------------------------------------------------------------------------------------------------------"
   ]
  },
  {
   "cell_type": "code",
   "execution_count": 14,
   "metadata": {},
   "outputs": [],
   "source": [
    "train_duple = train.drop(\"credit\", axis=1)\n",
    "train_test = pd.concat([train_duple, test])\n",
    "c = Counter(list(zip(train_test[\"DAYS_BIRTH\"], train_test[\"gender\"], train_test[\"child_num\"], train_test[\"email\"])))\n",
    "\n",
    "train[\"T_card_num\"] = list(zip(train[\"DAYS_BIRTH\"], train[\"gender\"], train[\"child_num\"], train[\"email\"]))\n",
    "test[\"T_card_num\"] = list(zip(test[\"DAYS_BIRTH\"], test[\"gender\"], test[\"child_num\"], test[\"email\"]))\n",
    "\n",
    "\n",
    "train[\"T_card_num\"] = train[\"T_card_num\"].map(c)\n",
    "test[\"T_card_num\"] = test[\"T_card_num\"].map(c)"
   ]
  },
  {
   "cell_type": "markdown",
   "metadata": {},
   "source": [
    "# Drop columns"
   ]
  },
  {
   "cell_type": "code",
   "execution_count": 15,
   "metadata": {},
   "outputs": [],
   "source": [
    "train['family_size']= train.drop(6.0)['family_size']\n",
    "train['family_size']= train.drop(7.0)['family_size']\n",
    "train['family_size']= train.drop(9.0)['family_size']\n",
    "train['family_size']= train.drop(15.0)['family_size']\n",
    "train['family_size']= train.drop(20.0)['family_size']"
   ]
  },
  {
   "cell_type": "code",
   "execution_count": 16,
   "metadata": {},
   "outputs": [],
   "source": [
    "train['child_num']= train.drop(7)['child_num']\n",
    "train['child_num']= train.drop(14)['child_num']\n",
    "train['child_num']= train.drop(19)['child_num']"
   ]
  },
  {
   "cell_type": "code",
   "execution_count": 17,
   "metadata": {},
   "outputs": [
    {
     "data": {
      "text/plain": [
       "0       -4709.0\n",
       "1       -1540.0\n",
       "3       -2092.0\n",
       "4       -2105.0\n",
       "5       -4996.0\n",
       "          ...  \n",
       "26452   -1984.0\n",
       "26453   -2475.0\n",
       "26454   -2015.0\n",
       "26455    -107.0\n",
       "26456   -1013.0\n",
       "Name: DAYS_EMPLOYED, Length: 25709, dtype: float64"
      ]
     },
     "execution_count": 17,
     "metadata": {},
     "output_type": "execute_result"
    }
   ],
   "source": [
    "train.replace(365243, train[\"DAYS_EMPLOYED\"].mean())['DAYS_EMPLOYED']"
   ]
  },
  {
   "cell_type": "markdown",
   "metadata": {},
   "source": [
    "# DAYS_BIRTH => AGE"
   ]
  },
  {
   "cell_type": "code",
   "execution_count": 18,
   "metadata": {},
   "outputs": [
    {
     "data": {
      "text/plain": [
       "0        39\n",
       "1        32\n",
       "3        42\n",
       "4        42\n",
       "5        37\n",
       "         ..\n",
       "26452    34\n",
       "26453    42\n",
       "26454    28\n",
       "26455    28\n",
       "26456    54\n",
       "Name: AGE, Length: 25709, dtype: int64"
      ]
     },
     "execution_count": 18,
     "metadata": {},
     "output_type": "execute_result"
    }
   ],
   "source": [
    "# 나이로 변환\n",
    "train[\"AGE\"] = abs(train[\"DAYS_BIRTH\"].apply(lambda x : x//365))\n",
    "train[\"AGE\"]"
   ]
  },
  {
   "cell_type": "code",
   "execution_count": 19,
   "metadata": {},
   "outputs": [
    {
     "data": {
      "text/plain": [
       "0       61\n",
       "1       52\n",
       "2       44\n",
       "3       53\n",
       "4       49\n",
       "        ..\n",
       "9995    51\n",
       "9996    30\n",
       "9997    58\n",
       "9998    46\n",
       "9999    26\n",
       "Name: AGE, Length: 10000, dtype: int64"
      ]
     },
     "execution_count": 19,
     "metadata": {},
     "output_type": "execute_result"
    }
   ],
   "source": [
    "test[\"AGE\"] = abs(test[\"DAYS_BIRTH\"].apply(lambda x : x//365))\n",
    "test[\"AGE\"]"
   ]
  },
  {
   "cell_type": "markdown",
   "metadata": {},
   "source": [
    "# DAYS_EMPLOYED => EMPLOYED"
   ]
  },
  {
   "cell_type": "code",
   "execution_count": 20,
   "metadata": {},
   "outputs": [],
   "source": [
    "# 양수값은 모두 무직을 의미하므로 0으로 값 대체\n",
    "train[\"EMPLOYED\"] = train[\"DAYS_EMPLOYED\"].map(lambda x: 0 if x>0 else x)\n",
    "test[\"EMPLOYED\"] = test[\"DAYS_EMPLOYED\"].map(lambda x: 0 if x>0 else x)\n",
    "# 일수 -> 년수로 변경\n",
    "train[\"EMPLOYED\"] = train[\"EMPLOYED\"].map(lambda x: abs(x) // 365 if x<0 else x)\n",
    "test[\"EMPLOYED\"] = test[\"EMPLOYED\"].map(lambda x: abs(x) // 365 if x<0 else x)"
   ]
  },
  {
   "cell_type": "code",
   "execution_count": 21,
   "metadata": {},
   "outputs": [],
   "source": [
    "train[\"EMPLOYED\"] = np.log1p(train[\"EMPLOYED\"])\n",
    "test[\"EMPLOYED\"] = np.log1p(test[\"EMPLOYED\"])"
   ]
  },
  {
   "cell_type": "code",
   "execution_count": 22,
   "metadata": {},
   "outputs": [
    {
     "name": "stdout",
     "output_type": "stream",
     "text": [
      "Skewness: -0.051\n"
     ]
    }
   ],
   "source": [
    "print(\"Skewness: {:.3f}\".format(train[\"EMPLOYED\"].skew()))"
   ]
  },
  {
   "cell_type": "code",
   "execution_count": 23,
   "metadata": {},
   "outputs": [],
   "source": [
    "train.drop(['index','FLAG_MOBIL'], axis=1, inplace=True)\n",
    "test.drop(['index','FLAG_MOBIL'], axis=1, inplace=True)"
   ]
  },
  {
   "cell_type": "code",
   "execution_count": 24,
   "metadata": {},
   "outputs": [
    {
     "data": {
      "text/plain": [
       "['gender',\n",
       " 'car',\n",
       " 'reality',\n",
       " 'income_type',\n",
       " 'edu_type',\n",
       " 'family_type',\n",
       " 'house_type',\n",
       " 'occyp_type',\n",
       " 'new_member']"
      ]
     },
     "execution_count": 24,
     "metadata": {},
     "output_type": "execute_result"
    }
   ],
   "source": [
    "object_features = train.dtypes[train.dtypes == \"object\"].index.tolist()\n",
    "object_features "
   ]
  },
  {
   "cell_type": "markdown",
   "metadata": {},
   "source": [
    "# Normalization"
   ]
  },
  {
   "cell_type": "code",
   "execution_count": 25,
   "metadata": {},
   "outputs": [
    {
     "data": {
      "text/plain": [
       "<AxesSubplot:xlabel='income_total', ylabel='Density'>"
      ]
     },
     "execution_count": 25,
     "metadata": {},
     "output_type": "execute_result"
    },
    {
     "data": {
      "image/png": "[encoded data removed]",
      "text/plain": [
       "<Figure size 432x288 with 1 Axes>"
      ]
     },
     "metadata": {
      "needs_background": "light"
     },
     "output_type": "display_data"
    }
   ],
   "source": [
    "sns.distplot(train['income_total'])"
   ]
  },
  {
   "cell_type": "code",
   "execution_count": 26,
   "metadata": {},
   "outputs": [
    {
     "data": {
      "text/plain": [
       "<AxesSubplot:xlabel='income_total', ylabel='Density'>"
      ]
     },
     "execution_count": 26,
     "metadata": {},
     "output_type": "execute_result"
    },
    {
     "data": {
      "image/png": "[encoded data removed]",
      "text/plain": [
       "<Figure size 432x288 with 1 Axes>"
      ]
     },
     "metadata": {
      "needs_background": "light"
     },
     "output_type": "display_data"
    }
   ],
   "source": [
    "# 로그 변환\n",
    "train['income_total'] = np.log1p(train['income_total'])\n",
    "test['income_total'] = np.log1p(test['income_total'])\n",
    "sns.distplot(train['income_total'])"
   ]
  },
  {
   "cell_type": "markdown",
   "metadata": {},
   "source": [
    "# One-Hot Encoding"
   ]
  },
  {
   "cell_type": "code",
   "execution_count": 27,
   "metadata": {},
   "outputs": [
    {
     "data": {
      "text/plain": [
       "(25709, 67)"
      ]
     },
     "execution_count": 27,
     "metadata": {},
     "output_type": "execute_result"
    }
   ],
   "source": [
    "train = pd.get_dummies(data=train, columns=object_features)\n",
    "train.shape"
   ]
  },
  {
   "cell_type": "code",
   "execution_count": 28,
   "metadata": {},
   "outputs": [
    {
     "data": {
      "text/plain": [
       "(10000, 66)"
      ]
     },
     "execution_count": 28,
     "metadata": {},
     "output_type": "execute_result"
    }
   ],
   "source": [
    "test = pd.get_dummies(data=test, columns=object_features)\n",
    "test.shape"
   ]
  },
  {
   "cell_type": "markdown",
   "metadata": {},
   "source": [
    "# Training"
   ]
  },
  {
   "cell_type": "code",
   "execution_count": 29,
   "metadata": {},
   "outputs": [],
   "source": [
    "from xgboost import XGBClassifier\n",
    "from sklearn.metrics import log_loss\n",
    "from tensorflow.keras.utils import to_categorical"
   ]
  },
  {
   "cell_type": "code",
   "execution_count": 30,
   "metadata": {},
   "outputs": [],
   "source": [
    "X = train.drop(['credit'],axis=1)\n",
    "y = train[['credit']]"
   ]
  },
  {
   "cell_type": "code",
   "execution_count": 31,
   "metadata": {},
   "outputs": [
    {
     "name": "stdout",
     "output_type": "stream",
     "text": [
      "====================================1============================================\n",
      "[14:21:59] WARNING: C:/Users/Administrator/workspace/xgboost-win64_release_1.3.0/src/learner.cc:541: \n",
      "Parameters: { min_child_samples } might not be used.\n",
      "\n",
      "  This may not be accurate due to some parameters are only used in language bindings but\n",
      "  passed down to XGBoost core.  Or some parameters are not used but slip through this\n",
      "  verification. Please open an issue if you find above cases.\n",
      "\n",
      "\n",
      "[0]\tvalidation_0-mlogloss:1.09388\n",
      "[100]\tvalidation_0-mlogloss:0.82813\n",
      "[200]\tvalidation_0-mlogloss:0.73716\n",
      "[300]\tvalidation_0-mlogloss:0.70145\n",
      "[400]\tvalidation_0-mlogloss:0.68762\n",
      "[500]\tvalidation_0-mlogloss:0.68280\n",
      "[585]\tvalidation_0-mlogloss:0.68265\n",
      "================================================================================\n",
      "\n",
      "\n",
      "====================================2============================================\n",
      "[14:22:59] WARNING: C:/Users/Administrator/workspace/xgboost-win64_release_1.3.0/src/learner.cc:541: \n",
      "Parameters: { min_child_samples } might not be used.\n",
      "\n",
      "  This may not be accurate due to some parameters are only used in language bindings but\n",
      "  passed down to XGBoost core.  Or some parameters are not used but slip through this\n",
      "  verification. Please open an issue if you find above cases.\n",
      "\n",
      "\n",
      "[0]\tvalidation_0-mlogloss:1.09397\n",
      "[100]\tvalidation_0-mlogloss:0.83335\n",
      "[200]\tvalidation_0-mlogloss:0.74465\n",
      "[300]\tvalidation_0-mlogloss:0.70916\n",
      "[400]\tvalidation_0-mlogloss:0.69530\n",
      "[500]\tvalidation_0-mlogloss:0.69034\n",
      "[570]\tvalidation_0-mlogloss:0.69005\n",
      "================================================================================\n",
      "\n",
      "\n",
      "====================================3============================================\n",
      "[14:23:57] WARNING: C:/Users/Administrator/workspace/xgboost-win64_release_1.3.0/src/learner.cc:541: \n",
      "Parameters: { min_child_samples } might not be used.\n",
      "\n",
      "  This may not be accurate due to some parameters are only used in language bindings but\n",
      "  passed down to XGBoost core.  Or some parameters are not used but slip through this\n",
      "  verification. Please open an issue if you find above cases.\n",
      "\n",
      "\n",
      "[0]\tvalidation_0-mlogloss:1.09392\n",
      "[100]\tvalidation_0-mlogloss:0.83564\n",
      "[200]\tvalidation_0-mlogloss:0.75168\n",
      "[300]\tvalidation_0-mlogloss:0.71996\n",
      "[400]\tvalidation_0-mlogloss:0.70846\n",
      "[500]\tvalidation_0-mlogloss:0.70553\n",
      "[519]\tvalidation_0-mlogloss:0.70571\n",
      "================================================================================\n",
      "\n",
      "\n",
      "====================================4============================================\n",
      "[14:24:53] WARNING: C:/Users/Administrator/workspace/xgboost-win64_release_1.3.0/src/learner.cc:541: \n",
      "Parameters: { min_child_samples } might not be used.\n",
      "\n",
      "  This may not be accurate due to some parameters are only used in language bindings but\n",
      "  passed down to XGBoost core.  Or some parameters are not used but slip through this\n",
      "  verification. Please open an issue if you find above cases.\n",
      "\n",
      "\n",
      "[0]\tvalidation_0-mlogloss:1.09420\n",
      "[100]\tvalidation_0-mlogloss:0.83631\n",
      "[200]\tvalidation_0-mlogloss:0.75064\n",
      "[300]\tvalidation_0-mlogloss:0.71781\n",
      "[400]\tvalidation_0-mlogloss:0.70584\n",
      "[500]\tvalidation_0-mlogloss:0.70177\n",
      "[556]\tvalidation_0-mlogloss:0.70190\n",
      "================================================================================\n",
      "\n",
      "\n",
      "====================================5============================================\n",
      "[14:26:00] WARNING: C:/Users/Administrator/workspace/xgboost-win64_release_1.3.0/src/learner.cc:541: \n",
      "Parameters: { min_child_samples } might not be used.\n",
      "\n",
      "  This may not be accurate due to some parameters are only used in language bindings but\n",
      "  passed down to XGBoost core.  Or some parameters are not used but slip through this\n",
      "  verification. Please open an issue if you find above cases.\n",
      "\n",
      "\n",
      "[0]\tvalidation_0-mlogloss:1.09393\n",
      "[100]\tvalidation_0-mlogloss:0.83550\n",
      "[200]\tvalidation_0-mlogloss:0.75140\n",
      "[300]\tvalidation_0-mlogloss:0.72025\n",
      "[400]\tvalidation_0-mlogloss:0.71014\n",
      "[493]\tvalidation_0-mlogloss:0.70850\n",
      "================================================================================\n",
      "\n",
      "\n"
     ]
    }
   ],
   "source": [
    "skf = StratifiedKFold(n_splits=5, shuffle=True, random_state=42)\n",
    "folds=[]\n",
    "for train_idx, valid_idx in skf.split(train, train['credit']):\n",
    "    folds.append((train_idx, valid_idx))\n",
    "\n",
    "random.seed(42)\n",
    "xgb_models={}\n",
    "xgb_outcomes = []\n",
    "\n",
    "for fold in range(5):\n",
    "    print(f'===================================={fold+1}============================================')\n",
    "    train_idx, valid_idx = folds[fold]\n",
    "    X_train, X_valid = X.iloc[train_idx], X.iloc[valid_idx]\n",
    "    y_train, y_valid = y.iloc[train_idx], y.iloc[valid_idx]\n",
    "    xgb=XGBClassifier(max_depth=18,\n",
    "                      n_estimators=1000,\n",
    "                      min_child_weight=0.5, \n",
    "                      min_child_samples=3, \n",
    "                      learning_rate =0.01,\n",
    "                      colsample_bytree=0.3)\n",
    "    evals = [(X_valid,y_valid)]\n",
    "    xgb.fit(X_train, y_train,\n",
    "               early_stopping_rounds=30, \n",
    "               eval_metric='mlogloss',\n",
    "               eval_set=evals,\n",
    "               verbose=100)\n",
    "    \n",
    "    predictions = xgb.predict_proba(X_valid)\n",
    "    logloss = log_loss(to_categorical(y_valid['credit']), predictions)\n",
    "    xgb_outcomes.append(logloss)\n",
    "\n",
    "    xgb_models[fold]=xgb\n",
    "    \n",
    "    print(f'================================================================================\\n\\n')"
   ]
  },
  {
   "cell_type": "code",
   "execution_count": 32,
   "metadata": {},
   "outputs": [
    {
     "name": "stdout",
     "output_type": "stream",
     "text": [
      "Mean:0.6975099206943641\n"
     ]
    }
   ],
   "source": [
    "mean_outcome = np.mean(xgb_outcomes)\n",
    "print(f\"Mean:{mean_outcome}\") #0.6959 #0.68"
   ]
  },
  {
   "cell_type": "code",
   "execution_count": 33,
   "metadata": {},
   "outputs": [],
   "source": [
    "submit = pd.read_csv('sample_submission.csv')"
   ]
  },
  {
   "cell_type": "code",
   "execution_count": 34,
   "metadata": {},
   "outputs": [],
   "source": [
    "submit.iloc[:,1:]=0\n",
    "for fold in range(5):\n",
    "    submit.iloc[:,1:] += xgb_models[fold].predict_proba(test)/5"
   ]
  },
  {
   "cell_type": "code",
   "execution_count": 35,
   "metadata": {},
   "outputs": [],
   "source": [
    "submit.to_csv('submit8.csv', index=False) "
   ]
  },
  {
   "cell_type": "code",
   "execution_count": null,
   "metadata": {},
   "outputs": [],
   "source": []
  }
 ],
 "metadata": {
  "kernelspec": {
   "display_name": "Python 3",
   "language": "python",
   "name": "python3"
  },
  "language_info": {
   "codemirror_mode": {
    "name": "ipython",
    "version": 3
   },
   "file_extension": ".py",
   "mimetype": "text/x-python",
   "name": "python",
   "nbconvert_exporter": "python",
   "pygments_lexer": "ipython3",
   "version": "3.8.5"
  }
 },
 "nbformat": 4,
 "nbformat_minor": 4
}
