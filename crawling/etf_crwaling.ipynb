{
 "cells": [
  {
   "cell_type": "code",
   "execution_count": null,
   "id": "1f1fddfe-b69b-4c53-b2f7-b219c5c60d78",
   "metadata": {},
   "outputs": [],
   "source": []
  },
  {
   "cell_type": "code",
   "execution_count": 13,
   "id": "ed06a93f-7668-4385-9dd1-8214ee404faf",
   "metadata": {},
   "outputs": [],
   "source": [
    "import requests\n",
    "import json\n",
    "from pandas import json_normalize\n",
    "import pandas as pd"
   ]
  },
  {
   "cell_type": "code",
   "execution_count": 16,
   "id": "d116e391-9e4b-4c7b-a2cc-0c7c2f625262",
   "metadata": {},
   "outputs": [],
   "source": [
    "url = 'https://finance.naver.com/api/sise/etfItemList.nhn' \n",
    "json_data = json.loads(requests.get(url).text) \n",
    "df_etf_list = pd.json_normalize(json_data['result']['etfItemList'])\n",
    "df_etf_list.to_excel('etf_list.xlsx')\n"
   ]
  },
  {
   "cell_type": "code",
   "execution_count": null,
   "id": "b210af32-ff05-4f91-837c-64be10c2fbc0",
   "metadata": {},
   "outputs": [],
   "source": []
  }
 ],
 "metadata": {
  "kernelspec": {
   "display_name": "Python 3",
   "language": "python",
   "name": "python3"
  },
  "language_info": {
   "codemirror_mode": {
    "name": "ipython",
    "version": 3
   },
   "file_extension": ".py",
   "mimetype": "text/x-python",
   "name": "python",
   "nbconvert_exporter": "python",
   "pygments_lexer": "ipython3",
   "version": "3.7.7"
  }
 },
 "nbformat": 4,
 "nbformat_minor": 5
}
