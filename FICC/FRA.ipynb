{
 "cells": [
  {
   "cell_type": "markdown",
   "metadata": {},
   "source": [
    "# FRA(선도금리계약)"
   ]
  },
  {
   "cell_type": "markdown",
   "metadata": {},
   "source": [
    "- 미래의 단기 금리 리스크를 헷지하기 위해 고안된 파생상품\n",
    "- 금리 상승리스크 투자자 -> FRA매수로 리스크 헷지\n",
    "- 금리 하락리스크 투자자 -> FRA매도로 리스크 헷지\n",
    "- 금리 방향성 특정 가능한 경우 네이키드 FRA포지션으로 방향성 매매"
   ]
  },
  {
   "cell_type": "markdown",
   "metadata": {},
   "source": [
    "# SWAP_CURVE 모듈 불러오기"
   ]
  },
  {
   "cell_type": "code",
   "execution_count": 1,
   "metadata": {},
   "outputs": [],
   "source": [
    "import datetime\n",
    "import QuantLib as ql\n",
    "from SWAP_CURVE import GET_QUOTE, SWAP_CURVE"
   ]
  },
  {
   "cell_type": "markdown",
   "metadata": {},
   "source": [
    "---------------------------------------------------------"
   ]
  },
  {
   "cell_type": "markdown",
   "metadata": {},
   "source": [
    "- init = 클래스 내부의 속성 초기화 역할, 입력변수 있다면 그 변수를 내부화\n",
    "- 평가일자, 정산일자, 만기일자, 포지션, FRA금리, 명목금액 외부로부터 내부화"
   ]
  },
  {
   "cell_type": "code",
   "execution_count": 2,
   "metadata": {},
   "outputs": [],
   "source": [
    "class FRA():\n",
    "    def __init__(self, todays_date, value_date, maturity_date, position, fra_rate, notional):\n",
    "        \n",
    "        # Initial Setup 1 : Date & Curve\n",
    "        self.date = todays_date\n",
    "        self.curve = self.CURVE(self.date)\n",
    "        \n",
    "        # Initial Setup 2 : Instruments Info\n",
    "        self.value_date = ql.Date(value_date.day, value_date.month, value_date.year)\n",
    "        self.maturity_date = ql.Date(maturity_date.day, maturity_date.month, maturity_date.year)\n",
    "        \n",
    "        if position =='Long':\n",
    "            self.position = ql.Position.Long\n",
    "        else:\n",
    "            self.position = ql.Position.Short\n",
    "            \n",
    "        self.fra_rate = fra_rate\n",
    "        self.notional = notional\n",
    "        \n",
    "        # Pricing Results ( 클래스 내에서 구현한 다른 메서드를 속성 처럼 )\n",
    "        self.npv = self.PRICING(self.curve)\n",
    "        self.delta = self.DELTA()\n",
    "        self.theta = self.THETA()\n",
    "    def CURVE(self, date):\n",
    "        return SWAP_CURVE(date, GET_QUOTE(date)) \n",
    "    def PRICING(self, curve):\n",
    "        # Yield Term-structure\n",
    "        curve_handle = ql.YieldTermStructureHandle(curve)\n",
    "    \n",
    "        # Floating rate\n",
    "        libor = ql.USDLibor(ql.Period(3, ql.Months), curve_handle)\n",
    "    \n",
    "        # Pricing FRA\n",
    "        fra = ql.ForwardRateAgreement(self.value_date,\n",
    "                                     self.maturity_date,\n",
    "                                     self.position,\n",
    "                                     self.fra_rate,\n",
    "                                     self.notional,\n",
    "                                     libor,\n",
    "                                     curve_handle)\n",
    "        # FRA price\n",
    "        npv = fra.NPV()\n",
    "    \n",
    "        return npv\n",
    "    def DELTA(self):\n",
    "        curve_handle = ql.YieldTermStructureHandle(self.curve)\n",
    "    \n",
    "        # 1bp\n",
    "        basis_point = 0.0001\n",
    "    \n",
    "        # FRA price when 1bp up\n",
    "        up_curve = ql.ZeroSpreadedTermStructure(curve_handle, ql.QuoteHandle(ql.SimpleQuote(basis_point)))\n",
    "        #up_curve_handle = ql.YieldTermStructureHandle(up_curve)\n",
    "        up_fra = self.PRICING(up_curve)\n",
    "    \n",
    "        # FRA price when 1bp down\n",
    "        down_curve = ql.ZeroSpreadedTermStructure(curve_handle, ql.QuoteHandle(ql.SimpleQuote(-basis_point)))\n",
    "        #down_curve_handle = ql.YieldTermStructureHandle(down_curve)\n",
    "        down_fra = self.PRICING(down_curve)\n",
    "    \n",
    "        # DV01\n",
    "        dv01 = (up_fra - down_fra) / 2\n",
    "    \n",
    "        return dv01\n",
    "    def THETA(self):\n",
    "        price_t0 = self.PRICING(self.CURVE(self.date))\n",
    "        price_t1 = self.PRICING(self.CURVE(self.date + datetime.timedelta(days=1)))\n",
    "    \n",
    "        return price_t1 - price_t0"
   ]
  },
  {
   "cell_type": "markdown",
   "metadata": {},
   "source": [
    "curve = 기존의 스왑 커브 모듈을 재활용하여 클래스 내부에서 스왑 커브를 만들어주는 역할"
   ]
  },
  {
   "cell_type": "markdown",
   "metadata": {},
   "source": [
    "- 델타: 기초자산의 가격이 한 단위 변했을 때 파생상품 가격이 얼마나 변하는가\n",
    "- 커브가 1bp 상승했을 때/하락했을 때"
   ]
  },
  {
   "cell_type": "markdown",
   "metadata": {},
   "source": [
    "# TEST"
   ]
  },
  {
   "cell_type": "code",
   "execution_count": 3,
   "metadata": {},
   "outputs": [
    {
     "name": "stdout",
     "output_type": "stream",
     "text": [
      "Price = 529.9903\n",
      "Price = 249.8317\n",
      "Price = -0.6453\n"
     ]
    }
   ],
   "source": [
    "if __name__ == \"__main__\":\n",
    "    \n",
    "    # Today's Date\n",
    "    todays_date = datetime.date(2020, 10, 9)\n",
    "    \n",
    "    # FRA Instrument Setup\n",
    "    value_date = datetime.date(2021, 1, 9)\n",
    "    maturity_date = datetime.date(2021, 4, 9)\n",
    "    position = 'Long'\n",
    "    fra_rate = 0.0022\n",
    "    notional = 10000000\n",
    "    \n",
    "    # Build FRA object\n",
    "    fra = FRA(todays_date,\n",
    "             value_date,\n",
    "             maturity_date,\n",
    "             position,\n",
    "             fra_rate,\n",
    "             notional)\n",
    "    \n",
    "    # Print Results\n",
    "    print(\"Price = {}\".format(round(fra.npv, 4)))\n",
    "    print(\"Price = {}\".format(round(fra.delta, 4)))\n",
    "    print(\"Price = {}\".format(round(fra.theta, 4)))"
   ]
  },
  {
   "cell_type": "code",
   "execution_count": null,
   "metadata": {},
   "outputs": [],
   "source": []
  },
  {
   "cell_type": "code",
   "execution_count": null,
   "metadata": {},
   "outputs": [],
   "source": []
  }
 ],
 "metadata": {
  "kernelspec": {
   "display_name": "Python 3",
   "language": "python",
   "name": "python3"
  },
  "language_info": {
   "codemirror_mode": {
    "name": "ipython",
    "version": 3
   },
   "file_extension": ".py",
   "mimetype": "text/x-python",
   "name": "python",
   "nbconvert_exporter": "python",
   "pygments_lexer": "ipython3",
   "version": "3.8.5"
  }
 },
 "nbformat": 4,
 "nbformat_minor": 4
}
