{
 "cells": [
  {
   "cell_type": "markdown",
   "metadata": {},
   "source": [
    "## Black-Scholes"
   ]
  },
  {
   "cell_type": "code",
   "execution_count": 2,
   "metadata": {},
   "outputs": [],
   "source": [
    "import QuantLib as ql"
   ]
  },
  {
   "cell_type": "code",
   "execution_count": 3,
   "metadata": {},
   "outputs": [],
   "source": [
    "valuationDate = ql.Date(17, 4, 2020)\n",
    "ql.Settings.instance().evaluationDate = valuationDate # 평가기준일 설정\n",
    "calendar = ql.SouthKorea()\n",
    "dayCount = ql.ActualActual()"
   ]
  },
  {
   "cell_type": "code",
   "execution_count": 4,
   "metadata": {},
   "outputs": [],
   "source": [
    "underlying_qt = ql.SimpleQuote(270.48) # 기초자산가격\n",
    "dividend_qt = ql.SimpleQuote(0.0) # 배당률\n",
    "riskfreerate_qt = ql.SimpleQuote(0.01) # 무위험금리\n",
    "volatility_qt = ql.SimpleQuote(0.13) # 변동성"
   ]
  },
  {
   "cell_type": "code",
   "execution_count": 5,
   "metadata": {},
   "outputs": [],
   "source": [
    "# Handel - Simple 값이 변해도 바로 받아들일수 있게,\n",
    "u_qhd = ql.QuoteHandle(underlying_qt)\n",
    "q_qhd = ql.QuoteHandle(dividend_qt)\n",
    "r_qhd = ql.QuoteHandle(riskfreerate_qt)\n",
    "v_qhd = ql.QuoteHandle(volatility_qt)"
   ]
  },
  {
   "cell_type": "markdown",
   "metadata": {},
   "source": [
    "Term-Structure Objects"
   ]
  },
  {
   "cell_type": "code",
   "execution_count": 6,
   "metadata": {},
   "outputs": [],
   "source": [
    "r_ts = ql.FlatForward(valuationDate, r_qhd, dayCount)\n",
    "d_ts = ql.FlatForward(valuationDate, q_qhd, dayCount)\n",
    "v_ts = ql.BlackConstantVol(valuationDate, calendar, v_qhd, dayCount)\n",
    "\n",
    "# 만기에 따른 기간구조 형성하는 것 3가지"
   ]
  },
  {
   "cell_type": "markdown",
   "metadata": {},
   "source": [
    "Term-Structure Handle Objects"
   ]
  },
  {
   "cell_type": "code",
   "execution_count": 8,
   "metadata": {},
   "outputs": [],
   "source": [
    "r_thd = ql.YieldTermStructureHandle(r_ts)\n",
    "d_thd = ql.YieldTermStructureHandle(d_ts)\n",
    "v_thd = ql.BlackVolTermStructureHandle(v_ts)\n",
    "# 앞과 같이 Handle에 넘겨주는 작업"
   ]
  },
  {
   "cell_type": "markdown",
   "metadata": {},
   "source": [
    "Process & Engine"
   ]
  },
  {
   "cell_type": "code",
   "execution_count": 9,
   "metadata": {},
   "outputs": [],
   "source": [
    "process = ql.BlackScholesMertonProcess(u_qhd, d_thd, r_thd, v_thd)\n",
    "# 시장 데이터가 어떤 확률과정을 따를지\n",
    "engine = ql.AnalyticEuropeanEngine(process)\n",
    "# 어떤 방법 사용하는 엔진인지"
   ]
  },
  {
   "cell_type": "markdown",
   "metadata": {},
   "source": [
    "Option Objects"
   ]
  },
  {
   "cell_type": "code",
   "execution_count": 16,
   "metadata": {},
   "outputs": [],
   "source": [
    "option_type = ql.Option.Call\n",
    "strikePrice = 272                                        #행사가\n",
    "expiryDate = ql.Date(31,12,2021)\n",
    "exercise = ql.EuropeanExercise(expiryDate)\n",
    "payoff = ql.PlainVanillaPayoff(option_type, strikePrice)\n",
    "option = ql.VanillaOption(payoff, exercise)"
   ]
  },
  {
   "cell_type": "markdown",
   "metadata": {},
   "source": [
    "Pricing"
   ]
  },
  {
   "cell_type": "code",
   "execution_count": 18,
   "metadata": {},
   "outputs": [],
   "source": [
    "option.setPricingEngine(engine)"
   ]
  },
  {
   "cell_type": "markdown",
   "metadata": {},
   "source": [
    "Price & Greeks Results"
   ]
  },
  {
   "cell_type": "code",
   "execution_count": 19,
   "metadata": {},
   "outputs": [
    {
     "name": "stdout",
     "output_type": "stream",
     "text": [
      "Option Premium = 12.7\n",
      "Option Delta = 0.6558\n",
      "Option Gamma = 0.0173\n",
      "Option Theta = -0.0109\n",
      "Option Vega = 1.3217\n",
      "Option Rho = 2.8584\n"
     ]
    }
   ],
   "source": [
    "print(\"Option Premium =\", round(option.NPV(), 2))\n",
    "print(\"Option Delta =\", round(option.delta(), 4))\n",
    "print(\"Option Gamma =\", round(option.gamma(), 4))\n",
    "print(\"Option Theta =\", round(option.thetaPerDay(), 4))\n",
    "print(\"Option Vega =\", round(option.vega()/ 100, 4))\n",
    "print(\"Option Rho =\", round(option.rho()/ 100, 4))"
   ]
  },
  {
   "cell_type": "markdown",
   "metadata": {},
   "source": [
    "Automatic Re-Pricing 주가가 변했을 때"
   ]
  },
  {
   "cell_type": "code",
   "execution_count": 20,
   "metadata": {},
   "outputs": [
    {
     "name": "stdout",
     "output_type": "stream",
     "text": [
      "Option Premium = 12.7\n",
      "Option Delta = 0.6558\n",
      "Option Gamma = 0.0173\n",
      "Option Theta = -0.0109\n",
      "Option Vega = 1.3217\n",
      "Option Rho = 2.8584\n"
     ]
    }
   ],
   "source": [
    "underlying_qt.setValue(275) # 주가가 275로 변했을 때\n",
    "print(\"Option Premium =\", round(option.NPV(), 2))\n",
    "print(\"Option Delta =\", round(option.delta(), 4))\n",
    "print(\"Option Gamma =\", round(option.gamma(), 4))\n",
    "print(\"Option Theta =\", round(option.thetaPerDay(), 4))\n",
    "print(\"Option Vega =\", round(option.vega()/ 100, 4))\n",
    "print(\"Option Rho =\", round(option.rho()/ 100, 4))"
   ]
  },
  {
   "cell_type": "markdown",
   "metadata": {},
   "source": [
    "Implied Volatility (내재변동성 구하기)"
   ]
  },
  {
   "cell_type": "code",
   "execution_count": 21,
   "metadata": {},
   "outputs": [
    {
     "name": "stdout",
     "output_type": "stream",
     "text": [
      "Option Premium = 8.21\n",
      "Option Delta = 0.8474\n",
      "Option Gamma = 0.031\n",
      "Option Theta = -0.0076\n",
      "Option Vega = 0.8467\n",
      "Option Rho = 3.8333\n"
     ]
    }
   ],
   "source": [
    "mkt_price = 8.21 # 콜옵션 가격\n",
    "implied_volatility = option.impliedVolatility(mkt_price, process)\n",
    "volatility_qt.setValue(implied_volatility) # 옵션의 시장가격과 확률과정을 받음\n",
    "print(\"Option Premium =\", round(option.NPV(), 2))\n",
    "print(\"Option Delta =\", round(option.delta(), 4))\n",
    "print(\"Option Gamma =\", round(option.gamma(), 4))\n",
    "print(\"Option Theta =\", round(option.thetaPerDay(), 4))\n",
    "print(\"Option Vega =\", round(option.vega()/ 100, 4))\n",
    "print(\"Option Rho =\", round(option.rho()/ 100, 4))"
   ]
  },
  {
   "cell_type": "code",
   "execution_count": null,
   "metadata": {},
   "outputs": [],
   "source": []
  },
  {
   "cell_type": "code",
   "execution_count": null,
   "metadata": {},
   "outputs": [],
   "source": []
  }
 ],
 "metadata": {
  "kernelspec": {
   "display_name": "Python 3",
   "language": "python",
   "name": "python3"
  },
  "language_info": {
   "codemirror_mode": {
    "name": "ipython",
    "version": 3
   },
   "file_extension": ".py",
   "mimetype": "text/x-python",
   "name": "python",
   "nbconvert_exporter": "python",
   "pygments_lexer": "ipython3",
   "version": "3.8.5"
  }
 },
 "nbformat": 4,
 "nbformat_minor": 4
}
