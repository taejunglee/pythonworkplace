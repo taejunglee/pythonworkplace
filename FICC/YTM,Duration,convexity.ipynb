{
 "cells": [
  {
   "cell_type": "markdown",
   "metadata": {},
   "source": [
    "# 채권 민감도 지표"
   ]
  },
  {
   "cell_type": "code",
   "execution_count": 2,
   "metadata": {},
   "outputs": [],
   "source": [
    "import numpy as np\n",
    "import pandas as pd\n",
    "import matplotlib.pyplot as plt\n",
    "import datetime\n",
    "from bs4 import BeautifulSoup\n",
    "from selenium import webdriver\n",
    "import QuantLib as ql\n",
    "options = webdriver.ChromeOptions()\n",
    "options.add_argument('headless')"
   ]
  },
  {
   "cell_type": "markdown",
   "metadata": {},
   "source": [
    "# 금리 커브 모델 가져오기"
   ]
  },
  {
   "cell_type": "code",
   "execution_count": 3,
   "metadata": {},
   "outputs": [],
   "source": [
    "def GET_DATE():\n",
    "    driver = webdriver.Chrome('C:\\it\\python_workspace\\chromedriver', options=options)\n",
    "    driver.get(\"https://www.wsj.com/market-data/bonds\")\n",
    "    html = driver.page_source    \n",
    "    soup = BeautifulSoup(html, 'html.parser')\n",
    "    data = soup.find(\"span\", class_=\"WSJBase--card__timestamp--3F2HxyAE\")\n",
    "    date = data.text\n",
    "    date = date.split(' ')[3]\n",
    "    date = datetime.datetime.strptime(date, \"%m/%d/%y\").date()\n",
    "    return date"
   ]
  },
  {
   "cell_type": "code",
   "execution_count": 4,
   "metadata": {},
   "outputs": [],
   "source": [
    "def GET_QUOTE(reference_date):\n",
    "    driver = webdriver.Chrome('C:\\it\\python_workspace\\chromedriver', options=options)\n",
    "    tenors = ['01M', '03M', '06M', '01Y', '02Y', '03Y', '05Y', '07Y', '10Y', '30Y']\n",
    "    \n",
    "    # Create Empty Lists\n",
    "    maturities = []\n",
    "    days = []\n",
    "    prices = []\n",
    "    coupons = []\n",
    "    \n",
    "    # Get Market Information    \n",
    "    for i, tenor in enumerate(tenors):\n",
    "        driver.get(\"https://quotes.wsj.com/bond/BX/TMUBMUSD\" + tenor + \"?mod=md_bond_overview_quote\")\n",
    "        html = driver.page_source\n",
    "        soup = BeautifulSoup(html, 'html.parser')\n",
    "        \n",
    "        # Price\n",
    "        if i <= 3:\n",
    "            data_src = soup.find(\"span\", id=\"quote_val\")\n",
    "            price = data_src.text\n",
    "            price = float(price[:-1])\n",
    "        else:\n",
    "            data_src = soup.find(\"span\", id=\"price_quote_val\")\n",
    "            price = data_src.text\n",
    "            price = price.split()\n",
    "            price1 = float(price[0])\n",
    "            price = price[1].split('/')\n",
    "            price2 = float(price[0])\n",
    "            price3 = float(price[1])            \n",
    "            price = price1 + (price2 / price3)  \n",
    "            \n",
    "        data_src2 = soup.find_all(\"span\", class_=\"data_data\")\n",
    "         # Coupon\n",
    "        coupon = data_src2[2].text\n",
    "        if coupon != '':\n",
    "            coupon = float(coupon[:-1])\n",
    "        else:\n",
    "            coupon = 0.0\n",
    "        \n",
    "        # Maturity Date\n",
    "        maturity = data_src2[3].text\n",
    "        maturity = datetime.datetime.strptime(maturity, '%m/%d/%y').date()\n",
    "        \n",
    "        # Send to Lists\n",
    "        days.append((maturity - reference_date).days)\n",
    "        prices.append(price)\n",
    "        coupons.append(coupon)\n",
    "        maturities.append(maturity)\n",
    "    \n",
    "    # Create DataFrame\n",
    "    df = pd.DataFrame([maturities, days, prices, coupons]).transpose()\n",
    "    headers = ['maturity', 'days', 'price', 'coupon']\n",
    "    df.columns = headers\n",
    "    df.set_index('maturity', inplace=True)\n",
    "    \n",
    "    return df"
   ]
  },
  {
   "cell_type": "code",
   "execution_count": 5,
   "metadata": {},
   "outputs": [],
   "source": [
    "def TREASURY_CURVE(date, quote):\n",
    "    \n",
    "    # Divide Quotes\n",
    "    tbill = quote[0:4]\n",
    "    tbond = quote[4:]\n",
    "    # 평가일 설정\n",
    "    eval_date = ql.Date(date.day, date.month, date.year)\n",
    "    ql.Settings.instance().evaluationDate = eval_date\n",
    "    # 마켓 컨벤션 설정 #달력,금리설정일,이자계산방식,정산일자선정방식,명목금액,이자정산주기\n",
    "    calendar = ql.UnitedStates()\n",
    "    convention = ql.ModifiedFollowing\n",
    "    day_counter = ql.ActualActual()\n",
    "    end_of_month = True\n",
    "    fixing_days = 1\n",
    "    face_amount = 100\n",
    "    coupon_frequency = ql.Period(ql.Semiannual)\n",
    "    #Deposit Rate Helper\n",
    "    #DepositRateHelper-무이표채에적용,\n",
    "    #FixedRateBondHelper-이표채에적용\n",
    "    bill_helpers = [ql.DepositRateHelper(ql.QuoteHandle(ql.SimpleQuote(r/100.0)),\n",
    "                                        ql.Period(m, ql.Days),\n",
    "                                        fixing_days,\n",
    "                                        calendar,\n",
    "                                        convention,\n",
    "                                        end_of_month,\n",
    "                                        day_counter)\n",
    "                   for r, m in zip(tbill['price'], tbill['days'])]\n",
    "                #for 문으로 무이표채 금리와 잔존일수 데이터 입력\n",
    "    # Construct Treasury Bond Helpers [ Fixed Bond Rate Helper ]\n",
    "    bond_helpers = []\n",
    "    for p, c, m in zip(tbond['price'], tbond['coupon'], tbond['days']):\n",
    "        termination_date = eval_date + ql.Period(m, ql.Days)\n",
    "        schedule = ql.Schedule(eval_date,\n",
    "                              termination_date,\n",
    "                              coupon_frequency,\n",
    "                              calendar,\n",
    "                              convention,\n",
    "                              convention,\n",
    "                              ql.DateGeneration.Backward,\n",
    "                              end_of_month)\n",
    "        bond_helper = ql.FixedRateBondHelper(ql.QuoteHandle(ql.SimpleQuote(p)),\n",
    "                                            fixing_days,\n",
    "                                             face_amount,\n",
    "                                             schedule,\n",
    "                                             [c/100.0],\n",
    "                                             day_counter,\n",
    "                                             convention)\n",
    "        bond_helpers.append(bond_helper)\n",
    "        # FixedRateBondHelper - 이표채 이자지급스케쥴 생성\n",
    "    # 헬퍼 결합(무이표채 + 이표채)\n",
    "    rate_helper = bill_helpers + bond_helpers\n",
    "    # 헬퍼를 커브 모듈에 태우기\n",
    "    yc_linearzero = ql.PiecewiseLinearZero(eval_date, rate_helper, day_counter)\n",
    "    return yc_linearzero"
   ]
  },
  {
   "cell_type": "markdown",
   "metadata": {},
   "source": [
    "# 민감도 구하기"
   ]
  },
  {
   "cell_type": "code",
   "execution_count": 8,
   "metadata": {},
   "outputs": [],
   "source": [
    "# Import Reference Curve Date\n",
    "\n",
    "ref_date = GET_DATE()\n",
    "quote = GET_QUOTE(ref_date)\n",
    "curve = TREASURY_CURVE(ref_date, quote)"
   ]
  },
  {
   "cell_type": "code",
   "execution_count": 9,
   "metadata": {},
   "outputs": [],
   "source": [
    "# Convert into Engine\n",
    "spotCurveHandle = ql.YieldTermStructureHandle(curve)\n",
    "bondEngine = ql.DiscountingBondEngine(spotCurveHandle)"
   ]
  },
  {
   "cell_type": "markdown",
   "metadata": {},
   "source": [
    "채권 정보를 받아 fixedRateBond에 입력"
   ]
  },
  {
   "cell_type": "code",
   "execution_count": 12,
   "metadata": {},
   "outputs": [],
   "source": [
    "# Treasury Bond Specification\n",
    "issueDate = ql.Date(15,11,2019)\n",
    "maturityDate = ql.Date(15,11,2029)\n",
    "tenor = ql.Period(ql.Semiannual)\n",
    "calendar = ql.UnitedStates()\n",
    "convention = ql.ModifiedFollowing\n",
    "dateGeneration = ql.DateGeneration.Backward\n",
    "monthEnd = False\n",
    "schedule = ql.Schedule(issueDate,\n",
    "                      maturityDate,\n",
    "                      tenor,\n",
    "                      calendar,\n",
    "                      convention,\n",
    "                      convention,\n",
    "                      dateGeneration,\n",
    "                      monthEnd)\n",
    "dayCount = ql.ActualActual()\n",
    "couponRate = [0.0175]\n",
    "settlementDays = 1\n",
    "faceValue = 100\n",
    "\n",
    "fixedRateBond = ql.FixedRateBond(settlementDays, faceValue, schedule, couponRate, dayCount)"
   ]
  },
  {
   "cell_type": "code",
   "execution_count": 13,
   "metadata": {},
   "outputs": [],
   "source": [
    "# Couduct Pricing\n",
    "fixedRateBond.setPricingEngine(bondEngine)"
   ]
  },
  {
   "cell_type": "markdown",
   "metadata": {},
   "source": [
    "# BondFunctions -> 듀레이션과 컨벡시티 계산"
   ]
  },
  {
   "cell_type": "code",
   "execution_count": 15,
   "metadata": {},
   "outputs": [
    {
     "name": "stdout",
     "output_type": "stream",
     "text": [
      "Yield to Maturity = 1.2803%\n",
      "Duration = 7.8386\n",
      "Convexity = 68.5523\n"
     ]
    }
   ],
   "source": [
    "# Calculate YTM\n",
    "\n",
    "# fixedRateBond() 와 interestRate를 인자로 삼는다.\n",
    "\n",
    "targetPrice = fixedRateBond.cleanPrice()\n",
    "ytm = ql.InterestRate(fixedRateBond.bondYield(targetPrice, dayCount, ql.Compounded, ql.Semiannual),\n",
    "                     dayCount,\n",
    "                     ql.Compounded,\n",
    "                     ql.Semiannual)\n",
    "print(\"Yield to Maturity = {:.4%}\".format(ytm.rate()))\n",
    "\n",
    "# Calculate Duration & Convexity\n",
    "print(\"Duration = {}\".format(round(ql.BondFunctions.duration(fixedRateBond,ytm),4)))\n",
    "print(\"Convexity = {}\".format(round(ql.BondFunctions.convexity(fixedRateBond,ytm),4)))"
   ]
  },
  {
   "cell_type": "code",
   "execution_count": null,
   "metadata": {},
   "outputs": [],
   "source": []
  }
 ],
 "metadata": {
  "kernelspec": {
   "display_name": "Python 3",
   "language": "python",
   "name": "python3"
  },
  "language_info": {
   "codemirror_mode": {
    "name": "ipython",
    "version": 3
   },
   "file_extension": ".py",
   "mimetype": "text/x-python",
   "name": "python",
   "nbconvert_exporter": "python",
   "pygments_lexer": "ipython3",
   "version": "3.8.5"
  }
 },
 "nbformat": 4,
 "nbformat_minor": 4
}
