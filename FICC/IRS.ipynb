{
 "cells": [
  {
   "cell_type": "markdown",
   "metadata": {},
   "source": [
    "# IRS"
   ]
  },
  {
   "cell_type": "markdown",
   "metadata": {},
   "source": [
    "- 이자율 스왑\n",
    "- 고정금리와 변동금리 이자율을 교환하는 계약(금리리스크 바꾸기)"
   ]
  },
  {
   "cell_type": "code",
   "execution_count": 1,
   "metadata": {},
   "outputs": [],
   "source": [
    "from SWAP_CURVE import GET_QUOTE, SWAP_CURVE"
   ]
  },
  {
   "cell_type": "code",
   "execution_count": 2,
   "metadata": {},
   "outputs": [],
   "source": [
    "import datetime\n",
    "import QuantLib as ql"
   ]
  },
  {
   "cell_type": "code",
   "execution_count": 13,
   "metadata": {},
   "outputs": [],
   "source": [
    "class IRS():\n",
    "    def __init__(self, date, effective_date, maturity_date, irs_rate, notional, spread=0.0):\n",
    "        # Initial Setup 1 : Date & Curve\n",
    "        self.date = date\n",
    "        self.curve = self.CURVE(self.date)\n",
    "        \n",
    "        # Initial Setup 2 : Instrument Info\n",
    "        self.effective_date = ql.Date(effective_date.day, effective_date.month, effective_date.year)\n",
    "        self.maturity_date = ql.Date(maturity_date.day, maturity_date.month, maturity_date.year)\n",
    "        self.calendar = ql.UnitedStates()\n",
    "        self.convention = ql.ModifiedFollowing\n",
    "        self.day_counter = ql.Actual360()\n",
    "        self.fixed_tenor = ql.Period(1, ql.Years)\n",
    "        self.float_tenor = ql.Period(3, ql.Months)\n",
    "        self.irs_rate = irs_rate\n",
    "        self.notional = notional\n",
    "        self.spread = spread\n",
    "        self.position = position\n",
    "        \n",
    "        # Pricing Results\n",
    "        self.npv = self.PRICING(self.curve)\n",
    "        self.delta = self.DELTA()\n",
    "        self.theta = self.THETA()\n",
    "    \n",
    "    # 평가일자 인자로 받아 커브 생성\n",
    "    def CURVE(self, date):\n",
    "        return SWAP_CURVE(date, GET_QUOTE(date))\n",
    "        \n",
    "    def PRICING(self, curve):\n",
    "        # Yield Term-structure\n",
    "        curve_handle = ql.YieldTermStructureHandle(curve)\n",
    "    \n",
    "        # USD 3M LIBOR\n",
    "        float_index = ql.USDLibor(ql.Period(3, ql.Months), curve_handle)\n",
    "    \n",
    "        # Fixed Schedule\n",
    "        fixedSchedule = ql.Schedule(self.effective_date,\n",
    "                                   self.maturity_date,\n",
    "                                   self.fixed_tenor,\n",
    "                                   self.calendar,\n",
    "                                   self.convention,\n",
    "                                   self.convention,\n",
    "                                   ql.DateGeneration.Backward,\n",
    "                                   False)\n",
    "    \n",
    "        # Floating Schedule\n",
    "        floatingSchedule = ql.Schedule(self.effective_date,\n",
    "                                      self.maturity_date,\n",
    "                                      self.float_tenor,\n",
    "                                      self.calendar,\n",
    "                                      self.convention,\n",
    "                                      self.convention,\n",
    "                                      ql.DateGeneration.Backward,\n",
    "                                      False)\n",
    "    \n",
    "        # Interest Rate Swap\n",
    "        irs = ql.VanillaSwap(self.position,\n",
    "                            self.notional,\n",
    "                            fixedSchedule,\n",
    "                            self.irs_rate,\n",
    "                            self.day_counter,\n",
    "                            floatingSchedule,\n",
    "                            float_index,\n",
    "                            self.spread,\n",
    "                            self.day_counter)\n",
    "    \n",
    "        # Pricing Engine\n",
    "        swapEngine= ql.DiscountingSwapEngine(curve_handle)\n",
    "        irs.setPricingEngine(swapEngine)\n",
    "    \n",
    "        npv = irs.NPV()\n",
    "    \n",
    "        return npv  \n",
    "    \n",
    "    def DELTA(self):\n",
    "        curve_handle = ql.YieldTermStructureHandle(self.curve)\n",
    "    \n",
    "        # 1bp\n",
    "        basis_point = 0.0001\n",
    "    \n",
    "        # IRS price \n",
    "        up_curve = ql.ZeroSpreadedTermStructure(curve_handle, ql.QuoteHandle(ql.SimpleQuote(basis_point)))\n",
    "        up_irs = self.PRICING(up_curve)\n",
    "        down_curve = ql.ZeroSpreadedTermStructure(curve_handle, ql.QuoteHandle(ql.SimpleQuote(basis_point)))\n",
    "        down_irs = self.PRICING(down_curve)\n",
    "        # Delta\n",
    "        delta = (up_irs - down_irs) /2\n",
    "    \n",
    "        return delta\n",
    "    \n",
    "    def THETA(self):\n",
    "        price_t0 = self.PRICING(self.CURVE(self.date))\n",
    "        price_t1 = self.PRICING(self.CURVE(self.date + datetime.timedelta(days=1)))\n",
    "        return price_t1 - price_t0\n",
    "    \n"
   ]
  },
  {
   "cell_type": "code",
   "execution_count": 14,
   "metadata": {},
   "outputs": [
    {
     "name": "stdout",
     "output_type": "stream",
     "text": [
      "Price = 95.9499\n",
      "Delta = 0.0\n",
      "Theta = -2.9461\n"
     ]
    }
   ],
   "source": [
    "if __name__ == \"__main__\":\n",
    "    # Today's Date\n",
    "    \n",
    "    todays_date = datetime.date(2020, 10, 9)\n",
    "    \n",
    "    # IRS Instrument Setup\n",
    "    effective_date = datetime.date(2020, 10 ,19)\n",
    "    maturity_date = datetime.date(2022, 10, 19)\n",
    "    position = ql.VanillaSwap.Payer\n",
    "    irs_rate = 0.00218\n",
    "    notional = 10000000\n",
    "    \n",
    "    # Build IRS object\n",
    "    irs = IRS(todays_date, effective_date, maturity_date, irs_rate, notional)\n",
    "    \n",
    "    print(\"Price = {}\".format(round(irs.npv,4)))\n",
    "    print(\"Delta = {}\".format(round(irs.delta,4)))\n",
    "    print(\"Theta = {}\".format(round(irs.theta,4)))"
   ]
  },
  {
   "cell_type": "code",
   "execution_count": null,
   "metadata": {},
   "outputs": [],
   "source": []
  }
 ],
 "metadata": {
  "kernelspec": {
   "display_name": "Python 3",
   "language": "python",
   "name": "python3"
  },
  "language_info": {
   "codemirror_mode": {
    "name": "ipython",
    "version": 3
   },
   "file_extension": ".py",
   "mimetype": "text/x-python",
   "name": "python",
   "nbconvert_exporter": "python",
   "pygments_lexer": "ipython3",
   "version": "3.8.5"
  }
 },
 "nbformat": 4,
 "nbformat_minor": 4
}
