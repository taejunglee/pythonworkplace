{
 "cells": [
  {
   "cell_type": "code",
   "execution_count": 6,
   "id": "e4835637-4bdb-4151-8a66-ac083ec1117f",
   "metadata": {},
   "outputs": [],
   "source": [
    "from dataclasses import dataclass"
   ]
  },
  {
   "cell_type": "code",
   "execution_count": 13,
   "id": "8283327b-219f-4031-bfce-d9bf93b08632",
   "metadata": {},
   "outputs": [],
   "source": [
    "@dataclass # 초기화 함수를 지원하고, 출력할 때도 읽기 쉬운 포맷으로 출력\n",
    "class Rectangle:\n",
    "    width: int\n",
    "    height: int\n",
    "        \n",
    "    def area(self):\n",
    "        return self.width * self.height\n",
    "\n"
   ]
  },
  {
   "cell_type": "code",
   "execution_count": 14,
   "id": "33b3dbf8-cf4b-4d1d-83ae-7901a93087d3",
   "metadata": {},
   "outputs": [
    {
     "name": "stdout",
     "output_type": "stream",
     "text": [
      "12\n"
     ]
    }
   ],
   "source": [
    "rect = Rectangle(3, 4)\n",
    "print(rect.area())"
   ]
  },
  {
   "cell_type": "code",
   "execution_count": null,
   "id": "d573b042-2391-4229-9588-301a8566921c",
   "metadata": {},
   "outputs": [],
   "source": []
  }
 ],
 "metadata": {
  "kernelspec": {
   "display_name": "Python 3",
   "language": "python",
   "name": "python3"
  },
  "language_info": {
   "codemirror_mode": {
    "name": "ipython",
    "version": 3
   },
   "file_extension": ".py",
   "mimetype": "text/x-python",
   "name": "python",
   "nbconvert_exporter": "python",
   "pygments_lexer": "ipython3",
   "version": "3.7.7"
  }
 },
 "nbformat": 4,
 "nbformat_minor": 5
}
