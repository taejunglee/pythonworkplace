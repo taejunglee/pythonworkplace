{
 "cells": [
  {
   "cell_type": "code",
   "execution_count": null,
   "id": "af7e2a1a-6ab1-45be-96bb-79322b6d2ebb",
   "metadata": {},
   "outputs": [],
   "source": []
  },
  {
   "cell_type": "markdown",
   "id": "0b480b86-0ddf-4d8b-bc55-6a636b60de55",
   "metadata": {},
   "source": [
    "# 루프 기본"
   ]
  },
  {
   "cell_type": "markdown",
   "id": "a5754d31-658b-4958-b39f-2cad83d133c6",
   "metadata": {},
   "source": [
    "ex)1"
   ]
  },
  {
   "cell_type": "code",
   "execution_count": 1,
   "id": "04567021-a050-40cf-861e-7fefb2f24b03",
   "metadata": {},
   "outputs": [],
   "source": [
    "sum = 0\n",
    "for i in range(1, 10+1):\n",
    "    sum += i"
   ]
  },
  {
   "cell_type": "markdown",
   "id": "677b7796-3cde-4a50-902e-70258223e58a",
   "metadata": {},
   "source": [
    "ex)2"
   ]
  },
  {
   "cell_type": "code",
   "execution_count": 6,
   "id": "26b94191-9d7a-4f9f-a083-6378ae76dd2d",
   "metadata": {},
   "outputs": [],
   "source": [
    "del sum"
   ]
  },
  {
   "cell_type": "code",
   "execution_count": 7,
   "id": "a8b46036-5f6a-4a89-856c-ca5535889533",
   "metadata": {},
   "outputs": [],
   "source": [
    "sum = sum(i for i in range(1, 10+1))"
   ]
  },
  {
   "cell_type": "markdown",
   "id": "0fe6ec74-fefa-4ad0-a920-68a1910bbe03",
   "metadata": {},
   "source": [
    "ex)3"
   ]
  },
  {
   "cell_type": "code",
   "execution_count": 8,
   "id": "4c62bd89-e3bb-4b74-a7e8-f80d67db8ff3",
   "metadata": {},
   "outputs": [],
   "source": [
    "del sum"
   ]
  },
  {
   "cell_type": "code",
   "execution_count": 9,
   "id": "b0499b90-7d2c-430f-bf38-b21ef4c799f4",
   "metadata": {},
   "outputs": [],
   "source": [
    "sum = sum(range(1, 10+1))"
   ]
  },
  {
   "cell_type": "code",
   "execution_count": null,
   "id": "a8aea327-52c0-400d-b0ac-0e295134661f",
   "metadata": {},
   "outputs": [],
   "source": []
  }
 ],
 "metadata": {
  "kernelspec": {
   "display_name": "Python 3",
   "language": "python",
   "name": "python3"
  },
  "language_info": {
   "codemirror_mode": {
    "name": "ipython",
    "version": 3
   },
   "file_extension": ".py",
   "mimetype": "text/x-python",
   "name": "python",
   "nbconvert_exporter": "python",
   "pygments_lexer": "ipython3",
   "version": "3.7.7"
  }
 },
 "nbformat": 4,
 "nbformat_minor": 5
}
