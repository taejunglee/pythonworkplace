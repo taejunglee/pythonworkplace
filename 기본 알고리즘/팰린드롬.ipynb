{
 "cells": [
  {
   "cell_type": "code",
   "execution_count": 17,
   "id": "d4f34e80-d601-4f56-966c-a5210d2d34f5",
   "metadata": {},
   "outputs": [],
   "source": [
    "s = [\"race a car\"]\n",
    "voca = []\n",
    "for char in s:\n",
    "    if char.isalnum():\n",
    "        voca.append(char.lower())"
   ]
  },
  {
   "cell_type": "code",
   "execution_count": null,
   "id": "a0c0031b-abfa-46f3-833b-c8a731d102ef",
   "metadata": {},
   "outputs": [],
   "source": []
  },
  {
   "cell_type": "code",
   "execution_count": 19,
   "id": "7507bc26-4198-4313-9d12-cc4f0e0e6f73",
   "metadata": {},
   "outputs": [
    {
     "ename": "SyntaxError",
     "evalue": "'return' outside function (<ipython-input-19-7fdc8e183c22>, line 3)",
     "output_type": "error",
     "traceback": [
      "\u001b[1;36m  File \u001b[1;32m\"<ipython-input-19-7fdc8e183c22>\"\u001b[1;36m, line \u001b[1;32m3\u001b[0m\n\u001b[1;33m    return False\u001b[0m\n\u001b[1;37m    ^\u001b[0m\n\u001b[1;31mSyntaxError\u001b[0m\u001b[1;31m:\u001b[0m 'return' outside function\n"
     ]
    }
   ],
   "source": [
    "while len(voca) > 1:\n",
    "    if voca.pop(0) != voca.pop():\n",
    "        return False"
   ]
  },
  {
   "cell_type": "code",
   "execution_count": 6,
   "id": "662f56d8-90cb-44c9-9ee5-0b3c68f22490",
   "metadata": {},
   "outputs": [],
   "source": [
    "a = [\"race a car\"]"
   ]
  },
  {
   "cell_type": "code",
   "execution_count": 7,
   "id": "6819cfc4-8c16-4711-90b3-6d3e9a2eb673",
   "metadata": {},
   "outputs": [],
   "source": [
    "def isPalindrome(self, s: a)->bool:\n",
    "    voca = []\n",
    "    for char in s:\n",
    "        if char.isalnum():\n",
    "            a.append(char.lower())\n",
    "    while len(voca) > 1:\n",
    "        if a.pop(0) != voca.pop():\n",
    "            return False\n",
    "    return True"
   ]
  },
  {
   "cell_type": "code",
   "execution_count": 8,
   "id": "8963bfbb-4806-469c-ac74-e3bb8cc4cfd8",
   "metadata": {},
   "outputs": [
    {
     "data": {
      "text/plain": [
       "True"
      ]
     },
     "execution_count": 8,
     "metadata": {},
     "output_type": "execute_result"
    }
   ],
   "source": [
    "isPalindrome(a,a)"
   ]
  },
  {
   "cell_type": "code",
   "execution_count": 7,
   "id": "85650861-bd32-417c-a8ba-70ed9e2373dc",
   "metadata": {},
   "outputs": [
    {
     "data": {
      "text/plain": [
       "True"
      ]
     },
     "execution_count": 7,
     "metadata": {},
     "output_type": "execute_result"
    }
   ],
   "source": [
    "isPalindrome(b,b)"
   ]
  },
  {
   "cell_type": "code",
   "execution_count": null,
   "id": "10517df5-1ef2-4732-a28e-a1dd204e717d",
   "metadata": {},
   "outputs": [],
   "source": []
  }
 ],
 "metadata": {
  "kernelspec": {
   "display_name": "Python 3",
   "language": "python",
   "name": "python3"
  },
  "language_info": {
   "codemirror_mode": {
    "name": "ipython",
    "version": 3
   },
   "file_extension": ".py",
   "mimetype": "text/x-python",
   "name": "python",
   "nbconvert_exporter": "python",
   "pygments_lexer": "ipython3",
   "version": "3.7.7"
  }
 },
 "nbformat": 4,
 "nbformat_minor": 5
}
