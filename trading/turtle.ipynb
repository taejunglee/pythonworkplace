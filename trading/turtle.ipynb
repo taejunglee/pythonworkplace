{
 "cells": [
  {
   "cell_type": "markdown",
   "metadata": {},
   "source": [
    "# turtle trading"
   ]
  },
  {
   "cell_type": "markdown",
   "metadata": {},
   "source": [
    "- 가격이 마지막 window_size일 동안 최고 가격에 도달하면 롱 시그널(여기선 50)\n"
   ]
  },
  {
   "cell_type": "code",
   "execution_count": 1,
   "metadata": {},
   "outputs": [],
   "source": [
    "import pandas as pd\n",
    "import numpy as np\n",
    "from pandas_datareader import data\n",
    "import matplotlib.pyplot as plt"
   ]
  },
  {
   "cell_type": "code",
   "execution_count": 2,
   "metadata": {},
   "outputs": [],
   "source": [
    "def load_financial_data(start_date, end_date,output_file):\n",
    "    df = data.DataReader('GOOG', 'yahoo', start_date, end_date)\n",
    "    return df\n",
    "\n",
    "goog_data=load_financial_data(start_date='2001-01-01',\n",
    "                    end_date = '2021-01-01',\n",
    "                    output_file='goog_data.pkl')"
   ]
  },
  {
   "cell_type": "code",
   "execution_count": 4,
   "metadata": {},
   "outputs": [],
   "source": [
    "# 가격이 지난 window_size일의 이동 평균을 넘어서면 포지션 정리\n",
    "def turtle_trading(financial_data, window_size):\n",
    "    signals = pd.DataFrame(index=financial_data.index)\n",
    "    signals['orders'] = 0\n",
    "    # 고가에 대한 윈도우 크기\n",
    "    signals['high'] = financial_data['Adj Close'].shift(1).\\\n",
    "        rolling(window=window_size).max()\n",
    "    # 저가에 대한 윈도우 크기\n",
    "    signals['low'] = financial_data['Adj Close'].shift(1).\\\n",
    "        rolling(window=window_size).min()\n",
    "    # 평균에 대한 윈도우 크기\n",
    "    signals['avg'] = financial_data['Adj Close'].shift(1).\\\n",
    "        rolling(window=window_size).mean()\n",
    "    \n",
    "    # 주가> window_size일에서 가장 높은값\n",
    "    # 주가< window_size일에서 최저값\n",
    "\n",
    "    signals['long_entry'] = financial_data['Adj Close'] > signals.high\n",
    "    signals['short_entry'] = financial_data['Adj Close'] < signals.low\n",
    "\n",
    "    # 청산규칙: 주가가 과거 window_size일의 평균을 교차할 때\n",
    "\n",
    "    signals['long_exit'] = financial_data['Adj Close'] < signals.avg\n",
    "    signals['short_exit'] = financial_data['Adj Close'] > signals.avg\n",
    "    \n",
    "    init=True\n",
    "    position=0\n",
    "    for k in range(len(signals)):\n",
    "        if signals['long_entry'][k] and position==0:\n",
    "            signals.orders.values[k] = 1\n",
    "            position=1\n",
    "        elif signals['short_entry'][k] and position==0:\n",
    "            signals.orders.values[k] = -1\n",
    "            position=-1\n",
    "        elif signals['short_exit'][k] and position>0:\n",
    "            signals.orders.values[k] = -1\n",
    "            position = 0\n",
    "        elif signals['long_exit'][k] and position < 0:\n",
    "            signals.orders.values[k] = 1\n",
    "            position = 0\n",
    "        else:\n",
    "            signals.orders.values[k] = 0\n",
    "\n",
    "    return signals"
   ]
  },
  {
   "cell_type": "code",
   "execution_count": 5,
   "metadata": {},
   "outputs": [
    {
     "data": {
      "image/png": "[encoded data removed]",
      "text/plain": [
       "<Figure size 432x288 with 1 Axes>"
      ]
     },
     "metadata": {
      "needs_background": "light"
     },
     "output_type": "display_data"
    }
   ],
   "source": [
    "ts=turtle_trading(goog_data, 50)\n",
    "\n",
    "fig = plt.figure()\n",
    "ax1 = fig.add_subplot(111, ylabel='Google price in $')\n",
    "goog_data[\"Adj Close\"].plot(ax=ax1, color='g', lw=.5)\n",
    "ts[\"high\"].plot(ax=ax1, color='g', lw=.5)\n",
    "ts[\"low\"].plot(ax=ax1, color='r', lw=.5)\n",
    "ts[\"avg\"].plot(ax=ax1, color='b', lw=.5)\n",
    "\n",
    "\n",
    "ax1.plot(ts.loc[ts.orders== 1.0].index,\n",
    "         goog_data[\"Adj Close\"][ts.orders == 1.0],\n",
    "         '^', markersize=7, color='k')\n",
    "\n",
    "ax1.plot(ts.loc[ts.orders== -1.0].index,\n",
    "         goog_data[\"Adj Close\"][ts.orders == -1.0],\n",
    "         'v', markersize=7, color='k')\n",
    "\n",
    "\n",
    "#\n",
    "# ax1.plot(ts.loc[ts.long_entry== True].index,\n",
    "#          goog_data[\"Adj Close\"][ts.long_entry== True],\n",
    "#          '^', markersize=7, color='k')\n",
    "#\n",
    "# ax1.plot(ts.loc[ts.short_entry== True].index,\n",
    "#          goog_data[\"Adj Close\"][ts.short_entry== True],\n",
    "#          'v', markersize=7, color='k')\n",
    "#\n",
    "# ax1.plot(ts.loc[ts.long_exit == True].index,\n",
    "#          goog_data[\"Adj Close\"][ts.long_exit == True],\n",
    "#          'v', markersize=7, color='k')\n",
    "#\n",
    "# ax1.plot(ts.loc[ts.short_exit == True].index,\n",
    "#          goog_data[\"Adj Close\"][ts.short_exit == True],\n",
    "#          'v', markersize=7, color='k')\n",
    "\n",
    "\n",
    "plt.legend([\"Price\",\"Highs\",\"Lows\",\"Average\",\"Buy\",\"Sell\"])\n",
    "plt.title(\"Turtle Trading Strategy\")\n",
    "\n",
    "plt.show()"
   ]
  },
  {
   "cell_type": "code",
   "execution_count": 6,
   "metadata": {},
   "outputs": [
    {
     "ename": "SystemExit",
     "evalue": "0",
     "output_type": "error",
     "traceback": [
      "An exception has occurred, use %tb to see the full traceback.\n",
      "\u001b[1;31mSystemExit\u001b[0m\u001b[1;31m:\u001b[0m 0\n"
     ]
    },
    {
     "name": "stderr",
     "output_type": "stream",
     "text": [
      "C:\\anaconda3\\lib\\site-packages\\IPython\\core\\interactiveshell.py:3426: UserWarning: To exit: use 'exit', 'quit', or Ctrl-D.\n",
      "  warn(\"To exit: use 'exit', 'quit', or Ctrl-D.\", stacklevel=1)\n"
     ]
    }
   ],
   "source": [
    "import sys\n",
    "sys.exit(0)\n",
    "\n",
    "# 초기자본설정\n",
    "initial_capital = float(10000.0)\n",
    "\n",
    "# 데이터프레임 포지션 만들기\n",
    "positions = pd.DataFrame(index=signals.index).fillna(0.0)\n",
    "\n",
    "# 신호 1일 때 MSFT 10개 매수\n",
    "# 신호 -1일때 MSFT 10개 매도\n",
    "# 데이터프레임에 할당\n",
    "positions['MSFT'] = 10 * signals['signal']\n",
    "\n",
    "# (quantity x price)계산\n",
    "# 포트폴리오에 집어넣기\n",
    "portfolio = positions.multiply(financial_data['Adj Close'], axis=0)\n",
    "\n",
    "# 포트폴리오에 holdings 추가\n",
    "portfolio['holdings'] = (positions.multiply(financial_data['Adj Close'], axis=0)).sum(axis=1)\n",
    "\n",
    "# 차이를 저장\n",
    "pos_diff = positions.diff()\n",
    "# 포폴에 cash추가 (자본상태)\n",
    "# 초기자본 - (매수매도에 사용될 값)\n",
    "portfolio['cash'] = initial_capital - (pos_diff.multiply(financial_data['Adj Close'], axis=0)).sum(axis=1).cumsum()\n",
    "\n",
    "# 계산\n",
    "portfolio['total'] = portfolio['cash'] + portfolio['holdings']\n",
    "\n",
    "# 수익률\n",
    "portfolio['returns'] = portfolio['total'].pct_change()\n",
    "\n",
    "print(portfolio)"
   ]
  },
  {
   "cell_type": "code",
   "execution_count": null,
   "metadata": {},
   "outputs": [],
   "source": []
  }
 ],
 "metadata": {
  "kernelspec": {
   "display_name": "Python 3",
   "language": "python",
   "name": "python3"
  },
  "language_info": {
   "codemirror_mode": {
    "name": "ipython",
    "version": 3
   },
   "file_extension": ".py",
   "mimetype": "text/x-python",
   "name": "python",
   "nbconvert_exporter": "python",
   "pygments_lexer": "ipython3",
   "version": "3.8.5"
  }
 },
 "nbformat": 4,
 "nbformat_minor": 4
}
