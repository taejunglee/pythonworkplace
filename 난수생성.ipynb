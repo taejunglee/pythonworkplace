{
  "nbformat": 4,
  "nbformat_minor": 5,
  "metadata": {
    "kernelspec": {
      "display_name": "Python 3",
      "language": "python",
      "name": "python3"
    },
    "language_info": {
      "codemirror_mode": {
        "name": "ipython",
        "version": 3
      },
      "file_extension": ".py",
      "mimetype": "text/x-python",
      "name": "python",
      "nbconvert_exporter": "python",
      "pygments_lexer": "ipython3",
      "version": "3.7.7"
    },
    "colab": {
      "name": "난수생성",
      "provenance": [],
      "collapsed_sections": [],
      "include_colab_link": true
    }
  },
  "cells": [
    {
      "cell_type": "markdown",
      "metadata": {
        "id": "view-in-github",
        "colab_type": "text"
      },
      "source": [
        "<a href=\"https://colab.research.google.com/github/taejunglee/pythonworkplace/blob/master/%EB%82%9C%EC%88%98%EC%83%9D%EC%84%B1.ipynb\" target=\"_parent\"><img src=\"https://colab.research.google.com/assets/colab-badge.svg\" alt=\"Open In Colab\"/></a>"
      ]
    },
    {
      "cell_type": "code",
      "metadata": {
        "colab": {
          "base_uri": "https://localhost:8080/"
        },
        "id": "--WtFdR_Xs8k",
        "outputId": "77567223-ff7a-44c8-8136-582d9d7ec2d9"
      },
      "source": [
        "from google.colab import drive\n",
        "drive.mount('/content/gdrive/')"
      ],
      "id": "--WtFdR_Xs8k",
      "execution_count": null,
      "outputs": [
        {
          "output_type": "stream",
          "text": [
            "Mounted at /content/gdrive/\n"
          ],
          "name": "stdout"
        }
      ]
    },
    {
      "cell_type": "code",
      "metadata": {
        "id": "NB3HqPsIYJ7O"
      },
      "source": [
        "import os\n",
        "os.chdir('/content/gdrive/MyDrive/Colab Notebooks')"
      ],
      "id": "NB3HqPsIYJ7O",
      "execution_count": null,
      "outputs": []
    },
    {
      "cell_type": "code",
      "metadata": {
        "id": "pleasant-exploration"
      },
      "source": [
        "import pandas as pd\n",
        "import numpy as np"
      ],
      "id": "pleasant-exploration",
      "execution_count": null,
      "outputs": []
    },
    {
      "cell_type": "code",
      "metadata": {
        "id": "muslim-lesbian"
      },
      "source": [
        "gender = pd.DataFrame(np.random.choice(2,3000, p=[0.51, 0.49]))\n",
        "age = pd.DataFrame(np.random.choice(5,3000, p=[0.1753, 0.1941, 0.1871, 0.2079, 0.2356]))\n",
        "job = pd.DataFrame(np.random.choice(11,3000, p=[0.0230, 0.06, 0.2306, 0.1525, 0.2531, 0.0920, 0.07, 0.0340, 0.0546, 0.0076, 0.0226]))\n",
        "family_size = pd.DataFrame(np.random.choice(4, 3000, p=[0.452, 0.208, 0.308, 0.032]))\n",
        "child_num = pd.DataFrame(np.random.choice(4, 3000, p=[0.422, 0.217, 0.333, 0.028]))\n",
        "knowledge = pd.DataFrame(np.random.choice(4, 3000, p=[0.537, 0.146, 0.183, 0.134]))\n",
        "exp = pd.DataFrame(np.random.choice(4, 3000, p=[0.189, 0.15, 0.457, 0.204]))\n",
        "risk = pd.DataFrame(np.random.choice(4,3000, p=[0.425, 0.432, 0.099, 0.044]))\n",
        "term = pd.DataFrame(np.random.choice(4,3000, p=[0.136, 0.258, 0.360, 0.246]))"
      ],
      "id": "muslim-lesbian",
      "execution_count": null,
      "outputs": []
    },
    {
      "cell_type": "code",
      "metadata": {
        "id": "BqOUXntBuzfO"
      },
      "source": [
        ""
      ],
      "id": "BqOUXntBuzfO",
      "execution_count": null,
      "outputs": []
    },
    {
      "cell_type": "markdown",
      "metadata": {
        "id": "M7pfPBWZuz9U"
      },
      "source": [
        "**표준정규분포 난수생성**"
      ],
      "id": "M7pfPBWZuz9U"
    },
    {
      "cell_type": "code",
      "metadata": {
        "id": "compact-tenant"
      },
      "source": [
        "s1 = pd.DataFrame(0.821 * np.random.randn(3000) + 2.645)\n",
        "s2 = pd.DataFrame(0.617 * np.random.randn(3000) + 1.542)\n",
        "s3 = pd.DataFrame(0.800 * np.random.randn(3000) + 1.400)\n",
        "s4 = pd.DataFrame(0.962 * np.random.randn(3000) + 2.275)\n",
        "s5 = pd.DataFrame(0.588 * np.random.randn(3000) + 1.408)"
      ],
      "id": "compact-tenant",
      "execution_count": null,
      "outputs": []
    },
    {
      "cell_type": "code",
      "metadata": {
        "id": "5ZCs9CyZvDay"
      },
      "source": [
        "s1 = pd.DataFrame(0.821 * np.random.rand(3000) + 2.645)"
      ],
      "id": "5ZCs9CyZvDay",
      "execution_count": null,
      "outputs": []
    },
    {
      "cell_type": "markdown",
      "metadata": {
        "id": "QY4IXo_Ku42q"
      },
      "source": [
        "**정규분포 난수생성**"
      ],
      "id": "QY4IXo_Ku42q"
    },
    {
      "cell_type": "code",
      "metadata": {
        "id": "FjBL3iNYrGuW"
      },
      "source": [
        "s1 = pd.DataFrame(np.random.normal(loc=2.645, scale=0.821, size=3000))\n",
        "s2 = pd.DataFrame(np.random.normal(loc=1.542, scale=0.617, size=3000))\n",
        "s3 = pd.DataFrame(np.random.normal(loc=1.400, scale=0.800, size=3000))\n",
        "s4 = pd.DataFrame(np.random.normal(loc=2.275, scale=0.962, size=3000))\n",
        "s5 = pd.DataFrame(np.random.normal(loc=1.408, scale=0.588, size=3000))\n",
        "\n",
        "# 평균, 표준편차, 생성개수"
      ],
      "id": "FjBL3iNYrGuW",
      "execution_count": null,
      "outputs": []
    },
    {
      "cell_type": "code",
      "metadata": {
        "id": "DuouMjdMsXtt"
      },
      "source": [
        "import scipy as sp, scipy.stats\n",
        "\n",
        "s1 =sp.stats.norm(loc=2.645,scale=0.821).rvs(size=3000) # 평균 1000, 표준편차 20, 1000개 난수 생성\n"
      ],
      "id": "DuouMjdMsXtt",
      "execution_count": null,
      "outputs": []
    },
    {
      "cell_type": "code",
      "metadata": {
        "id": "NBNyto9O6I_M"
      },
      "source": [
        "s11 = pd.DataFrame(sp.stats.norm(loc=2.645,scale=0.821).rvs(size=3000))"
      ],
      "id": "NBNyto9O6I_M",
      "execution_count": null,
      "outputs": []
    },
    {
      "cell_type": "code",
      "metadata": {
        "id": "dbl6LD1g7blO"
      },
      "source": [
        "s21 = pd.DataFrame(sp.stats.norm(loc=2.645,scale=0.821).rvs(size=3000))"
      ],
      "id": "dbl6LD1g7blO",
      "execution_count": null,
      "outputs": []
    },
    {
      "cell_type": "code",
      "metadata": {
        "id": "9iAmPCx_7bru"
      },
      "source": [
        ""
      ],
      "id": "9iAmPCx_7bru",
      "execution_count": null,
      "outputs": []
    },
    {
      "cell_type": "code",
      "metadata": {
        "colab": {
          "base_uri": "https://localhost:8080/",
          "height": 295
        },
        "id": "SFVQnQlu6yB9",
        "outputId": "4b17cc03-351c-48d1-e08e-bb41ff521f24"
      },
      "source": [
        "s11.describe()"
      ],
      "id": "SFVQnQlu6yB9",
      "execution_count": null,
      "outputs": [
        {
          "output_type": "execute_result",
          "data": {
            "text/html": [
              "<div>\n",
              "<style scoped>\n",
              "    .dataframe tbody tr th:only-of-type {\n",
              "        vertical-align: middle;\n",
              "    }\n",
              "\n",
              "    .dataframe tbody tr th {\n",
              "        vertical-align: top;\n",
              "    }\n",
              "\n",
              "    .dataframe thead th {\n",
              "        text-align: right;\n",
              "    }\n",
              "</style>\n",
              "<table border=\"1\" class=\"dataframe\">\n",
              "  <thead>\n",
              "    <tr style=\"text-align: right;\">\n",
              "      <th></th>\n",
              "      <th>0</th>\n",
              "    </tr>\n",
              "  </thead>\n",
              "  <tbody>\n",
              "    <tr>\n",
              "      <th>count</th>\n",
              "      <td>3000.000000</td>\n",
              "    </tr>\n",
              "    <tr>\n",
              "      <th>mean</th>\n",
              "      <td>2.640269</td>\n",
              "    </tr>\n",
              "    <tr>\n",
              "      <th>std</th>\n",
              "      <td>0.816751</td>\n",
              "    </tr>\n",
              "    <tr>\n",
              "      <th>min</th>\n",
              "      <td>-0.109345</td>\n",
              "    </tr>\n",
              "    <tr>\n",
              "      <th>25%</th>\n",
              "      <td>2.090866</td>\n",
              "    </tr>\n",
              "    <tr>\n",
              "      <th>50%</th>\n",
              "      <td>2.636146</td>\n",
              "    </tr>\n",
              "    <tr>\n",
              "      <th>75%</th>\n",
              "      <td>3.183881</td>\n",
              "    </tr>\n",
              "    <tr>\n",
              "      <th>max</th>\n",
              "      <td>5.376338</td>\n",
              "    </tr>\n",
              "  </tbody>\n",
              "</table>\n",
              "</div>"
            ],
            "text/plain": [
              "                 0\n",
              "count  3000.000000\n",
              "mean      2.640269\n",
              "std       0.816751\n",
              "min      -0.109345\n",
              "25%       2.090866\n",
              "50%       2.636146\n",
              "75%       3.183881\n",
              "max       5.376338"
            ]
          },
          "metadata": {
            "tags": []
          },
          "execution_count": 25
        }
      ]
    },
    {
      "cell_type": "code",
      "metadata": {
        "colab": {
          "base_uri": "https://localhost:8080/",
          "height": 295
        },
        "id": "vzzo6TVm7GwA",
        "outputId": "0b1dae7f-eb96-4b0a-da76-bf2386661a04"
      },
      "source": [
        "s1.describe()"
      ],
      "id": "vzzo6TVm7GwA",
      "execution_count": null,
      "outputs": [
        {
          "output_type": "execute_result",
          "data": {
            "text/html": [
              "<div>\n",
              "<style scoped>\n",
              "    .dataframe tbody tr th:only-of-type {\n",
              "        vertical-align: middle;\n",
              "    }\n",
              "\n",
              "    .dataframe tbody tr th {\n",
              "        vertical-align: top;\n",
              "    }\n",
              "\n",
              "    .dataframe thead th {\n",
              "        text-align: right;\n",
              "    }\n",
              "</style>\n",
              "<table border=\"1\" class=\"dataframe\">\n",
              "  <thead>\n",
              "    <tr style=\"text-align: right;\">\n",
              "      <th></th>\n",
              "      <th>0</th>\n",
              "    </tr>\n",
              "  </thead>\n",
              "  <tbody>\n",
              "    <tr>\n",
              "      <th>count</th>\n",
              "      <td>3000.000000</td>\n",
              "    </tr>\n",
              "    <tr>\n",
              "      <th>mean</th>\n",
              "      <td>2.633709</td>\n",
              "    </tr>\n",
              "    <tr>\n",
              "      <th>std</th>\n",
              "      <td>0.828172</td>\n",
              "    </tr>\n",
              "    <tr>\n",
              "      <th>min</th>\n",
              "      <td>0.000187</td>\n",
              "    </tr>\n",
              "    <tr>\n",
              "      <th>25%</th>\n",
              "      <td>2.081877</td>\n",
              "    </tr>\n",
              "    <tr>\n",
              "      <th>50%</th>\n",
              "      <td>2.644407</td>\n",
              "    </tr>\n",
              "    <tr>\n",
              "      <th>75%</th>\n",
              "      <td>3.187329</td>\n",
              "    </tr>\n",
              "    <tr>\n",
              "      <th>max</th>\n",
              "      <td>5.127329</td>\n",
              "    </tr>\n",
              "  </tbody>\n",
              "</table>\n",
              "</div>"
            ],
            "text/plain": [
              "                 0\n",
              "count  3000.000000\n",
              "mean      2.633709\n",
              "std       0.828172\n",
              "min       0.000187\n",
              "25%       2.081877\n",
              "50%       2.644407\n",
              "75%       3.187329\n",
              "max       5.127329"
            ]
          },
          "metadata": {
            "tags": []
          },
          "execution_count": 29
        }
      ]
    },
    {
      "cell_type": "code",
      "metadata": {
        "colab": {
          "base_uri": "https://localhost:8080/",
          "height": 295
        },
        "id": "Z7avM0rQ6FY-",
        "outputId": "026181a8-a123-47e2-8ae1-57ecaede279c"
      },
      "source": [
        "s1.describe()"
      ],
      "id": "Z7avM0rQ6FY-",
      "execution_count": null,
      "outputs": [
        {
          "output_type": "execute_result",
          "data": {
            "text/html": [
              "<div>\n",
              "<style scoped>\n",
              "    .dataframe tbody tr th:only-of-type {\n",
              "        vertical-align: middle;\n",
              "    }\n",
              "\n",
              "    .dataframe tbody tr th {\n",
              "        vertical-align: top;\n",
              "    }\n",
              "\n",
              "    .dataframe thead th {\n",
              "        text-align: right;\n",
              "    }\n",
              "</style>\n",
              "<table border=\"1\" class=\"dataframe\">\n",
              "  <thead>\n",
              "    <tr style=\"text-align: right;\">\n",
              "      <th></th>\n",
              "      <th>0</th>\n",
              "    </tr>\n",
              "  </thead>\n",
              "  <tbody>\n",
              "    <tr>\n",
              "      <th>count</th>\n",
              "      <td>3000.000000</td>\n",
              "    </tr>\n",
              "    <tr>\n",
              "      <th>mean</th>\n",
              "      <td>2.654837</td>\n",
              "    </tr>\n",
              "    <tr>\n",
              "      <th>std</th>\n",
              "      <td>0.824375</td>\n",
              "    </tr>\n",
              "    <tr>\n",
              "      <th>min</th>\n",
              "      <td>-0.666504</td>\n",
              "    </tr>\n",
              "    <tr>\n",
              "      <th>25%</th>\n",
              "      <td>2.092966</td>\n",
              "    </tr>\n",
              "    <tr>\n",
              "      <th>50%</th>\n",
              "      <td>2.651587</td>\n",
              "    </tr>\n",
              "    <tr>\n",
              "      <th>75%</th>\n",
              "      <td>3.215357</td>\n",
              "    </tr>\n",
              "    <tr>\n",
              "      <th>max</th>\n",
              "      <td>6.083025</td>\n",
              "    </tr>\n",
              "  </tbody>\n",
              "</table>\n",
              "</div>"
            ],
            "text/plain": [
              "                 0\n",
              "count  3000.000000\n",
              "mean      2.654837\n",
              "std       0.824375\n",
              "min      -0.666504\n",
              "25%       2.092966\n",
              "50%       2.651587\n",
              "75%       3.215357\n",
              "max       6.083025"
            ]
          },
          "metadata": {
            "tags": []
          },
          "execution_count": 27
        }
      ]
    },
    {
      "cell_type": "code",
      "metadata": {
        "colab": {
          "base_uri": "https://localhost:8080/",
          "height": 295
        },
        "id": "CQLTauOIrTlM",
        "outputId": "63333dc1-c323-42ed-f847-adf01626cba8"
      },
      "source": [
        "s1.describe()"
      ],
      "id": "CQLTauOIrTlM",
      "execution_count": null,
      "outputs": [
        {
          "output_type": "execute_result",
          "data": {
            "text/html": [
              "<div>\n",
              "<style scoped>\n",
              "    .dataframe tbody tr th:only-of-type {\n",
              "        vertical-align: middle;\n",
              "    }\n",
              "\n",
              "    .dataframe tbody tr th {\n",
              "        vertical-align: top;\n",
              "    }\n",
              "\n",
              "    .dataframe thead th {\n",
              "        text-align: right;\n",
              "    }\n",
              "</style>\n",
              "<table border=\"1\" class=\"dataframe\">\n",
              "  <thead>\n",
              "    <tr style=\"text-align: right;\">\n",
              "      <th></th>\n",
              "      <th>0</th>\n",
              "    </tr>\n",
              "  </thead>\n",
              "  <tbody>\n",
              "    <tr>\n",
              "      <th>count</th>\n",
              "      <td>3000.000000</td>\n",
              "    </tr>\n",
              "    <tr>\n",
              "      <th>mean</th>\n",
              "      <td>3.049583</td>\n",
              "    </tr>\n",
              "    <tr>\n",
              "      <th>std</th>\n",
              "      <td>0.233634</td>\n",
              "    </tr>\n",
              "    <tr>\n",
              "      <th>min</th>\n",
              "      <td>2.645010</td>\n",
              "    </tr>\n",
              "    <tr>\n",
              "      <th>25%</th>\n",
              "      <td>2.850201</td>\n",
              "    </tr>\n",
              "    <tr>\n",
              "      <th>50%</th>\n",
              "      <td>3.039065</td>\n",
              "    </tr>\n",
              "    <tr>\n",
              "      <th>75%</th>\n",
              "      <td>3.250478</td>\n",
              "    </tr>\n",
              "    <tr>\n",
              "      <th>max</th>\n",
              "      <td>3.465624</td>\n",
              "    </tr>\n",
              "  </tbody>\n",
              "</table>\n",
              "</div>"
            ],
            "text/plain": [
              "                 0\n",
              "count  3000.000000\n",
              "mean      3.049583\n",
              "std       0.233634\n",
              "min       2.645010\n",
              "25%       2.850201\n",
              "50%       3.039065\n",
              "75%       3.250478\n",
              "max       3.465624"
            ]
          },
          "metadata": {
            "tags": []
          },
          "execution_count": 12
        }
      ]
    },
    {
      "cell_type": "code",
      "metadata": {
        "id": "vFtcLNCoWBlX"
      },
      "source": [
        "s1_t = pd.DataFrame(np.random.randint(4, size=3000))\n",
        "s2_t = pd.DataFrame(np.random.randint(3, size=3000))\n",
        "s3_t = pd.DataFrame(np.random.randint(2, size=3000))\n",
        "s4_t = pd.DataFrame(np.random.randint(2, size=3000))\n",
        "s5_t = pd.DataFrame(np.random.randint(3, size=3000))"
      ],
      "id": "vFtcLNCoWBlX",
      "execution_count": null,
      "outputs": []
    },
    {
      "cell_type": "code",
      "metadata": {
        "id": "given-superintendent"
      },
      "source": [
        "data = pd.concat([gender,age,job,family_size,child_num,knowledge,risk,term,s1,s2,s3,s4,s5],axis=1)\n",
        "data.columns = [\"gender\",\"age\",\"job\",\"family_size\",\"child_num\",\"knowledge\",\"risk\",\"term\",\"s1\",\"s2\",\"s3\",\"s4\",\"s5\"]"
      ],
      "id": "given-superintendent",
      "execution_count": null,
      "outputs": []
    },
    {
      "cell_type": "code",
      "metadata": {
        "id": "1DcItQHOV8Na"
      },
      "source": [
        "test_data = pd.concat([gender,age,job,family_size,child_num,knowledge,risk,term,s1_t,s2_t,s3_t,s4_t,s5_t],axis=1)\n",
        "test_data.columns = [\"gender\",\"age\",\"job\",\"family_size\",\"child_num\",\"knowledge\",\"risk\",\"term\",\"s1\",\"s2\",\"s3\",\"s4\",\"s5\"]"
      ],
      "id": "1DcItQHOV8Na",
      "execution_count": null,
      "outputs": []
    },
    {
      "cell_type": "code",
      "metadata": {
        "id": "played-prince"
      },
      "source": [
        "test_data.to_csv('test1.csv', index=False)"
      ],
      "id": "played-prince",
      "execution_count": null,
      "outputs": []
    },
    {
      "cell_type": "code",
      "metadata": {
        "id": "QgCsVDaVsV-x"
      },
      "source": [
        ""
      ],
      "id": "QgCsVDaVsV-x",
      "execution_count": null,
      "outputs": []
    },
    {
      "cell_type": "code",
      "metadata": {
        "id": "ZJx1vauhsWBV"
      },
      "source": [
        ""
      ],
      "id": "ZJx1vauhsWBV",
      "execution_count": null,
      "outputs": []
    }
  ]
}