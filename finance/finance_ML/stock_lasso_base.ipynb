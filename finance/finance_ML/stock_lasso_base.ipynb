{
 "cells": [
  {
   "cell_type": "markdown",
   "metadata": {},
   "source": [
    "# lasso"
   ]
  },
  {
   "cell_type": "code",
   "execution_count": 6,
   "metadata": {},
   "outputs": [],
   "source": [
    "import pandas as pd\n",
    "import numpy as np\n",
    "import matplotlib.pyplot as plt\n",
    "from sklearn.model_selection import train_test_split\n",
    "from pandas_datareader import data\n",
    "from sklearn import linear_model\n",
    "from sklearn.metrics import mean_squared_error, r2_score"
   ]
  },
  {
   "cell_type": "code",
   "execution_count": 1,
   "metadata": {},
   "outputs": [],
   "source": [
    "def load_financial_data(start_date, end_date, output_file):\n",
    "    try:\n",
    "        df = pd.read_pickle(output_file)\n",
    "        print('File data found...reading GOOG data')\n",
    "    except FileNotFoundError:\n",
    "        print('File not found...downloading the GOOG data')\n",
    "        df = data.DataReader('GOOG', 'yahoo', start_date, end_date)\n",
    "        df.to_pickle(output_file)\n",
    "    return df"
   ]
  },
  {
   "cell_type": "code",
   "execution_count": 2,
   "metadata": {},
   "outputs": [],
   "source": [
    "def create_classification_trading_condition(df):\n",
    "    df['Open-Close'] = df.Open - df.Close\n",
    "    df['High-Low'] = df.High - df.Low\n",
    "    df = df.dropna()\n",
    "    X = df[['Open-Close', 'High-Low']]\n",
    "    Y = np.where(df['Close'].shift(-1) > df['Close'], 1, -1)\n",
    "    return (df, X, Y)"
   ]
  },
  {
   "cell_type": "code",
   "execution_count": 3,
   "metadata": {},
   "outputs": [],
   "source": [
    "def create_regression_trading_condition(df):\n",
    "    df['Open-Close'] = df.Open - df.Close\n",
    "    df['High-Low'] = df.High - df.Low\n",
    "    df['Target'] = df['Close'].shift(-1) - df['Close']\n",
    "    df = df.dropna()\n",
    "    X = df[['Open-Close', 'High-Low']]\n",
    "    Y = df[['Target']]\n",
    "    return (df, X, Y)"
   ]
  },
  {
   "cell_type": "code",
   "execution_count": 4,
   "metadata": {},
   "outputs": [],
   "source": [
    "def create_train_split_group(X, Y, split_ratio=0.8):\n",
    "    return train_test_split(X, Y, shuffle=False, train_size=split_ratio)"
   ]
  },
  {
   "cell_type": "code",
   "execution_count": 7,
   "metadata": {},
   "outputs": [
    {
     "name": "stdout",
     "output_type": "stream",
     "text": [
      "File data found...reading GOOG data\n"
     ]
    }
   ],
   "source": [
    "goog_data = load_financial_data(\n",
    "    start_date='2001-01-01',\n",
    "    end_date='2021-01-01',\n",
    "    output_file='goog_data_large.pkl')"
   ]
  },
  {
   "cell_type": "code",
   "execution_count": 8,
   "metadata": {},
   "outputs": [],
   "source": [
    "goog_data, X, Y = create_regression_trading_condition(goog_data)\n",
    "X_train,X_test,Y_train,Y_test=create_train_split_group(X,Y,split_ratio=0.8)"
   ]
  },
  {
   "cell_type": "code",
   "execution_count": 9,
   "metadata": {},
   "outputs": [
    {
     "name": "stdout",
     "output_type": "stream",
     "text": [
      "Coefficients: \n",
      " [ 0.01681235 -0.04842963]\n"
     ]
    }
   ],
   "source": [
    "# Fit the model\n",
    "lasso = linear_model.Lasso(alpha=0.1)\n",
    "lasso.fit(X_train, Y_train)\n",
    "\n",
    "# The coefficients\n",
    "print('Coefficients: \\n', lasso.coef_)"
   ]
  },
  {
   "cell_type": "code",
   "execution_count": 10,
   "metadata": {},
   "outputs": [
    {
     "name": "stdout",
     "output_type": "stream",
     "text": [
      "                 High        Low       Open      Close      Volume  Adj Close  \\\n",
      "Date                                                                            \n",
      "2004-08-19  51.835709  47.800831  49.813290  49.982655  44871361.0  49.982655   \n",
      "2004-08-20  54.336334  50.062355  50.316402  53.952770  22942874.0  53.952770   \n",
      "2004-08-23  56.528118  54.321388  55.168217  54.495735  18342897.0  54.495735   \n",
      "2004-08-24  55.591629  51.591621  55.412300  52.239197  15319808.0  52.239197   \n",
      "2004-08-25  53.798351  51.746044  52.284027  52.802086   9232276.0  52.802086   \n",
      "\n",
      "            Open-Close  High-Low    Target  Predicted_Signal  GOOG_Returns  \n",
      "Date                                                                        \n",
      "2004-08-19   -0.169365  4.034878  3.970116          0.266100           NaN  \n",
      "2004-08-20   -3.636368  4.273979  0.542965          0.196232      0.076433  \n",
      "2004-08-23    0.672482  2.206730 -2.256538          0.368790      0.010013  \n",
      "2004-08-24    3.173103  4.000008  0.562889          0.323984     -0.042289  \n",
      "2004-08-25   -0.518059  2.052307  0.951431          0.356253      0.010718  \n"
     ]
    }
   ],
   "source": [
    "goog_data['Predicted_Signal'] = lasso.predict(X)\n",
    "goog_data['GOOG_Returns'] = np.log(\n",
    "    goog_data['Close'] / goog_data['Close'].shift(1))\n",
    "\n",
    "print(goog_data.head())"
   ]
  },
  {
   "cell_type": "code",
   "execution_count": 11,
   "metadata": {},
   "outputs": [],
   "source": [
    "def calculate_return(df, split_value, symbol):\n",
    "    cum_goog_return = df[split_value:]['%s_Returns' % symbol].cumsum() * 100\n",
    "    df['Strategy_Returns'] = df['%s_Returns' %\n",
    "                                symbol] * df['Predicted_Signal'].shift(1)\n",
    "    return cum_goog_return"
   ]
  },
  {
   "cell_type": "code",
   "execution_count": 12,
   "metadata": {},
   "outputs": [],
   "source": [
    "def calculate_strategy_return(df, split_value, symbol):\n",
    "    cum_strategy_return = df[split_value:]['Strategy_Returns'].cumsum() * 100\n",
    "    return cum_strategy_return"
   ]
  },
  {
   "cell_type": "code",
   "execution_count": 13,
   "metadata": {},
   "outputs": [],
   "source": [
    "cum_goog_return = calculate_return(\n",
    "    goog_data, split_value=len(X_train), symbol='GOOG')\n",
    "cum_strategy_return = calculate_strategy_return(\n",
    "    goog_data, split_value=len(X_train), symbol='GOOG')"
   ]
  },
  {
   "cell_type": "code",
   "execution_count": 14,
   "metadata": {},
   "outputs": [],
   "source": [
    "def plot_shart(cum_symbol_return, cum_strategy_return, symbol):\n",
    "    plt.figure(figsize=(10, 5))\n",
    "    plt.plot(cum_symbol_return, label='%s Returns' % symbol)\n",
    "    plt.plot(cum_strategy_return, label='Strategy Returns')\n",
    "    plt.legend()\n",
    "    plt.show()"
   ]
  },
  {
   "cell_type": "code",
   "execution_count": 15,
   "metadata": {},
   "outputs": [
    {
     "data": {
      "image/png": "[encoded data removed]",
      "text/plain": [
       "<Figure size 720x360 with 1 Axes>"
      ]
     },
     "metadata": {
      "needs_background": "light"
     },
     "output_type": "display_data"
    }
   ],
   "source": [
    "plot_shart(cum_goog_return, cum_strategy_return, symbol='GOOG')"
   ]
  },
  {
   "cell_type": "code",
   "execution_count": 16,
   "metadata": {},
   "outputs": [],
   "source": [
    "def sharpe_ratio(symbol_returns, strategy_returns):\n",
    "    strategy_std = strategy_returns.std()\n",
    "    sharpe = (strategy_returns - symbol_returns) / strategy_std\n",
    "    return sharpe.mean()"
   ]
  },
  {
   "cell_type": "code",
   "execution_count": 17,
   "metadata": {},
   "outputs": [
    {
     "name": "stdout",
     "output_type": "stream",
     "text": [
      "1.9722800881476563\n"
     ]
    }
   ],
   "source": [
    "print(sharpe_ratio(cum_strategy_return, cum_goog_return))"
   ]
  },
  {
   "cell_type": "code",
   "execution_count": 18,
   "metadata": {},
   "outputs": [
    {
     "name": "stdout",
     "output_type": "stream",
     "text": [
      "Mean squared error: 27.52\n",
      "Variance score: 0.00\n",
      "Mean squared error: 103.38\n",
      "Variance score: -0.01\n"
     ]
    }
   ],
   "source": [
    "# 평균제곱오차 1에 가까울수록 적합\n",
    "print(\"Mean squared error: %.2f\"\n",
    "      % mean_squared_error(Y_train, lasso.predict(X_train)))\n",
    "# 설명된 분산 점수: 1이면 완벽한 예측이다.\n",
    "print('Variance score: %.2f' % r2_score(Y_train, lasso.predict(X_train)))\n",
    "\n",
    "# 평균제곱오차\n",
    "print(\"Mean squared error: %.2f\"\n",
    "      % mean_squared_error(Y_test, lasso.predict(X_test)))\n",
    "# 설명된 분산 점수: 1이면 완벽한 예측이다.\n",
    "print('Variance score: %.2f' % r2_score(Y_test, lasso.predict(X_test)))"
   ]
  },
  {
   "cell_type": "code",
   "execution_count": null,
   "metadata": {},
   "outputs": [],
   "source": []
  }
 ],
 "metadata": {
  "kernelspec": {
   "display_name": "Python 3",
   "language": "python",
   "name": "python3"
  },
  "language_info": {
   "codemirror_mode": {
    "name": "ipython",
    "version": 3
   },
   "file_extension": ".py",
   "mimetype": "text/x-python",
   "name": "python",
   "nbconvert_exporter": "python",
   "pygments_lexer": "ipython3",
   "version": "3.8.5"
  }
 },
 "nbformat": 4,
 "nbformat_minor": 4
}
