{
 "cells": [
  {
   "cell_type": "markdown",
   "metadata": {},
   "source": [
    "# MC"
   ]
  },
  {
   "cell_type": "code",
   "execution_count": 1,
   "metadata": {},
   "outputs": [],
   "source": [
    "from time import time\n",
    "from math import exp, sqrt, log\n",
    "from random import gauss, seed"
   ]
  },
  {
   "cell_type": "code",
   "execution_count": 3,
   "metadata": {},
   "outputs": [],
   "source": [
    "seed(20000)\n",
    "t0 = time()\n",
    "\n",
    "# 인수\n",
    "S0 = 100    # 초깃값\n",
    "K = 195     # 행사가\n",
    "T = 1.0     # 만기\n",
    "r = 0.05    # 무위험 단기 이자율\n",
    "sigma = 0.2 # 변동성\n",
    "M = 50      # 시간 구간 개수\n",
    "dt = T/M    # 하나의 시간 구간의 길이\n",
    "I = 250000  # 샘플 경로의 수\n",
    "\n",
    "# 경로 하나당 M개의 시간 구간을 가지는 I개의 샘플 경로를 생성\n",
    "S = []\n",
    "for i in range(I):\n",
    "    path = []\n",
    "    for t in range(M+1):\n",
    "        if t == 0:\n",
    "            path.append(S0)\n",
    "        else:\n",
    "            z = gauss(0.0, 1.0)\n",
    "            St = path[t-1]*exp((r - 0.5*sigma**2)*dt + sigma*sqrt(dt)*z)\n",
    "            path.append(St)\n",
    "    S.append(path)\n",
    "\n",
    "# 몬테카를로 방법을 사용한 가격 추정\n",
    "C0 = exp(-r * T)* sum([max(path[-1]-K,0) for path in S]) / I"
   ]
  },
  {
   "cell_type": "code",
   "execution_count": 5,
   "metadata": {},
   "outputs": [
    {
     "name": "stdout",
     "output_type": "stream",
     "text": [
      "유로피안 옵션 value   0.009\n",
      "듀레이션 in seconds 145.336\n"
     ]
    }
   ],
   "source": [
    "# 결과 출력\n",
    "tpy = time() - t0\n",
    "print(\"유로피안 옵션 value %7.3f\" % C0)\n",
    "print(\"듀레이션 in seconds %7.3f\" % tpy)"
   ]
  },
  {
   "cell_type": "markdown",
   "metadata": {},
   "source": [
    "------------------------------------------------------------"
   ]
  },
  {
   "cell_type": "markdown",
   "metadata": {},
   "source": [
    "# 2. Numpy로 구현한 유러피안 콜옵션의 몬테카를로 가격 계산"
   ]
  },
  {
   "cell_type": "code",
   "execution_count": 1,
   "metadata": {},
   "outputs": [],
   "source": [
    "from time import time\n",
    "import numpy as np\n",
    "import math"
   ]
  },
  {
   "cell_type": "code",
   "execution_count": 2,
   "metadata": {},
   "outputs": [],
   "source": [
    "np.random.seed(20000)\n",
    "t0 = time()\n",
    "\n",
    "# 파라미터\n",
    "S0 = 100\n",
    "K = 105\n",
    "T = 1.0\n",
    "r = 0.05\n",
    "sigma = 0.2\n",
    "M = 50\n",
    "dt = T/M\n",
    "I = 250000\n",
    "\n",
    "# 경로 하나당 M개의 시간 구간을 가지는 I개의 샘플 경로를 생성\n",
    "S = np.zeros((M+1, I))\n",
    "S[0] = S0\n",
    "for t in range(1, M+1):\n",
    "    z = np.random.standard_normal(I) # pseudorandom numbers\n",
    "    S[t] = S[t-1]*np.exp((r-.05*sigma**2)*dt+sigma*math.sqrt(dt)*z)\n",
    "    # 모든 경로의 같은 시간 구간에 대해 벡터 연산 적용\n",
    "\n"
   ]
  },
  {
   "cell_type": "code",
   "execution_count": 3,
   "metadata": {},
   "outputs": [],
   "source": [
    "# 몬테카를로 방법을 사용한 가격 추정\n",
    "C0 = math.exp(-r*T)*np.sum(np.maximum(S[-1]-K,0)) / I"
   ]
  },
  {
   "cell_type": "code",
   "execution_count": 5,
   "metadata": {},
   "outputs": [
    {
     "name": "stdout",
     "output_type": "stream",
     "text": [
      "유로피안 옵션 value   9.057\n",
      "듀레이션 in seconds  73.937\n"
     ]
    }
   ],
   "source": [
    "# 결과\n",
    "tnp1 = time() -t0\n",
    "print(\"유로피안 옵션 value %7.3f\" % C0)\n",
    "print(\"듀레이션 in seconds %7.3f\" % tnp1)"
   ]
  },
  {
   "cell_type": "markdown",
   "metadata": {},
   "source": [
    "# 벡터화"
   ]
  },
  {
   "cell_type": "code",
   "execution_count": 7,
   "metadata": {},
   "outputs": [],
   "source": [
    "# %run MC_basic.ipynb\n",
    "# round(tpy/ tnp1,2)"
   ]
  },
  {
   "cell_type": "markdown",
   "metadata": {},
   "source": [
    "- result: 그냥 파이썬보다 넘파이가 30배 빠르다, 값도 벤치마크값과 유사\n",
    "- 특히 의사 난수를 생성할 때 벡터화의 효과가 두드러진다"
   ]
  },
  {
   "cell_type": "code",
   "execution_count": null,
   "metadata": {},
   "outputs": [],
   "source": []
  }
 ],
 "metadata": {
  "kernelspec": {
   "display_name": "Python 3",
   "language": "python",
   "name": "python3"
  },
  "language_info": {
   "codemirror_mode": {
    "name": "ipython",
    "version": 3
   },
   "file_extension": ".py",
   "mimetype": "text/x-python",
   "name": "python",
   "nbconvert_exporter": "python",
   "pygments_lexer": "ipython3",
   "version": "3.8.5"
  }
 },
 "nbformat": 4,
 "nbformat_minor": 4
}
