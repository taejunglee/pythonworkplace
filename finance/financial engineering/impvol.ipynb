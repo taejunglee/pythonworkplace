{
 "cells": [
  {
   "cell_type": "code",
   "execution_count": null,
   "id": "55550cfb-5f40-4415-a01e-58f3d6d166ee",
   "metadata": {},
   "outputs": [],
   "source": []
  },
  {
   "cell_type": "code",
   "execution_count": 1,
   "id": "4129fb31-83e2-48e2-ad3e-f5ce11621dc8",
   "metadata": {},
   "outputs": [],
   "source": [
    "import numpy as np\n",
    "from calcbsimpvol import calcbsimpvol"
   ]
  },
  {
   "cell_type": "markdown",
   "id": "a8f5640b-3112-4ae8-9c0b-936b0820dcff",
   "metadata": {},
   "source": [
    "# 입력변수 "
   ]
  },
  {
   "cell_type": "code",
   "execution_count": 2,
   "id": "fee0c515-48e7-4c75-b82f-9ad70c81001c",
   "metadata": {},
   "outputs": [],
   "source": [
    "S = np.asarray(250.00)    # 기초자산가격\n",
    "K = np.asarray([300.0])   # 행사가\n",
    "tau = np.asarray([9/365]) # 만기\n",
    "r = np.asarray(0.01)      # 이자율\n",
    "q = np.asarray(0.00)      # 배당율\n",
    "cp = np.asarray(1)        # 옵션타입 콜1 풋 -1\n",
    "P = np.asarray([0.31])    # 시장가"
   ]
  },
  {
   "cell_type": "code",
   "execution_count": 3,
   "id": "8b67b5f4-c9f0-44dd-8aa7-9fa63154480e",
   "metadata": {},
   "outputs": [
    {
     "name": "stdout",
     "output_type": "stream",
     "text": [
      "[[0.61728652]]\n"
     ]
    }
   ],
   "source": [
    "vol = calcbsimpvol(dict(cp=cp, P=P, S=S, K=K, tau=tau, r=r, q=q))\n",
    "print(vol)"
   ]
  },
  {
   "cell_type": "code",
   "execution_count": null,
   "id": "84ed13b2-f365-4212-a515-04d5ff9a8f31",
   "metadata": {},
   "outputs": [],
   "source": []
  }
 ],
 "metadata": {
  "kernelspec": {
   "display_name": "Python 3",
   "language": "python",
   "name": "python3"
  },
  "language_info": {
   "codemirror_mode": {
    "name": "ipython",
    "version": 3
   },
   "file_extension": ".py",
   "mimetype": "text/x-python",
   "name": "python",
   "nbconvert_exporter": "python",
   "pygments_lexer": "ipython3",
   "version": "3.7.7"
  }
 },
 "nbformat": 4,
 "nbformat_minor": 5
}
