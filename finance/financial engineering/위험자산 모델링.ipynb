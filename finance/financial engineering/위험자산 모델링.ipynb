{
 "cells": [
  {
   "cell_type": "markdown",
   "metadata": {},
   "source": [
    "위험자산 입력변수\n",
    "1. 추세\n",
    "2. 변동성 요인\n",
    "3. 무작위성 요인"
   ]
  },
  {
   "cell_type": "markdown",
   "metadata": {},
   "source": [
    "S(t) = S(0)e 의 (u-1/2 * 변동성 패러미터 제곱)*t + 변동성 패러미터Xt"
   ]
  },
  {
   "cell_type": "markdown",
   "metadata": {},
   "source": [
    "입력변수 상정\n",
    "1. S(0) = 위험자산 초기값\n",
    "2. 추세 패러미터\n",
    "3. 변동성 패러미터\n",
    "4. 만기\n",
    "5. 브라운운동"
   ]
  },
  {
   "cell_type": "code",
   "execution_count": 1,
   "metadata": {},
   "outputs": [],
   "source": [
    "import numpy as np\n",
    "import matplotlib.pyplot as plt"
   ]
  },
  {
   "cell_type": "code",
   "execution_count": 2,
   "metadata": {},
   "outputs": [],
   "source": [
    "S0 = 100     # initial price\n",
    "mu = 0.1     # drift( 추세 패러미터 10% ) KOSPI(1980~2018)\n",
    "sigma = 0.23 # volatility( 변동성 패러미터 ) KOSPI(1980~2018)\n",
    "T = 1        # time to maturity\n",
    "N = 1        # number of trials, 일단 1, 위험자산 만기가격 분포 얻고 싶으면 늘리면됨"
   ]
  },
  {
   "cell_type": "code",
   "execution_count": 3,
   "metadata": {},
   "outputs": [
    {
     "name": "stdout",
     "output_type": "stream",
     "text": [
      "[111.8358855]\n"
     ]
    }
   ],
   "source": [
    "St = S0 * np.exp((mu-0.5*sigma **2)*T + sigma * np.sqrt(T)*np.random.randn(N))\n",
    "print(St)"
   ]
  },
  {
   "cell_type": "markdown",
   "metadata": {},
   "source": [
    "1. 시간에 대한 제곱근(numpy.sqrt(T))\n",
    "2. 정규분포에서 뽑아낸 난수 항(numpy.random.randn(N))"
   ]
  },
  {
   "cell_type": "markdown",
   "metadata": {},
   "source": [
    "10000개의 값을 가지는 배열"
   ]
  },
  {
   "cell_type": "code",
   "execution_count": 4,
   "metadata": {
    "scrolled": true
   },
   "outputs": [
    {
     "name": "stdout",
     "output_type": "stream",
     "text": [
      "10000\n"
     ]
    },
    {
     "data": {
      "text/plain": [
       "Text(0, 0.5, 'frequency')"
      ]
     },
     "execution_count": 4,
     "metadata": {},
     "output_type": "execute_result"
    },
    {
     "data": {
      "image/png": "[encoded data removed]",
      "text/plain": [
       "<Figure size 432x288 with 1 Axes>"
      ]
     },
     "metadata": {
      "needs_background": "light"
     },
     "output_type": "display_data"
    }
   ],
   "source": [
    "# 위험자산은 돌릴때마다 다르게 나옴(난수이기 때문)\n",
    "N = 10000 # 시행횟수\n",
    "St = S0 * np.exp((mu-0.5 * sigma **2) * T + sigma * np.sqrt(T)*np.random.randn(N))\n",
    "\n",
    "print(len(St))                   # number of St series\n",
    "plt.hist(St, bins=50)            # histogram of St\n",
    "plt.xlabel('price at maturity')  # title of x-axis\n",
    "plt.ylabel('frequency')          # title of y-axis"
   ]
  },
  {
   "cell_type": "markdown",
   "metadata": {},
   "source": [
    "# insight"
   ]
  },
  {
   "cell_type": "markdown",
   "metadata": {},
   "source": [
    "1. 로그정규분포를 따른다.(가격이 아닌 수익률이 정규분포를 따른다고 가정했기 때문)\n",
    "2. 가격함수는 로그정규분포 따르게됨\n",
    "3. 로그정규분포의 특징은 분포가 비대칭적, 꼬리 길게 형성 -> 양의 왜도 갖는다."
   ]
  },
  {
   "cell_type": "code",
   "execution_count": null,
   "metadata": {},
   "outputs": [],
   "source": []
  }
 ],
 "metadata": {
  "kernelspec": {
   "display_name": "Python 3",
   "language": "python",
   "name": "python3"
  },
  "language_info": {
   "codemirror_mode": {
    "name": "ipython",
    "version": 3
   },
   "file_extension": ".py",
   "mimetype": "text/x-python",
   "name": "python",
   "nbconvert_exporter": "python",
   "pygments_lexer": "ipython3",
   "version": "3.8.5"
  }
 },
 "nbformat": 4,
 "nbformat_minor": 4
}
