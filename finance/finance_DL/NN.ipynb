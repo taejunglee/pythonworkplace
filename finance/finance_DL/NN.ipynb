{
 "cells": [
  {
   "cell_type": "code",
   "execution_count": null,
   "metadata": {},
   "outputs": [],
   "source": []
  },
  {
   "cell_type": "code",
   "execution_count": 1,
   "metadata": {},
   "outputs": [],
   "source": [
    "import pandas as pd\n",
    "import numpy as np\n",
    "import pandas_datareader as pdr\n",
    "import FinanceDataReader as fdr\n",
    "import seaborn as sns\n",
    "from matplotlib import dates as mdates\n",
    "import matplotlib.pyplot as plt\n",
    "%matplotlib inline\n",
    "\n",
    "import warnings\n",
    "warnings.filterwarnings(action='ignore')"
   ]
  },
  {
   "cell_type": "code",
   "execution_count": 2,
   "metadata": {},
   "outputs": [],
   "source": [
    "df_ss = pdr.get_data_yahoo('005930.KS', '2018-01-01', '2019-12-31')"
   ]
  },
  {
   "cell_type": "code",
   "execution_count": 3,
   "metadata": {},
   "outputs": [],
   "source": [
    "# df_ss = df_ss.fillna(0)\n",
    "df_ss.dropna(axis=0, inplace=True)"
   ]
  },
  {
   "cell_type": "code",
   "execution_count": 4,
   "metadata": {},
   "outputs": [
    {
     "data": {
      "text/html": [
       "<div>\n",
       "<style scoped>\n",
       "    .dataframe tbody tr th:only-of-type {\n",
       "        vertical-align: middle;\n",
       "    }\n",
       "\n",
       "    .dataframe tbody tr th {\n",
       "        vertical-align: top;\n",
       "    }\n",
       "\n",
       "    .dataframe thead th {\n",
       "        text-align: right;\n",
       "    }\n",
       "</style>\n",
       "<table border=\"1\" class=\"dataframe\">\n",
       "  <thead>\n",
       "    <tr style=\"text-align: right;\">\n",
       "      <th></th>\n",
       "      <th>High</th>\n",
       "      <th>Low</th>\n",
       "      <th>Open</th>\n",
       "      <th>Close</th>\n",
       "      <th>Volume</th>\n",
       "      <th>Adj Close</th>\n",
       "    </tr>\n",
       "    <tr>\n",
       "      <th>Date</th>\n",
       "      <th></th>\n",
       "      <th></th>\n",
       "      <th></th>\n",
       "      <th></th>\n",
       "      <th></th>\n",
       "      <th></th>\n",
       "    </tr>\n",
       "  </thead>\n",
       "  <tbody>\n",
       "    <tr>\n",
       "      <th>2018-01-03</th>\n",
       "      <td>52560.0</td>\n",
       "      <td>51420.0</td>\n",
       "      <td>52540.0</td>\n",
       "      <td>51620.0</td>\n",
       "      <td>10013500.0</td>\n",
       "      <td>46235.468750</td>\n",
       "    </tr>\n",
       "    <tr>\n",
       "      <th>2018-01-04</th>\n",
       "      <td>52180.0</td>\n",
       "      <td>50640.0</td>\n",
       "      <td>52120.0</td>\n",
       "      <td>51080.0</td>\n",
       "      <td>11695450.0</td>\n",
       "      <td>45751.796875</td>\n",
       "    </tr>\n",
       "    <tr>\n",
       "      <th>2018-01-05</th>\n",
       "      <td>52120.0</td>\n",
       "      <td>51200.0</td>\n",
       "      <td>51300.0</td>\n",
       "      <td>52120.0</td>\n",
       "      <td>9481150.0</td>\n",
       "      <td>46683.312500</td>\n",
       "    </tr>\n",
       "    <tr>\n",
       "      <th>2018-01-08</th>\n",
       "      <td>52520.0</td>\n",
       "      <td>51500.0</td>\n",
       "      <td>52400.0</td>\n",
       "      <td>52020.0</td>\n",
       "      <td>8383650.0</td>\n",
       "      <td>46593.753906</td>\n",
       "    </tr>\n",
       "    <tr>\n",
       "      <th>2018-01-09</th>\n",
       "      <td>51720.0</td>\n",
       "      <td>49980.0</td>\n",
       "      <td>51460.0</td>\n",
       "      <td>50400.0</td>\n",
       "      <td>18013600.0</td>\n",
       "      <td>45142.734375</td>\n",
       "    </tr>\n",
       "  </tbody>\n",
       "</table>\n",
       "</div>"
      ],
      "text/plain": [
       "               High      Low     Open    Close      Volume     Adj Close\n",
       "Date                                                                    \n",
       "2018-01-03  52560.0  51420.0  52540.0  51620.0  10013500.0  46235.468750\n",
       "2018-01-04  52180.0  50640.0  52120.0  51080.0  11695450.0  45751.796875\n",
       "2018-01-05  52120.0  51200.0  51300.0  52120.0   9481150.0  46683.312500\n",
       "2018-01-08  52520.0  51500.0  52400.0  52020.0   8383650.0  46593.753906\n",
       "2018-01-09  51720.0  49980.0  51460.0  50400.0  18013600.0  45142.734375"
      ]
     },
     "execution_count": 4,
     "metadata": {},
     "output_type": "execute_result"
    }
   ],
   "source": [
    "df_ss.head()"
   ]
  },
  {
   "cell_type": "code",
   "execution_count": 5,
   "metadata": {},
   "outputs": [
    {
     "name": "stdout",
     "output_type": "stream",
     "text": [
      "<class 'pandas.core.frame.DataFrame'>\n",
      "DatetimeIndex: 487 entries, 2018-01-03 to 2019-12-30\n",
      "Data columns (total 6 columns):\n",
      " #   Column     Non-Null Count  Dtype  \n",
      "---  ------     --------------  -----  \n",
      " 0   High       487 non-null    float64\n",
      " 1   Low        487 non-null    float64\n",
      " 2   Open       487 non-null    float64\n",
      " 3   Close      487 non-null    float64\n",
      " 4   Volume     487 non-null    float64\n",
      " 5   Adj Close  487 non-null    float64\n",
      "dtypes: float64(6)\n",
      "memory usage: 26.6 KB\n"
     ]
    }
   ],
   "source": [
    "df_ss.info()"
   ]
  },
  {
   "cell_type": "code",
   "execution_count": 7,
   "metadata": {},
   "outputs": [],
   "source": [
    "# df_ss.drop(['dayline_10','Adj Close'], axis=1, inplace=True)"
   ]
  },
  {
   "cell_type": "code",
   "execution_count": null,
   "metadata": {},
   "outputs": [],
   "source": [
    "df_ss.head()"
   ]
  },
  {
   "cell_type": "code",
   "execution_count": 8,
   "metadata": {},
   "outputs": [
    {
     "name": "stdout",
     "output_type": "stream",
     "text": [
      "(389, 6) (98, 6)\n"
     ]
    }
   ],
   "source": [
    "split_size = int(df_ss.shape[0]*0.8)  #382\n",
    "train = df_ss.iloc[:split_size]  #[:382]\n",
    "test = df_ss.iloc[split_size:]   #[382:]\n",
    "print(train.shape, test.shape)"
   ]
  },
  {
   "cell_type": "code",
   "execution_count": 9,
   "metadata": {},
   "outputs": [
    {
     "data": {
      "text/plain": [
       "<AxesSubplot:xlabel='Date'>"
      ]
     },
     "execution_count": 9,
     "metadata": {},
     "output_type": "execute_result"
    },
    {
     "data": {
      "image/png": "[encoded data removed]",
      "text/plain": [
       "<Figure size 432x288 with 1 Axes>"
      ]
     },
     "metadata": {
      "needs_background": "light"
     },
     "output_type": "display_data"
    }
   ],
   "source": [
    "train['Close'].plot()\n",
    "test['Close'].plot()"
   ]
  },
  {
   "cell_type": "code",
   "execution_count": 10,
   "metadata": {},
   "outputs": [],
   "source": [
    "# y = df_ss['Close']\n",
    "# X = df_ss.drop('Close', axis=1)\n",
    "from sklearn.preprocessing import MinMaxScaler\n",
    "scaler = MinMaxScaler()\n",
    "scaler.fit(train)\n",
    "train_scaler = scaler.transform(train)\n",
    "test_scaler  = scaler.transform(test)"
   ]
  },
  {
   "cell_type": "code",
   "execution_count": 11,
   "metadata": {},
   "outputs": [
    {
     "data": {
      "text/plain": [
       "((389, 6), (98, 6))"
      ]
     },
     "execution_count": 11,
     "metadata": {},
     "output_type": "execute_result"
    }
   ],
   "source": [
    "train_scaler.shape, test_scaler.shape"
   ]
  },
  {
   "cell_type": "code",
   "execution_count": 12,
   "metadata": {},
   "outputs": [
    {
     "data": {
      "text/plain": [
       "array([[0.904474  , 0.90216718, 0.9472693 , 0.91125402, 0.15481291,\n",
       "        0.88005354],\n",
       "       [0.8814994 , 0.85386997, 0.92090395, 0.87652733, 0.18081656,\n",
       "        0.84341995],\n",
       "       [0.87787183, 0.88854489, 0.86942875, 0.94340836, 0.14658255,\n",
       "        0.91397349],\n",
       "       [0.90205562, 0.90712074, 0.93848085, 0.93697749, 0.12961474,\n",
       "        0.90719027],\n",
       "       [0.85368803, 0.8130031 , 0.87947269, 0.83279743, 0.2784978 ,\n",
       "        0.7972892 ],\n",
       "       [0.78113664, 0.73003096, 0.81920904, 0.73247588, 0.28705051,\n",
       "        0.69145859],\n",
       "       [0.70495768, 0.69164087, 0.67482737, 0.69389068, 0.38842448,\n",
       "        0.65075454],\n",
       "       [0.65779927, 0.61362229, 0.67733836, 0.69131833, 0.42161258,\n",
       "        0.64804119],\n",
       "       [0.68802902, 0.68544892, 0.71249215, 0.71318328, 0.15608839,\n",
       "        0.67110627],\n",
       "       [0.75816203, 0.72879257, 0.70998117, 0.80707395, 0.31523253,\n",
       "        0.77015277]])"
      ]
     },
     "execution_count": 12,
     "metadata": {},
     "output_type": "execute_result"
    }
   ],
   "source": [
    "train_scaler[:10]"
   ]
  },
  {
   "cell_type": "code",
   "execution_count": 13,
   "metadata": {},
   "outputs": [],
   "source": [
    "train_scale_df = pd.DataFrame(train_scaler)\n",
    "train_scale_df.columns = train.columns\n",
    "test_scale_df = pd.DataFrame(test_scaler)\n",
    "test_scale_df.columns = train.columns\n",
    "\n",
    "y_train = train_scale_df['Close']\n",
    "X_train = train_scale_df.drop('Close', axis=1)\n",
    "\n",
    "y_test = test_scale_df['Close']\n",
    "X_test = test_scale_df.drop('Close', axis=1)"
   ]
  },
  {
   "cell_type": "code",
   "execution_count": 14,
   "metadata": {},
   "outputs": [
    {
     "data": {
      "text/plain": [
       "((389, 5), 389)"
      ]
     },
     "execution_count": 14,
     "metadata": {},
     "output_type": "execute_result"
    }
   ],
   "source": [
    "X_train.shape, len(y_train)"
   ]
  },
  {
   "cell_type": "code",
   "execution_count": 15,
   "metadata": {},
   "outputs": [
    {
     "data": {
      "text/plain": [
       "((98, 5), 98)"
      ]
     },
     "execution_count": 15,
     "metadata": {},
     "output_type": "execute_result"
    }
   ],
   "source": [
    "X_test.shape, len(y_test)"
   ]
  },
  {
   "cell_type": "markdown",
   "metadata": {},
   "source": [
    "# feature에 지수 관련 피쳐 넣을 것\n",
    "당장은 뭐 없어서 위에서 연습한 수익률.. 이런것들을 사용"
   ]
  },
  {
   "cell_type": "code",
   "execution_count": 16,
   "metadata": {},
   "outputs": [],
   "source": [
    "def my_dataset_window(xdata, ydata, window_size=5):\n",
    "    window_size = 5\n",
    "    xlist= []\n",
    "    ylist = []\n",
    "    # for i in range(train_scaler.shape[0] - window_size) :  #range(377)\n",
    "    for i in range(window_size, xdata.shape[0]) :   #5,377   \n",
    "        xvar = xdata[i-window_size: i]   #[0:5]  0,1,2,3,4\n",
    "        yvar = ydata[i]    #Close\n",
    "        xlist.append(xvar)\n",
    "        ylist.append(yvar) \n",
    "    xlist = np.array(xlist)\n",
    "    ylist = np.array(ylist)\n",
    "    return xlist, ylist\n",
    "\n",
    "X_train, y_train = my_dataset_window(X_train, y_train)\n",
    "X_test, y_test = my_dataset_window(X_test, y_test)"
   ]
  },
  {
   "cell_type": "code",
   "execution_count": 17,
   "metadata": {},
   "outputs": [
    {
     "name": "stdout",
     "output_type": "stream",
     "text": [
      "(384, 5, 5)\n",
      "(384,)\n"
     ]
    }
   ],
   "source": [
    "print(X_train.shape)    \n",
    "print(y_train.shape)  "
   ]
  },
  {
   "cell_type": "code",
   "execution_count": 18,
   "metadata": {},
   "outputs": [
    {
     "name": "stdout",
     "output_type": "stream",
     "text": [
      "Model: \"sequential\"\n",
      "_________________________________________________________________\n",
      "Layer (type)                 Output Shape              Param #   \n",
      "=================================================================\n",
      "lstm (LSTM)                  (None, 10)                640       \n",
      "_________________________________________________________________\n",
      "dropout (Dropout)            (None, 10)                0         \n",
      "_________________________________________________________________\n",
      "dense (Dense)                (None, 1)                 11        \n",
      "=================================================================\n",
      "Total params: 651\n",
      "Trainable params: 651\n",
      "Non-trainable params: 0\n",
      "_________________________________________________________________\n"
     ]
    }
   ],
   "source": [
    "from tensorflow.keras import Sequential\n",
    "from tensorflow.keras.layers import Dense, LSTM, Dropout\n",
    "# 모델 생성\n",
    "model = Sequential()\n",
    "model.add(LSTM(10, activation='relu',\n",
    "               input_shape=(X_train.shape[1], X_train.shape[2])))  #(5,8)\n",
    "model.add(Dropout(0.1))\n",
    "model.add(Dense(1))\n",
    "model.summary()\n",
    "model.compile(optimizer='adam', loss='mean_squared_error', metrics=['mse'])"
   ]
  },
  {
   "cell_type": "code",
   "execution_count": 20,
   "metadata": {},
   "outputs": [
    {
     "name": "stdout",
     "output_type": "stream",
     "text": [
      "Model: \"sequential_1\"\n",
      "_________________________________________________________________\n",
      "Layer (type)                 Output Shape              Param #   \n",
      "=================================================================\n",
      "lstm_2 (LSTM)                (None, 5, 50)             11200     \n",
      "_________________________________________________________________\n",
      "dropout_1 (Dropout)          (None, 5, 50)             0         \n",
      "_________________________________________________________________\n",
      "lstm_3 (LSTM)                (None, 5, 60)             26640     \n",
      "_________________________________________________________________\n",
      "dropout_2 (Dropout)          (None, 5, 60)             0         \n",
      "_________________________________________________________________\n",
      "lstm_4 (LSTM)                (None, 5, 80)             45120     \n",
      "_________________________________________________________________\n",
      "dropout_3 (Dropout)          (None, 5, 80)             0         \n",
      "_________________________________________________________________\n",
      "lstm_5 (LSTM)                (None, 120)               96480     \n",
      "_________________________________________________________________\n",
      "dropout_4 (Dropout)          (None, 120)               0         \n",
      "_________________________________________________________________\n",
      "dense_1 (Dense)              (None, 1)                 121       \n",
      "=================================================================\n",
      "Total params: 179,561\n",
      "Trainable params: 179,561\n",
      "Non-trainable params: 0\n",
      "_________________________________________________________________\n"
     ]
    }
   ],
   "source": [
    "model = Sequential()\n",
    "model.add(LSTM(units=50, activation=\"relu\", return_sequences=True, input_shape = (X_train.shape[1], X_train.shape[2])))\n",
    "model.add(Dropout(0.2))\n",
    "\n",
    "model.add(LSTM(units=60, activation=\"relu\", return_sequences=True))\n",
    "model.add(Dropout(0.3))\n",
    "\n",
    "model.add(LSTM(units=80, activation=\"relu\", return_sequences=True))\n",
    "model.add(Dropout(0.4))\n",
    "\n",
    "model.add(LSTM(units=120, activation=\"relu\"))\n",
    "model.add(Dropout(0.5))\n",
    "\n",
    "model.add(Dense(units = 1))\n",
    "\n",
    "model.summary()\n",
    "model.compile(optimizer='adam', loss='mean_squared_error', metrics=['mse'])"
   ]
  },
  {
   "cell_type": "code",
   "execution_count": 21,
   "metadata": {},
   "outputs": [
    {
     "name": "stdout",
     "output_type": "stream",
     "text": [
      "Epoch 1/200\n",
      "22/22 [==============================] - 19s 137ms/step - loss: 0.2630 - mse: 0.2630 - val_loss: 0.0359 - val_mse: 0.0359\n",
      "Epoch 2/200\n",
      "22/22 [==============================] - 1s 27ms/step - loss: 0.0546 - mse: 0.0546 - val_loss: 0.0051 - val_mse: 0.0051\n",
      "Epoch 3/200\n",
      "22/22 [==============================] - 1s 36ms/step - loss: 0.0326 - mse: 0.0326 - val_loss: 0.0033 - val_mse: 0.0033\n",
      "Epoch 4/200\n",
      "22/22 [==============================] - 1s 40ms/step - loss: 0.0198 - mse: 0.0198 - val_loss: 0.0039 - val_mse: 0.0039\n",
      "Epoch 5/200\n",
      "22/22 [==============================] - 1s 29ms/step - loss: 0.0196 - mse: 0.0196 - val_loss: 0.0054 - val_mse: 0.0054\n",
      "Epoch 6/200\n",
      "22/22 [==============================] - 1s 25ms/step - loss: 0.0210 - mse: 0.0210 - val_loss: 0.0037 - val_mse: 0.0037\n",
      "Epoch 7/200\n",
      "22/22 [==============================] - 1s 24ms/step - loss: 0.0186 - mse: 0.0186 - val_loss: 0.0041 - val_mse: 0.0041\n",
      "Epoch 8/200\n",
      "22/22 [==============================] - 1s 36ms/step - loss: 0.0202 - mse: 0.0202 - val_loss: 0.0036 - val_mse: 0.0036\n",
      "Epoch 9/200\n",
      "22/22 [==============================] - 1s 28ms/step - loss: 0.0187 - mse: 0.0187 - val_loss: 0.0042 - val_mse: 0.0042\n",
      "Epoch 10/200\n",
      "22/22 [==============================] - 1s 29ms/step - loss: 0.0148 - mse: 0.0148 - val_loss: 0.0104 - val_mse: 0.0104\n",
      "Epoch 11/200\n",
      "22/22 [==============================] - 1s 33ms/step - loss: 0.0203 - mse: 0.0203 - val_loss: 0.0100 - val_mse: 0.0100\n",
      "Epoch 12/200\n",
      "22/22 [==============================] - 1s 27ms/step - loss: 0.0203 - mse: 0.0203 - val_loss: 0.0039 - val_mse: 0.0039\n",
      "Epoch 13/200\n",
      "22/22 [==============================] - 1s 29ms/step - loss: 0.0182 - mse: 0.0182 - val_loss: 0.0038 - val_mse: 0.0038\n"
     ]
    }
   ],
   "source": [
    "from keras.callbacks import EarlyStopping\n",
    "stop = EarlyStopping(monitor='val_loss', patience=10)\n",
    "history = model.fit(X_train, y_train, epochs=200, batch_size=16, validation_split=0.1, callbacks=[stop])"
   ]
  },
  {
   "cell_type": "code",
   "execution_count": 22,
   "metadata": {},
   "outputs": [
    {
     "data": {
      "text/plain": [
       "[<matplotlib.lines.Line2D at 0x27804050e80>]"
      ]
     },
     "execution_count": 22,
     "metadata": {},
     "output_type": "execute_result"
    },
    {
     "data": {
      "image/png": "[encoded data removed]",
      "text/plain": [
       "<Figure size 432x288 with 1 Axes>"
      ]
     },
     "metadata": {
      "needs_background": "light"
     },
     "output_type": "display_data"
    }
   ],
   "source": [
    "plt.plot(history.history['loss'], label='loss')\n",
    "plt.plot(history.history['val_loss'], label= 'val_loss')"
   ]
  },
  {
   "cell_type": "code",
   "execution_count": 23,
   "metadata": {},
   "outputs": [],
   "source": [
    "pred = model.predict(X_test)"
   ]
  },
  {
   "cell_type": "code",
   "execution_count": 24,
   "metadata": {},
   "outputs": [
    {
     "data": {
      "text/plain": [
       "[<matplotlib.lines.Line2D at 0x2780447e340>]"
      ]
     },
     "execution_count": 24,
     "metadata": {},
     "output_type": "execute_result"
    },
    {
     "data": {
      "image/png": "[encoded data removed]",
      "text/plain": [
       "<Figure size 432x288 with 1 Axes>"
      ]
     },
     "metadata": {
      "needs_background": "light"
     },
     "output_type": "display_data"
    }
   ],
   "source": [
    "plt.plot(pred, label='pred')\n",
    "plt.plot(y_test, label= 'y_test')"
   ]
  },
  {
   "cell_type": "code",
   "execution_count": null,
   "metadata": {},
   "outputs": [],
   "source": []
  },
  {
   "cell_type": "code",
   "execution_count": null,
   "metadata": {},
   "outputs": [],
   "source": []
  },
  {
   "cell_type": "code",
   "execution_count": null,
   "metadata": {},
   "outputs": [],
   "source": []
  }
 ],
 "metadata": {
  "kernelspec": {
   "display_name": "Python 3",
   "language": "python",
   "name": "python3"
  },
  "language_info": {
   "codemirror_mode": {
    "name": "ipython",
    "version": 3
   },
   "file_extension": ".py",
   "mimetype": "text/x-python",
   "name": "python",
   "nbconvert_exporter": "python",
   "pygments_lexer": "ipython3",
   "version": "3.8.5"
  }
 },
 "nbformat": 4,
 "nbformat_minor": 4
}
