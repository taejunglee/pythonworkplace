{
 "cells": [
  {
   "cell_type": "markdown",
   "metadata": {},
   "source": [
    "# LSTM (장단기기억Long Short-Term Memory)"
   ]
  },
  {
   "cell_type": "code",
   "execution_count": 1,
   "metadata": {},
   "outputs": [],
   "source": [
    "import tensorflow as tf\n",
    "from tensorflow.keras import Sequential\n",
    "from tensorflow.keras.layers import Dense, LSTM, Dropout\n",
    "import numpy as np\n",
    "import matplotlib.pyplot as plt\n",
    "from pandas_datareader import data as pdr\n",
    "import pandas as pd"
   ]
  },
  {
   "cell_type": "code",
   "execution_count": 2,
   "metadata": {},
   "outputs": [],
   "source": [
    "df_ss = pdr.get_data_yahoo('005930.KS','20200101','20201231')"
   ]
  },
  {
   "cell_type": "code",
   "execution_count": 3,
   "metadata": {},
   "outputs": [
    {
     "data": {
      "text/html": [
       "<div>\n",
       "<style scoped>\n",
       "    .dataframe tbody tr th:only-of-type {\n",
       "        vertical-align: middle;\n",
       "    }\n",
       "\n",
       "    .dataframe tbody tr th {\n",
       "        vertical-align: top;\n",
       "    }\n",
       "\n",
       "    .dataframe thead th {\n",
       "        text-align: right;\n",
       "    }\n",
       "</style>\n",
       "<table border=\"1\" class=\"dataframe\">\n",
       "  <thead>\n",
       "    <tr style=\"text-align: right;\">\n",
       "      <th></th>\n",
       "      <th>High</th>\n",
       "      <th>Low</th>\n",
       "      <th>Open</th>\n",
       "      <th>Close</th>\n",
       "      <th>Volume</th>\n",
       "      <th>Adj Close</th>\n",
       "    </tr>\n",
       "    <tr>\n",
       "      <th>Date</th>\n",
       "      <th></th>\n",
       "      <th></th>\n",
       "      <th></th>\n",
       "      <th></th>\n",
       "      <th></th>\n",
       "      <th></th>\n",
       "    </tr>\n",
       "  </thead>\n",
       "  <tbody>\n",
       "    <tr>\n",
       "      <th>2020-01-02</th>\n",
       "      <td>56000.0</td>\n",
       "      <td>55000.0</td>\n",
       "      <td>55500.0</td>\n",
       "      <td>55200.0</td>\n",
       "      <td>12993228.0</td>\n",
       "      <td>52537.179688</td>\n",
       "    </tr>\n",
       "    <tr>\n",
       "      <th>2020-01-03</th>\n",
       "      <td>56600.0</td>\n",
       "      <td>54900.0</td>\n",
       "      <td>56000.0</td>\n",
       "      <td>55500.0</td>\n",
       "      <td>15422255.0</td>\n",
       "      <td>52822.707031</td>\n",
       "    </tr>\n",
       "    <tr>\n",
       "      <th>2020-01-06</th>\n",
       "      <td>55600.0</td>\n",
       "      <td>54600.0</td>\n",
       "      <td>54900.0</td>\n",
       "      <td>55500.0</td>\n",
       "      <td>10278951.0</td>\n",
       "      <td>52822.707031</td>\n",
       "    </tr>\n",
       "    <tr>\n",
       "      <th>2020-01-07</th>\n",
       "      <td>56400.0</td>\n",
       "      <td>55600.0</td>\n",
       "      <td>55700.0</td>\n",
       "      <td>55800.0</td>\n",
       "      <td>10009778.0</td>\n",
       "      <td>53108.238281</td>\n",
       "    </tr>\n",
       "    <tr>\n",
       "      <th>2020-01-08</th>\n",
       "      <td>57400.0</td>\n",
       "      <td>55900.0</td>\n",
       "      <td>56200.0</td>\n",
       "      <td>56800.0</td>\n",
       "      <td>23501171.0</td>\n",
       "      <td>54059.992188</td>\n",
       "    </tr>\n",
       "    <tr>\n",
       "      <th>...</th>\n",
       "      <td>...</td>\n",
       "      <td>...</td>\n",
       "      <td>...</td>\n",
       "      <td>...</td>\n",
       "      <td>...</td>\n",
       "      <td>...</td>\n",
       "    </tr>\n",
       "    <tr>\n",
       "      <th>2020-12-23</th>\n",
       "      <td>74000.0</td>\n",
       "      <td>72300.0</td>\n",
       "      <td>72400.0</td>\n",
       "      <td>73900.0</td>\n",
       "      <td>19411326.0</td>\n",
       "      <td>71766.921875</td>\n",
       "    </tr>\n",
       "    <tr>\n",
       "      <th>2020-12-24</th>\n",
       "      <td>78800.0</td>\n",
       "      <td>74000.0</td>\n",
       "      <td>74100.0</td>\n",
       "      <td>77800.0</td>\n",
       "      <td>32502870.0</td>\n",
       "      <td>75554.351562</td>\n",
       "    </tr>\n",
       "    <tr>\n",
       "      <th>2020-12-28</th>\n",
       "      <td>80100.0</td>\n",
       "      <td>78200.0</td>\n",
       "      <td>79000.0</td>\n",
       "      <td>78700.0</td>\n",
       "      <td>40085044.0</td>\n",
       "      <td>76428.375000</td>\n",
       "    </tr>\n",
       "    <tr>\n",
       "      <th>2020-12-29</th>\n",
       "      <td>78900.0</td>\n",
       "      <td>77300.0</td>\n",
       "      <td>78800.0</td>\n",
       "      <td>78300.0</td>\n",
       "      <td>30339449.0</td>\n",
       "      <td>77953.601562</td>\n",
       "    </tr>\n",
       "    <tr>\n",
       "      <th>2020-12-30</th>\n",
       "      <td>81300.0</td>\n",
       "      <td>77300.0</td>\n",
       "      <td>77400.0</td>\n",
       "      <td>81000.0</td>\n",
       "      <td>29417421.0</td>\n",
       "      <td>80641.656250</td>\n",
       "    </tr>\n",
       "  </tbody>\n",
       "</table>\n",
       "<p>248 rows × 6 columns</p>\n",
       "</div>"
      ],
      "text/plain": [
       "               High      Low     Open    Close      Volume     Adj Close\n",
       "Date                                                                    \n",
       "2020-01-02  56000.0  55000.0  55500.0  55200.0  12993228.0  52537.179688\n",
       "2020-01-03  56600.0  54900.0  56000.0  55500.0  15422255.0  52822.707031\n",
       "2020-01-06  55600.0  54600.0  54900.0  55500.0  10278951.0  52822.707031\n",
       "2020-01-07  56400.0  55600.0  55700.0  55800.0  10009778.0  53108.238281\n",
       "2020-01-08  57400.0  55900.0  56200.0  56800.0  23501171.0  54059.992188\n",
       "...             ...      ...      ...      ...         ...           ...\n",
       "2020-12-23  74000.0  72300.0  72400.0  73900.0  19411326.0  71766.921875\n",
       "2020-12-24  78800.0  74000.0  74100.0  77800.0  32502870.0  75554.351562\n",
       "2020-12-28  80100.0  78200.0  79000.0  78700.0  40085044.0  76428.375000\n",
       "2020-12-29  78900.0  77300.0  78800.0  78300.0  30339449.0  77953.601562\n",
       "2020-12-30  81300.0  77300.0  77400.0  81000.0  29417421.0  80641.656250\n",
       "\n",
       "[248 rows x 6 columns]"
      ]
     },
     "execution_count": 3,
     "metadata": {},
     "output_type": "execute_result"
    }
   ],
   "source": [
    "df_ss"
   ]
  },
  {
   "cell_type": "code",
   "execution_count": 4,
   "metadata": {},
   "outputs": [],
   "source": [
    "window_size = 10  # 이전 10일 동안 데이터를 이용\n",
    "data_size = 6     # (high~adj close까지해서 6개)"
   ]
  },
  {
   "cell_type": "code",
   "execution_count": 5,
   "metadata": {},
   "outputs": [],
   "source": [
    "def MinMaxScaler(data):\n",
    "    \"\"\"최솟값과 최댓값을 이용하여 0 ~ 1 값으로 변환\"\"\"\n",
    "    numerator = data - np.min(data, 0)\n",
    "    denominator = np.max(data, 0) - np.min(data, 0)\n",
    "    # 0으로 나누기 에러가 발생하지 않도록 매우 작은 값(1e-7)을 더해서 나눔\n",
    "    return numerator / (denominator + 1e-7)"
   ]
  },
  {
   "cell_type": "code",
   "execution_count": 6,
   "metadata": {},
   "outputs": [],
   "source": [
    "dfx = MinMaxScaler(df_ss)\n",
    "dfy = dfx[['Close']]\n",
    "\n",
    "x = dfx.values.tolist()\n",
    "y = dfy.values.tolist()"
   ]
  },
  {
   "cell_type": "code",
   "execution_count": 7,
   "metadata": {},
   "outputs": [
    {
     "name": "stdout",
     "output_type": "stream",
     "text": [
      "<class 'pandas.core.frame.DataFrame'>\n",
      "DatetimeIndex: 248 entries, 2020-01-02 to 2020-12-30\n",
      "Data columns (total 6 columns):\n",
      " #   Column     Non-Null Count  Dtype  \n",
      "---  ------     --------------  -----  \n",
      " 0   High       248 non-null    float64\n",
      " 1   Low        248 non-null    float64\n",
      " 2   Open       248 non-null    float64\n",
      " 3   Close      248 non-null    float64\n",
      " 4   Volume     248 non-null    float64\n",
      " 5   Adj Close  248 non-null    float64\n",
      "dtypes: float64(6)\n",
      "memory usage: 13.6 KB\n"
     ]
    }
   ],
   "source": [
    "df_ss.info()"
   ]
  },
  {
   "cell_type": "code",
   "execution_count": 8,
   "metadata": {},
   "outputs": [
    {
     "name": "stdout",
     "output_type": "stream",
     "text": [
      "[[0.8092715231766642, 0.8635097493012158, 0.8571428571405023, 0.8129870129849013, 0.35086851501253674, 0.7767744515079114], [0.8198675496667023, 0.8662952646215424, 0.865384615382238, 0.8129870129849013, 0.29450415774142813, 0.7767744515079114], [0.798675496686626, 0.8440111420589304, 0.8461538461515216, 0.799999999997922, 0.40854382342693996, 0.7646931332907858], [0.798675496686626, 0.8551532033402364, 0.8434065934042764, 0.7922077922057346, 0.29620182038447335, 0.7574444978647431], [0.7907284768190974, 0.8272980501369713, 0.8379120879097859, 0.7922077922057346, 0.3425218698848906, 0.7574444978647431], [0.7854304635740783, 0.8300835654572978, 0.8214285714263148, 0.7740259740239636, 0.27420292234828, 0.7405304968565346], [0.8066225165541546, 0.8356545960979508, 0.8186813186790696, 0.8155844155822972, 0.32644413957851637, 0.779190598523162], [0.9337748344346125, 0.8830083565435014, 0.865384615382238, 0.9168831168807353, 0.546607245222834, 0.8734244141040435], [0.9682119205272365, 0.9999999999972145, 0.9999999999972528, 0.940259740257298, 0.6741181771171619, 0.8951707091427531], [0.9364238410571221, 0.974930362114276, 0.9945054945027624, 0.9298701298677146, 0.5102245629222486, 0.9331193789448738]] -> [0.9999999999974025]\n"
     ]
    }
   ],
   "source": [
    "data_x = []\n",
    "data_y = []\n",
    "for i in range(len(y) - window_size):\n",
    "    _x = x[i : i + window_size] # 다음 날 종가(i+windows_size)는 포함되지 않음\n",
    "    _y = y[i + window_size]     # 다음 날 종가\n",
    "    data_x.append(_x)\n",
    "    data_y.append(_y)\n",
    "print(_x, \"->\", _y) \n",
    "#마지막으로 data_x 리스트에 추가된 _x 값과 data_y 리스트에 추가된 _y값 확인"
   ]
  },
  {
   "cell_type": "markdown",
   "metadata": {},
   "source": [
    "- 가장 마지막날 종가 0.9331193789448738, 10일동안 매핑되는 다음날 종가9999999999975119"
   ]
  },
  {
   "cell_type": "code",
   "execution_count": 9,
   "metadata": {},
   "outputs": [],
   "source": [
    "from sklearn.model_selection import train_test_split"
   ]
  },
  {
   "cell_type": "code",
   "execution_count": null,
   "metadata": {},
   "outputs": [],
   "source": []
  },
  {
   "cell_type": "code",
   "execution_count": null,
   "metadata": {},
   "outputs": [],
   "source": []
  },
  {
   "cell_type": "code",
   "execution_count": 10,
   "metadata": {},
   "outputs": [],
   "source": [
    "train_size = int(len(data_y) * 0.7)\n",
    "train_x = np.array(data_x[0 : train_size])\n",
    "train_y = np.array(data_y[0 : train_size])\n",
    "\n",
    "test_size = len(data_y) - train_size\n",
    "test_x = np.array(data_x[train_size : len(data_x)])\n",
    "test_y = np.array(data_y[train_size : len(data_y)])"
   ]
  },
  {
   "cell_type": "code",
   "execution_count": 11,
   "metadata": {},
   "outputs": [
    {
     "name": "stdout",
     "output_type": "stream",
     "text": [
      "Model: \"sequential\"\n",
      "_________________________________________________________________\n",
      "Layer (type)                 Output Shape              Param #   \n",
      "=================================================================\n",
      "lstm (LSTM)                  (None, 10, 10)            680       \n",
      "_________________________________________________________________\n",
      "dropout (Dropout)            (None, 10, 10)            0         \n",
      "_________________________________________________________________\n",
      "lstm_1 (LSTM)                (None, 10)                840       \n",
      "_________________________________________________________________\n",
      "dropout_1 (Dropout)          (None, 10)                0         \n",
      "_________________________________________________________________\n",
      "dense (Dense)                (None, 1)                 11        \n",
      "=================================================================\n",
      "Total params: 1,531\n",
      "Trainable params: 1,531\n",
      "Non-trainable params: 0\n",
      "_________________________________________________________________\n",
      "Epoch 1/60\n",
      "6/6 [==============================] - 7s 14ms/step - loss: 0.1006\n",
      "Epoch 2/60\n",
      "6/6 [==============================] - 0s 12ms/step - loss: 0.0824\n",
      "Epoch 3/60\n",
      "6/6 [==============================] - 0s 12ms/step - loss: 0.0726\n",
      "Epoch 4/60\n",
      "6/6 [==============================] - 0s 12ms/step - loss: 0.0588\n",
      "Epoch 5/60\n",
      "6/6 [==============================] - 0s 12ms/step - loss: 0.0410\n",
      "Epoch 6/60\n",
      "6/6 [==============================] - 0s 13ms/step - loss: 0.0255\n",
      "Epoch 7/60\n",
      "6/6 [==============================] - 0s 13ms/step - loss: 0.0159\n",
      "Epoch 8/60\n",
      "6/6 [==============================] - 0s 13ms/step - loss: 0.0122\n",
      "Epoch 9/60\n",
      "6/6 [==============================] - 0s 13ms/step - loss: 0.0177\n",
      "Epoch 10/60\n",
      "6/6 [==============================] - 0s 14ms/step - loss: 0.0139\n",
      "Epoch 11/60\n",
      "6/6 [==============================] - 0s 14ms/step - loss: 0.0127\n",
      "Epoch 12/60\n",
      "6/6 [==============================] - 0s 16ms/step - loss: 0.0141\n",
      "Epoch 13/60\n",
      "6/6 [==============================] - 0s 13ms/step - loss: 0.0094\n",
      "Epoch 14/60\n",
      "6/6 [==============================] - 0s 14ms/step - loss: 0.0074\n",
      "Epoch 15/60\n",
      "6/6 [==============================] - 0s 13ms/step - loss: 0.0090\n",
      "Epoch 16/60\n",
      "6/6 [==============================] - 0s 13ms/step - loss: 0.0082\n",
      "Epoch 17/60\n",
      "6/6 [==============================] - 0s 13ms/step - loss: 0.0072\n",
      "Epoch 18/60\n",
      "6/6 [==============================] - 0s 13ms/step - loss: 0.0057\n",
      "Epoch 19/60\n",
      "6/6 [==============================] - 0s 13ms/step - loss: 0.0071\n",
      "Epoch 20/60\n",
      "6/6 [==============================] - 0s 12ms/step - loss: 0.0064\n",
      "Epoch 21/60\n",
      "6/6 [==============================] - 0s 12ms/step - loss: 0.0053\n",
      "Epoch 22/60\n",
      "6/6 [==============================] - 0s 14ms/step - loss: 0.0053\n",
      "Epoch 23/60\n",
      "6/6 [==============================] - 0s 13ms/step - loss: 0.0051\n",
      "Epoch 24/60\n",
      "6/6 [==============================] - 0s 13ms/step - loss: 0.0048\n",
      "Epoch 25/60\n",
      "6/6 [==============================] - 0s 13ms/step - loss: 0.0071\n",
      "Epoch 26/60\n",
      "6/6 [==============================] - 0s 12ms/step - loss: 0.0044\n",
      "Epoch 27/60\n",
      "6/6 [==============================] - 0s 13ms/step - loss: 0.0055\n",
      "Epoch 28/60\n",
      "6/6 [==============================] - 0s 12ms/step - loss: 0.0056\n",
      "Epoch 29/60\n",
      "6/6 [==============================] - 0s 12ms/step - loss: 0.0046\n",
      "Epoch 30/60\n",
      "6/6 [==============================] - 0s 12ms/step - loss: 0.0060\n",
      "Epoch 31/60\n",
      "6/6 [==============================] - 0s 12ms/step - loss: 0.0058\n",
      "Epoch 32/60\n",
      "6/6 [==============================] - 0s 13ms/step - loss: 0.0048\n",
      "Epoch 33/60\n",
      "6/6 [==============================] - 0s 15ms/step - loss: 0.0069\n",
      "Epoch 34/60\n",
      "6/6 [==============================] - 0s 13ms/step - loss: 0.0062\n",
      "Epoch 35/60\n",
      "6/6 [==============================] - 0s 12ms/step - loss: 0.0048\n",
      "Epoch 36/60\n",
      "6/6 [==============================] - 0s 14ms/step - loss: 0.0055\n",
      "Epoch 37/60\n",
      "6/6 [==============================] - 0s 14ms/step - loss: 0.0043\n",
      "Epoch 38/60\n",
      "6/6 [==============================] - 0s 13ms/step - loss: 0.0053\n",
      "Epoch 39/60\n",
      "6/6 [==============================] - 0s 13ms/step - loss: 0.0043\n",
      "Epoch 40/60\n",
      "6/6 [==============================] - 0s 12ms/step - loss: 0.0039\n",
      "Epoch 41/60\n",
      "6/6 [==============================] - 0s 13ms/step - loss: 0.0056\n",
      "Epoch 42/60\n",
      "6/6 [==============================] - 0s 12ms/step - loss: 0.0045\n",
      "Epoch 43/60\n",
      "6/6 [==============================] - 0s 13ms/step - loss: 0.0048\n",
      "Epoch 44/60\n",
      "6/6 [==============================] - 0s 13ms/step - loss: 0.0050\n",
      "Epoch 45/60\n",
      "6/6 [==============================] - 0s 12ms/step - loss: 0.0047\n",
      "Epoch 46/60\n",
      "6/6 [==============================] - 0s 12ms/step - loss: 0.0045\n",
      "Epoch 47/60\n",
      "6/6 [==============================] - 0s 12ms/step - loss: 0.0047\n",
      "Epoch 48/60\n",
      "6/6 [==============================] - ETA: 0s - loss: 0.004 - 0s 13ms/step - loss: 0.0044\n",
      "Epoch 49/60\n",
      "6/6 [==============================] - 0s 14ms/step - loss: 0.0047\n",
      "Epoch 50/60\n",
      "6/6 [==============================] - 0s 15ms/step - loss: 0.0050\n",
      "Epoch 51/60\n",
      "6/6 [==============================] - 0s 15ms/step - loss: 0.0045\n",
      "Epoch 52/60\n",
      "6/6 [==============================] - 0s 15ms/step - loss: 0.0044\n",
      "Epoch 53/60\n",
      "6/6 [==============================] - 0s 14ms/step - loss: 0.0065\n",
      "Epoch 54/60\n",
      "6/6 [==============================] - 0s 15ms/step - loss: 0.0059\n",
      "Epoch 55/60\n",
      "6/6 [==============================] - 0s 14ms/step - loss: 0.0051\n",
      "Epoch 56/60\n",
      "6/6 [==============================] - 0s 12ms/step - loss: 0.0037\n",
      "Epoch 57/60\n",
      "6/6 [==============================] - 0s 13ms/step - loss: 0.0040\n",
      "Epoch 58/60\n",
      "6/6 [==============================] - 0s 12ms/step - loss: 0.0041\n",
      "Epoch 59/60\n",
      "6/6 [==============================] - 0s 13ms/step - loss: 0.0048\n",
      "Epoch 60/60\n",
      "6/6 [==============================] - 0s 13ms/step - loss: 0.0049\n"
     ]
    }
   ],
   "source": [
    "# 모델 생성\n",
    "model = Sequential()\n",
    "model.add(LSTM(units=10, activation='relu', return_sequences=True, input_shape=(window_size, data_size)))\n",
    "model.add(Dropout(0.1)) # Dropout층은 입력값의 일부분을 선택해서 그 값음0으로 치환하여 다음층으로 출력함으로써 훈련 데이터를 늘리지않고 과적합 방지 가능\n",
    "model.add(LSTM(units=10, activation='relu'))\n",
    "model.add(Dropout(0.1))\n",
    "model.add(Dense(units=1)) # 유닛이 하나인 출력층을 추가\n",
    "model.summary()\n",
    "\n",
    "model.compile(optimizer='adam', loss='mean_squared_error')\n",
    "model.fit(train_x, train_y, epochs=60, batch_size=30)\n",
    "pred_y = model.predict(test_x)"
   ]
  },
  {
   "cell_type": "code",
   "execution_count": 15,
   "metadata": {},
   "outputs": [
    {
     "data": {
      "image/png": "[encoded data removed]",
      "text/plain": [
       "<Figure size 864x576 with 1 Axes>"
      ]
     },
     "metadata": {
      "needs_background": "light"
     },
     "output_type": "display_data"
    },
    {
     "name": "stdout",
     "output_type": "stream",
     "text": [
      "Tomorrow's SEC price : [66069.06] KRW\n"
     ]
    }
   ],
   "source": [
    "# 실제 종가와 예측치를 그래프로 비교\n",
    "plt.figure(figsize=(12,8))\n",
    "plt.plot(test_y, color='red', label='real SEC stock price')\n",
    "plt.plot(pred_y, color='blue', label='predicted SEC stock price')\n",
    "plt.title('SEC stock price prediction')\n",
    "plt.xlabel('time')\n",
    "plt.ylabel('stock price')\n",
    "plt.legend()\n",
    "plt.show()\n",
    "\n",
    "# raw_df.close[-1] : dfy.close[-1] = x : pred_y[-1]\n",
    "print(\"Tomorrow's SEC price :\", df_ss['Close'][-1] * pred_y[-1] / dfy['Close'][-1], 'KRW')"
   ]
  },
  {
   "cell_type": "code",
   "execution_count": null,
   "metadata": {},
   "outputs": [],
   "source": []
  }
 ],
 "metadata": {
  "kernelspec": {
   "display_name": "Python 3",
   "language": "python",
   "name": "python3"
  },
  "language_info": {
   "codemirror_mode": {
    "name": "ipython",
    "version": 3
   },
   "file_extension": ".py",
   "mimetype": "text/x-python",
   "name": "python",
   "nbconvert_exporter": "python",
   "pygments_lexer": "ipython3",
   "version": "3.8.5"
  }
 },
 "nbformat": 4,
 "nbformat_minor": 4
}
