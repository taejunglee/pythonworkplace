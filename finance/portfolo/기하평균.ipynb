{
 "cells": [
  {
   "cell_type": "code",
   "execution_count": null,
   "id": "359e1753-b4bc-4966-93fb-e5cd83f11e25",
   "metadata": {},
   "outputs": [],
   "source": []
  },
  {
   "cell_type": "code",
   "execution_count": 2,
   "id": "8790c5a8-e986-4206-8da4-b6e0e1587601",
   "metadata": {},
   "outputs": [],
   "source": [
    "returns = [0.05, 0.08, 0.12]"
   ]
  },
  {
   "cell_type": "code",
   "execution_count": 3,
   "id": "6a97347f-9e12-42aa-ba9a-c41fd2485b8e",
   "metadata": {},
   "outputs": [],
   "source": [
    "geomean = 1.0"
   ]
  },
  {
   "cell_type": "code",
   "execution_count": 6,
   "id": "852d935d-c58f-4e85-9333-0bcb287c801a",
   "metadata": {},
   "outputs": [],
   "source": [
    "n = len(returns)"
   ]
  },
  {
   "cell_type": "code",
   "execution_count": 4,
   "id": "a3162a09-b91c-4b27-a9a9-a8db3a43b715",
   "metadata": {},
   "outputs": [],
   "source": [
    "for r in returns:\n",
    "    geomean = geomean * (1+r)"
   ]
  },
  {
   "cell_type": "code",
   "execution_count": 7,
   "id": "6bb10903-3b59-414f-b624-7b1125ca5406",
   "metadata": {},
   "outputs": [],
   "source": [
    "geomean = geomean ** ( 1/n ) - 1"
   ]
  },
  {
   "cell_type": "code",
   "execution_count": 12,
   "id": "01fc179e-22d5-4336-a702-ba1bf7b1bec3",
   "metadata": {},
   "outputs": [
    {
     "name": "stdout",
     "output_type": "stream",
     "text": [
      "기하평균은 0.083\n"
     ]
    }
   ],
   "source": [
    "print( '기하평균은 {:.3f}'.format(geomean))"
   ]
  },
  {
   "cell_type": "code",
   "execution_count": null,
   "id": "2328209c-18b2-4aa4-b308-0276afffcf3b",
   "metadata": {},
   "outputs": [],
   "source": []
  }
 ],
 "metadata": {
  "kernelspec": {
   "display_name": "Python 3",
   "language": "python",
   "name": "python3"
  },
  "language_info": {
   "codemirror_mode": {
    "name": "ipython",
    "version": 3
   },
   "file_extension": ".py",
   "mimetype": "text/x-python",
   "name": "python",
   "nbconvert_exporter": "python",
   "pygments_lexer": "ipython3",
   "version": "3.7.7"
  }
 },
 "nbformat": 4,
 "nbformat_minor": 5
}
