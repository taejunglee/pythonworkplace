{
 "cells": [
  {
   "cell_type": "code",
   "execution_count": null,
   "id": "728b451c-69a6-4b4f-9a7a-9008bbe660ea",
   "metadata": {},
   "outputs": [],
   "source": []
  },
  {
   "cell_type": "code",
   "execution_count": 1,
   "id": "2f6afdd6-9f5c-4934-8b20-2a3d5c050f12",
   "metadata": {},
   "outputs": [],
   "source": [
    "import numpy as np"
   ]
  },
  {
   "cell_type": "code",
   "execution_count": null,
   "id": "a0b7704b-9922-4291-83a7-d0e558fe339d",
   "metadata": {},
   "outputs": [],
   "source": []
  },
  {
   "cell_type": "code",
   "execution_count": 2,
   "id": "2e8e92c4-ed85-47fc-9f2c-de4ce0feecfa",
   "metadata": {},
   "outputs": [],
   "source": [
    "# 포트폴리오 평균 수익\n",
    "def get_mean(W, R):\n",
    "    return sum(R * W)\n",
    "\n",
    "# 포트폴리오 평균 분산\n",
    "def get_var(W, C):\n",
    "    return dot(dot(W, C), W)\n",
    "    \n",
    "# 포트폴리오 수익률 평균 및 분산\n",
    "def get_mean_var(W, R, C):\n",
    "    return sum(R * W), np.dot(np.dot(W, C), W)"
   ]
  },
  {
   "cell_type": "code",
   "execution_count": null,
   "id": "a74a8e6f-9c2c-49d0-801f-332bdeae79d6",
   "metadata": {},
   "outputs": [],
   "source": []
  }
 ],
 "metadata": {
  "kernelspec": {
   "display_name": "Python 3",
   "language": "python",
   "name": "python3"
  },
  "language_info": {
   "codemirror_mode": {
    "name": "ipython",
    "version": 3
   },
   "file_extension": ".py",
   "mimetype": "text/x-python",
   "name": "python",
   "nbconvert_exporter": "python",
   "pygments_lexer": "ipython3",
   "version": "3.7.7"
  }
 },
 "nbformat": 4,
 "nbformat_minor": 5
}
