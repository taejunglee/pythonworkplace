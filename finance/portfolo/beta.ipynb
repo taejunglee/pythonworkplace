{
 "cells": [
  {
   "cell_type": "code",
   "execution_count": null,
   "id": "289579d9-36a4-4c49-bd40-b67d83747668",
   "metadata": {},
   "outputs": [],
   "source": []
  },
  {
   "cell_type": "code",
   "execution_count": 1,
   "id": "cae1ab8b-1eed-47a6-9282-4e9c34214698",
   "metadata": {},
   "outputs": [
    {
     "name": "stdout",
     "output_type": "stream",
     "text": [
      "The portfolio beta is 1.07\n"
     ]
    }
   ],
   "source": [
    "import numpy as np\n",
    "\n",
    "beta52 = [1.38, 0.47, 1.02]     # 세 종목의 52주 베타\n",
    "investment = [10, 5, 3]         # 투자 금액 저장\n",
    "\n",
    "sumOfInvestment = sum(investment) # 투자 비중을 구하기 위해 미리 투자금액의 합계 구함\n",
    "weights = [ w/sumOfInvestment for w in investment ] # 투자금액을 전체 투자금액 합계로 나눠 저장\n",
    "\n",
    "beta = np.dot(beta52, weights)  # dot 함수로 곱의 합계 구함\n",
    "\n",
    "print('The portfolio beta is {0:0.2f}'.format(beta))"
   ]
  }
 ],
 "metadata": {
  "kernelspec": {
   "display_name": "Python 3",
   "language": "python",
   "name": "python3"
  },
  "language_info": {
   "codemirror_mode": {
    "name": "ipython",
    "version": 3
   },
   "file_extension": ".py",
   "mimetype": "text/x-python",
   "name": "python",
   "nbconvert_exporter": "python",
   "pygments_lexer": "ipython3",
   "version": "3.7.7"
  }
 },
 "nbformat": 4,
 "nbformat_minor": 5
}
