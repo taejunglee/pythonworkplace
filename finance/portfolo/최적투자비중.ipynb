{
 "cells": [
  {
   "cell_type": "code",
   "execution_count": null,
   "id": "3d3cfa81-dfc5-4c90-bff1-0d949b3fa36e",
   "metadata": {},
   "outputs": [],
   "source": []
  },
  {
   "cell_type": "code",
   "execution_count": 1,
   "id": "8062f964-2f8e-4e62-8ae1-cbea31afd3d1",
   "metadata": {},
   "outputs": [],
   "source": [
    "# 포트폴리오 수익률 평균 및 분산\n",
    "def get_mean_var(W, R, C):\n",
    "    return sum(R * W), np.dot(np.dot(W, C), W)"
   ]
  },
  {
   "cell_type": "code",
   "execution_count": 2,
   "id": "ce784f46-c64a-4087-9606-2d968bbfab74",
   "metadata": {},
   "outputs": [],
   "source": [
    "# 무위험수익률, 수익률,공분산으로\n",
    "# 샤프비율을 최대로 하는 접점포트폴리오 비중 계산 \n",
    "def solveWeights(R, C, rf):\n",
    "    def fitness(W, R, C, rf):\n",
    "        mean, var = get_mean_var(W, R, C)  # 포트폴리오 평균/분산 계산\n",
    "        util = (mean - rf) / sqrt(var)     # 샤프비율을 효용함수로 한다\n",
    "        return 1 / util                    # 효용함수 극대화 = 효용함수 역함수를 최소화\n",
    "    n = len(R)                             # 투자자산 개수\n",
    "    W = np.ones([n]) / n                   # 동일비중으로 최적화 시작\n",
    "    b_ = [(0., 1.) for i in range(n)]      # 비중 범위는 0~100% 사이(공매도나 차입조건 x)\n",
    "    c_ = ({'type': 'eq', 'fun': lambda W: sum(W) - 1.})  # 제약조건은 비중합 = 100%\n",
    "    optimized = scipy.optimize.minimize(fitness, W, (R, C, rf), method='SLSQP', constraints=c_, bounds=b_)   #최적화\n",
    "    if not optimized.success: \n",
    "        raise BaseException(optimized.message)\n",
    "    return optimized.x"
   ]
  },
  {
   "cell_type": "code",
   "execution_count": null,
   "id": "8261123c-019a-4fe0-b410-5db34eb8a5f8",
   "metadata": {},
   "outputs": [],
   "source": []
  }
 ],
 "metadata": {
  "kernelspec": {
   "display_name": "Python 3",
   "language": "python",
   "name": "python3"
  },
  "language_info": {
   "codemirror_mode": {
    "name": "ipython",
    "version": 3
   },
   "file_extension": ".py",
   "mimetype": "text/x-python",
   "name": "python",
   "nbconvert_exporter": "python",
   "pygments_lexer": "ipython3",
   "version": "3.7.7"
  }
 },
 "nbformat": 4,
 "nbformat_minor": 5
}
