{
 "cells": [
  {
   "cell_type": "code",
   "execution_count": null,
   "id": "b9f1682a-ef9f-4038-af22-af94831b1a69",
   "metadata": {},
   "outputs": [],
   "source": []
  },
  {
   "cell_type": "code",
   "execution_count": null,
   "id": "f6c146e6-e671-4fe6-845c-dc893517ecdb",
   "metadata": {},
   "outputs": [],
   "source": []
  },
  {
   "cell_type": "code",
   "execution_count": null,
   "id": "89f02162-b611-49bb-a85e-a37a8221539c",
   "metadata": {},
   "outputs": [],
   "source": []
  },
  {
   "cell_type": "code",
   "execution_count": 1,
   "id": "4e2935f0-8a3a-4891-b28a-61ba3eed1b87",
   "metadata": {},
   "outputs": [],
   "source": [
    "\n",
    "# 무위험수익률, 수익률,공분산으로 평균-분산 프런티어 계산\n",
    "def solveFrontier(R, C, rf):\n",
    "    def fitness(W, R, C, r):\n",
    "        \n",
    "        # 주어진 수익률에서 분산을 최소로 하는 비중 계산\n",
    "        mean = sum(R * W)\n",
    "        var = np.dot(np.dot(W, C), W)\n",
    "        \n",
    "        # 최적화 제약조건 페널티\n",
    "        penalty = 100 * abs(mean - r)             \n",
    "        return var + penalty\n",
    "\n",
    "    frontier_mean, frontier_var = [], [] # 효율적 투자선을 구성하는 평균-분산을 돌려줄 리스트\n",
    "    n = len(R)                           # 투자자산 갯수\n",
    "    \n",
    "    # 수익률 최저~최대 사이를 반복한다\n",
    "    for r in linspace(min(R), max(R), num=20):  # Iterate through the range of returns on Y axis\n",
    "        # 최적화 함수에 전달할 초기값으로 동일비중으로 시작\n",
    "        W = np.ones([n]) / n \n",
    "        \n",
    "        # 최적화 함수에 전달할 제약조건을 미리 준비한다\n",
    "        b_ = [(0, 1) for i in range(n)]                      # 범위조건: 각 구성 자산의 투자 비중은 0~100% 사이\n",
    "        c_ = ({'type': 'eq', 'fun': lambda W: sum(W) - 1.})  # 제약조건: 전체 투자비중은 100%이다.\n",
    "        \n",
    "        # 최적화 함수 minimize()은 최적화할 함수와 최적화를 시작할 초깃값을 인수로 받는다. \n",
    "        # fitness가 최적화할 함수이다.\n",
    "        optimized = scipy.optimize.minimize(fitness, W, (R, C, r), method='SLSQP', constraints=c_, bounds=b_)\n",
    "        if not optimized.success:\n",
    "            raise BaseException(optimized.message) # 최적화 실패 경우\n",
    "        # 최적 포트폴리오 수익률과 분산 추가  [x,y] = [optimized.x, r]\n",
    "        # 효율적 프런티어에 포트폴리오 하나를 추가\n",
    "        frontier_mean.append(r)\n",
    "        frontier_var.append(get_var(optimized.x, C))\n",
    "    return array(frontier_mean), array(frontier_var)"
   ]
  },
  {
   "cell_type": "code",
   "execution_count": null,
   "id": "bd0719d5-296d-4e2a-86ce-24b969718fd6",
   "metadata": {},
   "outputs": [],
   "source": []
  }
 ],
 "metadata": {
  "kernelspec": {
   "display_name": "Python 3",
   "language": "python",
   "name": "python3"
  },
  "language_info": {
   "codemirror_mode": {
    "name": "ipython",
    "version": 3
   },
   "file_extension": ".py",
   "mimetype": "text/x-python",
   "name": "python",
   "nbconvert_exporter": "python",
   "pygments_lexer": "ipython3",
   "version": "3.7.7"
  }
 },
 "nbformat": 4,
 "nbformat_minor": 5
}
