{
 "cells": [
  {
   "cell_type": "markdown",
   "id": "c3d58938-4923-4cfb-b8f2-101807cd93f6",
   "metadata": {},
   "source": [
    "# MDD"
   ]
  },
  {
   "cell_type": "code",
   "execution_count": 3,
   "id": "8e343c34-3a9f-45d5-8a78-4f72c94a387d",
   "metadata": {},
   "outputs": [],
   "source": [
    "import numpy as np"
   ]
  },
  {
   "cell_type": "code",
   "execution_count": 1,
   "id": "9f5e9535-7115-4383-a892-ff18561be64b",
   "metadata": {},
   "outputs": [],
   "source": [
    "def cummax(nums):      \n",
    "    cum = []\n",
    "    max = 0\n",
    "    for item in nums:\n",
    "        if item > max:\n",
    "            max = item\n",
    "        cum.append(max)\n",
    "    return cum"
   ]
  },
  {
   "cell_type": "code",
   "execution_count": 2,
   "id": "ac77cf6d-ba75-441f-8c44-c281ef00b8fc",
   "metadata": {},
   "outputs": [
    {
     "name": "stdout",
     "output_type": "stream",
     "text": [
      "-0.5333333333333333\n"
     ]
    }
   ],
   "source": [
    "values = [100, 120, 130, 100, 65, 80, 100, 120, 140, 160]\n",
    "values = [100,  80,  75,  90,140,180, 220, 160, 190]\n",
    "values = [500000,750000,400000,600000,350000]\n",
    "\n",
    "drawdown = [x - y for x, y in zip(values, cummax(values))]\n",
    "idx_lower = drawdown.index(min(drawdown)) \n",
    "idx_upper = values.index(max(values[:idx_lower])) \n",
    "print((values[idx_lower]-values[idx_upper])/values[idx_upper])"
   ]
  },
  {
   "cell_type": "code",
   "execution_count": 4,
   "id": "4cb4a0ae-a639-40fe-a6a7-e2d109bbe314",
   "metadata": {},
   "outputs": [
    {
     "name": "stdout",
     "output_type": "stream",
     "text": [
      "-0.5333333333333333\n"
     ]
    }
   ],
   "source": [
    "def mdd(x):\n",
    "    arr = np.array(x)    \n",
    "    idx_lower = np.argmin(arr - np.maximum.accumulate(arr))\n",
    "    idx_upper = np.argmax(arr[:idx_lower])\n",
    "    return (arr[idx_lower] - arr[idx_upper]) / arr[idx_upper]\n",
    "\n",
    "print(mdd(values))"
   ]
  },
  {
   "cell_type": "code",
   "execution_count": 5,
   "id": "db0dd1db-4ebb-46c6-be5e-70ee596cc4de",
   "metadata": {},
   "outputs": [
    {
     "name": "stdout",
     "output_type": "stream",
     "text": [
      "[100, 120, 130, 130, 130, 130, 130, 130, 140, 160]\n",
      "[100 120 130 130 130 130 130 130 140 160]\n"
     ]
    }
   ],
   "source": [
    "\n",
    "values = [100, 120, 130, 100, 65, 80, 100, 120, 140, 160]\n",
    "print(cummax(values))\n",
    "print(np.maximum.accumulate(np.array(values)))"
   ]
  },
  {
   "cell_type": "code",
   "execution_count": null,
   "id": "1e0936b8-e3f6-4baa-a705-cd1187997eeb",
   "metadata": {},
   "outputs": [],
   "source": []
  }
 ],
 "metadata": {
  "kernelspec": {
   "display_name": "Python 3",
   "language": "python",
   "name": "python3"
  },
  "language_info": {
   "codemirror_mode": {
    "name": "ipython",
    "version": 3
   },
   "file_extension": ".py",
   "mimetype": "text/x-python",
   "name": "python",
   "nbconvert_exporter": "python",
   "pygments_lexer": "ipython3",
   "version": "3.7.7"
  }
 },
 "nbformat": 4,
 "nbformat_minor": 5
}
