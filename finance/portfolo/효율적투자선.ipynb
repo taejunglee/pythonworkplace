{
 "cells": [
  {
   "cell_type": "code",
   "execution_count": null,
   "metadata": {},
   "outputs": [],
   "source": []
  },
  {
   "cell_type": "code",
   "execution_count": 1,
   "metadata": {},
   "outputs": [],
   "source": [
    "import pandas as pd\n",
    "import numpy as np\n",
    "import pandas_datareader as pdr\n",
    "import FinanceDataReader as fdr\n",
    "import seaborn as sns\n",
    "from matplotlib import dates as mdates\n",
    "import matplotlib.pyplot as plt\n",
    "%matplotlib inline\n",
    "from pykrx import stock\n",
    "from xml.etree import ElementTree\n",
    "import warnings\n",
    "warnings.filterwarnings(action='ignore')"
   ]
  },
  {
   "cell_type": "code",
   "execution_count": 2,
   "metadata": {},
   "outputs": [],
   "source": [
    "stocks = ['삼성전자','SK하이닉스','현대자동차','NAVER']"
   ]
  },
  {
   "cell_type": "code",
   "execution_count": 3,
   "metadata": {},
   "outputs": [],
   "source": [
    "def myplot(df, nrows=5,  kind='line', title='제목', labels=False):  \n",
    "    if nrows > 0:\n",
    "        print(df.head(nrows))\n",
    "    else:\n",
    "        print(df.tail(nrows))\n",
    "    \n",
    "    if labels:\n",
    "        cols = df.columns\n",
    "        for i, col in enumerate(cols):\n",
    "            df[col].plot(label=labels[i], kind=kind)\n",
    "    else :\n",
    "        df.plot(kind=kind)\n",
    "    \n",
    "    plt.title(title)\n",
    "    plt.legend()\n",
    "    plt.show()"
   ]
  },
  {
   "cell_type": "code",
   "execution_count": 4,
   "metadata": {},
   "outputs": [],
   "source": [
    "def myplotmix(df1, df2, y1='ylabel-1', y2='ylabel-2', kind1='bar', kind2='line', title='제목',  nrows1=5, nrows2=5,  labels=False):  \n",
    "    ytl=['b', 'g', 'r', 'c', 'm', 'y', 'k', 'w']\n",
    "\n",
    "    if nrows1 > 0:\n",
    "        print(df1.head(nrows1))\n",
    "    elif nrows1 < 0:\n",
    "        print(df1.tail(nrows1))\n",
    "    if nrows2 > 0:\n",
    "        print(df2.head(nrows2))\n",
    "    else:\n",
    "        print(df2.tail(nrows2))\n",
    "    fig, ax1 = plt.subplots(figsize=(8, 4))\n",
    "    ax2=ax1.twinx()\n",
    "    if kind1 == 'line':\n",
    "        df1.plot(kind=kind1, ax=ax2, marker='d',color='#e35f62')  #color='y', \n",
    "        df2.plot(kind=kind2, ax=ax1)  #bar\n",
    "    else:\n",
    "        df1.plot(kind=kind1, ax=ax1,color='#bcbd22')\n",
    "        df2.plot(kind=kind2, ax=ax2) #color='y',\n",
    "        \n",
    "    # df['date'] = df['date'].dt.strftime('%Y-%m-%d')\n",
    "    # ax1.set_xticklabels(df['date'])    \n",
    "    ax1.yaxis.tick_right()\n",
    "    ax2.yaxis.tick_left()\n",
    "    ax1.set_ylabel(y1) #, color='red')\n",
    "    ax2.set_ylabel(y2) #, color='red')\n",
    "    ax1.legend(loc=1)\n",
    "    ax2.legend(loc=2)\n",
    "    plt.title(title)\n",
    "    ax1.grid(False)\n",
    "    ax2.grid(False)\n",
    "    plt.show()"
   ]
  },
  {
   "cell_type": "code",
   "execution_count": 5,
   "metadata": {},
   "outputs": [],
   "source": [
    "def my_ticker(names):    \n",
    "    df_code = pd.read_html('http://kind.krx.co.kr/corpgeneral/corpList.do?method=download', header=0)[0]\n",
    "    df_code.종목코드 = df_code.종목코드.map('{:06d}'.format)\n",
    "\n",
    "    df_code = df_code[['회사명', '종목코드']]\n",
    "    code_list = []\n",
    "    for name in names:\n",
    "        code = df_code.query(\"회사명=='{}'\".format(name))['종목코드'].to_string(index=False)\n",
    "        code_list.append(code)\n",
    "    return code_list\n",
    "\n",
    "# stocks = my_ticker(['삼성전자', 'SK하이닉스', '현대자동차', 'NAVER'])\n",
    "# print(stocks)"
   ]
  },
  {
   "cell_type": "code",
   "execution_count": 6,
   "metadata": {},
   "outputs": [
    {
     "name": "stdout",
     "output_type": "stream",
     "text": [
      "success:1, failed:0\n"
     ]
    },
    {
     "data": {
      "text/html": [
       "<div>\n",
       "<style scoped>\n",
       "    .dataframe tbody tr th:only-of-type {\n",
       "        vertical-align: middle;\n",
       "    }\n",
       "\n",
       "    .dataframe tbody tr th {\n",
       "        vertical-align: top;\n",
       "    }\n",
       "\n",
       "    .dataframe thead th {\n",
       "        text-align: right;\n",
       "    }\n",
       "</style>\n",
       "<table border=\"1\" class=\"dataframe\">\n",
       "  <thead>\n",
       "    <tr style=\"text-align: right;\">\n",
       "      <th></th>\n",
       "      <th>date</th>\n",
       "      <th>code</th>\n",
       "      <th>open</th>\n",
       "      <th>high</th>\n",
       "      <th>low</th>\n",
       "      <th>close</th>\n",
       "      <th>volume</th>\n",
       "    </tr>\n",
       "  </thead>\n",
       "  <tbody>\n",
       "    <tr>\n",
       "      <th>0</th>\n",
       "      <td>2018-01-02</td>\n",
       "      <td>005930</td>\n",
       "      <td>51380</td>\n",
       "      <td>51400</td>\n",
       "      <td>50780</td>\n",
       "      <td>51020</td>\n",
       "      <td>169485</td>\n",
       "    </tr>\n",
       "    <tr>\n",
       "      <th>1</th>\n",
       "      <td>2018-01-03</td>\n",
       "      <td>005930</td>\n",
       "      <td>52540</td>\n",
       "      <td>52560</td>\n",
       "      <td>51420</td>\n",
       "      <td>51620</td>\n",
       "      <td>200270</td>\n",
       "    </tr>\n",
       "    <tr>\n",
       "      <th>2</th>\n",
       "      <td>2018-01-04</td>\n",
       "      <td>005930</td>\n",
       "      <td>52120</td>\n",
       "      <td>52180</td>\n",
       "      <td>50640</td>\n",
       "      <td>51080</td>\n",
       "      <td>233909</td>\n",
       "    </tr>\n",
       "    <tr>\n",
       "      <th>3</th>\n",
       "      <td>2018-01-05</td>\n",
       "      <td>005930</td>\n",
       "      <td>51300</td>\n",
       "      <td>52120</td>\n",
       "      <td>51200</td>\n",
       "      <td>52120</td>\n",
       "      <td>189623</td>\n",
       "    </tr>\n",
       "    <tr>\n",
       "      <th>4</th>\n",
       "      <td>2018-01-08</td>\n",
       "      <td>005930</td>\n",
       "      <td>52400</td>\n",
       "      <td>52520</td>\n",
       "      <td>51500</td>\n",
       "      <td>52020</td>\n",
       "      <td>167673</td>\n",
       "    </tr>\n",
       "    <tr>\n",
       "      <th>...</th>\n",
       "      <td>...</td>\n",
       "      <td>...</td>\n",
       "      <td>...</td>\n",
       "      <td>...</td>\n",
       "      <td>...</td>\n",
       "      <td>...</td>\n",
       "      <td>...</td>\n",
       "    </tr>\n",
       "    <tr>\n",
       "      <th>485</th>\n",
       "      <td>2019-12-23</td>\n",
       "      <td>005930</td>\n",
       "      <td>56100</td>\n",
       "      <td>56400</td>\n",
       "      <td>55100</td>\n",
       "      <td>55500</td>\n",
       "      <td>9839252</td>\n",
       "    </tr>\n",
       "    <tr>\n",
       "      <th>486</th>\n",
       "      <td>2019-12-24</td>\n",
       "      <td>005930</td>\n",
       "      <td>55600</td>\n",
       "      <td>55700</td>\n",
       "      <td>54800</td>\n",
       "      <td>55000</td>\n",
       "      <td>11868463</td>\n",
       "    </tr>\n",
       "    <tr>\n",
       "      <th>487</th>\n",
       "      <td>2019-12-26</td>\n",
       "      <td>005930</td>\n",
       "      <td>54700</td>\n",
       "      <td>55400</td>\n",
       "      <td>54400</td>\n",
       "      <td>55400</td>\n",
       "      <td>9645034</td>\n",
       "    </tr>\n",
       "    <tr>\n",
       "      <th>488</th>\n",
       "      <td>2019-12-27</td>\n",
       "      <td>005930</td>\n",
       "      <td>55700</td>\n",
       "      <td>56900</td>\n",
       "      <td>55500</td>\n",
       "      <td>56500</td>\n",
       "      <td>12313056</td>\n",
       "    </tr>\n",
       "    <tr>\n",
       "      <th>489</th>\n",
       "      <td>2019-12-30</td>\n",
       "      <td>005930</td>\n",
       "      <td>56200</td>\n",
       "      <td>56600</td>\n",
       "      <td>55700</td>\n",
       "      <td>55800</td>\n",
       "      <td>8356767</td>\n",
       "    </tr>\n",
       "  </tbody>\n",
       "</table>\n",
       "<p>490 rows × 7 columns</p>\n",
       "</div>"
      ],
      "text/plain": [
       "          date    code   open   high    low  close    volume\n",
       "0   2018-01-02  005930  51380  51400  50780  51020    169485\n",
       "1   2018-01-03  005930  52540  52560  51420  51620    200270\n",
       "2   2018-01-04  005930  52120  52180  50640  51080    233909\n",
       "3   2018-01-05  005930  51300  52120  51200  52120    189623\n",
       "4   2018-01-08  005930  52400  52520  51500  52020    167673\n",
       "..         ...     ...    ...    ...    ...    ...       ...\n",
       "485 2019-12-23  005930  56100  56400  55100  55500   9839252\n",
       "486 2019-12-24  005930  55600  55700  54800  55000  11868463\n",
       "487 2019-12-26  005930  54700  55400  54400  55400   9645034\n",
       "488 2019-12-27  005930  55700  56900  55500  56500  12313056\n",
       "489 2019-12-30  005930  56200  56600  55700  55800   8356767\n",
       "\n",
       "[490 rows x 7 columns]"
      ]
     },
     "execution_count": 6,
     "metadata": {},
     "output_type": "execute_result"
    }
   ],
   "source": [
    "def my_krx(start, end, *codes):\n",
    "    error_list = []\n",
    "    failed = 0\n",
    "    success = 0\n",
    "    df = pd.DataFrame()\n",
    "    for code in codes:\n",
    "        try: \n",
    "            df = stock.get_market_ohlcv_by_date(start, end, code)\n",
    "            df.reset_index(inplace=True)\n",
    "            df.insert(loc=1, column='종목코드', value=code)\n",
    "            df.columns = ['date', 'code', 'open', 'high', 'low', 'close','volume']\n",
    "            success += 1\n",
    "        except ElementTree.ParseError as e:\n",
    "            error_list.append(e)\n",
    "            drop_rows(database, table, code)  # 특정 종목코드에서 에러 발생 시 해당 종목코드에 대한 데이터 삭제 후 다음 종목코드로 넘어감\n",
    "            failed += 1\n",
    "            continue\n",
    "        except Exception as e:\n",
    "            print('Error occurred : ', e)\n",
    "            failed += 1\n",
    "            continue\n",
    "    print(f'success:{success}, failed:{failed}')\n",
    "    return df\n",
    "my_krx('20180101', '20191231', '005930')"
   ]
  },
  {
   "cell_type": "code",
   "execution_count": 7,
   "metadata": {},
   "outputs": [
    {
     "name": "stdout",
     "output_type": "stream",
     "text": [
      "['005930', '000660', '005380', '035420']\n",
      "success:1, failed:0\n",
      "success:1, failed:0\n",
      "success:1, failed:0\n",
      "success:1, failed:0\n"
     ]
    },
    {
     "data": {
      "text/html": [
       "<div>\n",
       "<style scoped>\n",
       "    .dataframe tbody tr th:only-of-type {\n",
       "        vertical-align: middle;\n",
       "    }\n",
       "\n",
       "    .dataframe tbody tr th {\n",
       "        vertical-align: top;\n",
       "    }\n",
       "\n",
       "    .dataframe thead th {\n",
       "        text-align: right;\n",
       "    }\n",
       "</style>\n",
       "<table border=\"1\" class=\"dataframe\">\n",
       "  <thead>\n",
       "    <tr style=\"text-align: right;\">\n",
       "      <th></th>\n",
       "      <th>삼성전자</th>\n",
       "      <th>SK하이닉스</th>\n",
       "      <th>현대자동차</th>\n",
       "      <th>NAVER</th>\n",
       "    </tr>\n",
       "  </thead>\n",
       "  <tbody>\n",
       "    <tr>\n",
       "      <th>0</th>\n",
       "      <td>51020</td>\n",
       "      <td>76600</td>\n",
       "      <td>149500</td>\n",
       "      <td>177251</td>\n",
       "    </tr>\n",
       "    <tr>\n",
       "      <th>1</th>\n",
       "      <td>51620</td>\n",
       "      <td>77700</td>\n",
       "      <td>150500</td>\n",
       "      <td>174447</td>\n",
       "    </tr>\n",
       "    <tr>\n",
       "      <th>2</th>\n",
       "      <td>51080</td>\n",
       "      <td>77100</td>\n",
       "      <td>146500</td>\n",
       "      <td>178853</td>\n",
       "    </tr>\n",
       "    <tr>\n",
       "      <th>3</th>\n",
       "      <td>52120</td>\n",
       "      <td>79300</td>\n",
       "      <td>149000</td>\n",
       "      <td>181857</td>\n",
       "    </tr>\n",
       "    <tr>\n",
       "      <th>4</th>\n",
       "      <td>52020</td>\n",
       "      <td>78200</td>\n",
       "      <td>151000</td>\n",
       "      <td>190269</td>\n",
       "    </tr>\n",
       "  </tbody>\n",
       "</table>\n",
       "</div>"
      ],
      "text/plain": [
       "    삼성전자  SK하이닉스   현대자동차   NAVER\n",
       "0  51020   76600  149500  177251\n",
       "1  51620   77700  150500  174447\n",
       "2  51080   77100  146500  178853\n",
       "3  52120   79300  149000  181857\n",
       "4  52020   78200  151000  190269"
      ]
     },
     "execution_count": 7,
     "metadata": {},
     "output_type": "execute_result"
    }
   ],
   "source": [
    "stocks = ['삼성전자', 'SK하이닉스', '현대자동차', 'NAVER']\n",
    "stocks_code = my_ticker(stocks)\n",
    "print(stocks_code)  #['005930', '000660', '005380', '035420']\n",
    "\n",
    "df = pd.DataFrame()\n",
    "for i, sname in enumerate(stocks):\n",
    "#     print(sname, stocks_code[i])    \n",
    "    df[sname] = my_krx('20180101', '20191231', stocks_code[i])['close']\n",
    "df.head()"
   ]
  },
  {
   "cell_type": "markdown",
   "metadata": {},
   "source": [
    "# 수익률"
   ]
  },
  {
   "cell_type": "code",
   "execution_count": 8,
   "metadata": {},
   "outputs": [
    {
     "data": {
      "text/html": [
       "<div>\n",
       "<style scoped>\n",
       "    .dataframe tbody tr th:only-of-type {\n",
       "        vertical-align: middle;\n",
       "    }\n",
       "\n",
       "    .dataframe tbody tr th {\n",
       "        vertical-align: top;\n",
       "    }\n",
       "\n",
       "    .dataframe thead th {\n",
       "        text-align: right;\n",
       "    }\n",
       "</style>\n",
       "<table border=\"1\" class=\"dataframe\">\n",
       "  <thead>\n",
       "    <tr style=\"text-align: right;\">\n",
       "      <th></th>\n",
       "      <th>삼성전자</th>\n",
       "      <th>SK하이닉스</th>\n",
       "      <th>어제shift(1)</th>\n",
       "      <th>변동가</th>\n",
       "      <th>어제pct_ch()</th>\n",
       "      <th>이동평균가(rolling)</th>\n",
       "    </tr>\n",
       "  </thead>\n",
       "  <tbody>\n",
       "    <tr>\n",
       "      <th>0</th>\n",
       "      <td>51020</td>\n",
       "      <td>76600</td>\n",
       "      <td>NaN</td>\n",
       "      <td>NaN</td>\n",
       "      <td>NaN</td>\n",
       "      <td>NaN</td>\n",
       "    </tr>\n",
       "    <tr>\n",
       "      <th>1</th>\n",
       "      <td>51620</td>\n",
       "      <td>77700</td>\n",
       "      <td>76600.0</td>\n",
       "      <td>1100.0</td>\n",
       "      <td>0.014360</td>\n",
       "      <td>77150.0</td>\n",
       "    </tr>\n",
       "    <tr>\n",
       "      <th>2</th>\n",
       "      <td>51080</td>\n",
       "      <td>77100</td>\n",
       "      <td>77700.0</td>\n",
       "      <td>-600.0</td>\n",
       "      <td>-0.007722</td>\n",
       "      <td>77400.0</td>\n",
       "    </tr>\n",
       "    <tr>\n",
       "      <th>3</th>\n",
       "      <td>52120</td>\n",
       "      <td>79300</td>\n",
       "      <td>77100.0</td>\n",
       "      <td>2200.0</td>\n",
       "      <td>0.028534</td>\n",
       "      <td>78200.0</td>\n",
       "    </tr>\n",
       "    <tr>\n",
       "      <th>4</th>\n",
       "      <td>52020</td>\n",
       "      <td>78200</td>\n",
       "      <td>79300.0</td>\n",
       "      <td>-1100.0</td>\n",
       "      <td>-0.013871</td>\n",
       "      <td>78750.0</td>\n",
       "    </tr>\n",
       "  </tbody>\n",
       "</table>\n",
       "</div>"
      ],
      "text/plain": [
       "    삼성전자  SK하이닉스  어제shift(1)     변동가  어제pct_ch()  이동평균가(rolling)\n",
       "0  51020   76600         NaN     NaN         NaN             NaN\n",
       "1  51620   77700     76600.0  1100.0    0.014360         77150.0\n",
       "2  51080   77100     77700.0  -600.0   -0.007722         77400.0\n",
       "3  52120   79300     77100.0  2200.0    0.028534         78200.0\n",
       "4  52020   78200     79300.0 -1100.0   -0.013871         78750.0"
      ]
     },
     "execution_count": 8,
     "metadata": {},
     "output_type": "execute_result"
    }
   ],
   "source": [
    "temp = df[['삼성전자','SK하이닉스']].copy()\n",
    "temp['어제shift(1)'] = df['SK하이닉스'].shift(1)\n",
    "temp['변동가'] =   df['SK하이닉스'] - temp['어제shift(1)'] \n",
    "temp['어제pct_ch()'] = df['SK하이닉스'].pct_change(1) #변동률\n",
    "temp['이동평균가(rolling)'] = df['SK하이닉스'].rolling(2).mean()\n",
    "temp.head()\n"
   ]
  },
  {
   "cell_type": "code",
   "execution_count": 9,
   "metadata": {},
   "outputs": [
    {
     "data": {
      "text/plain": [
       "<matplotlib.legend.Legend at 0x23d1a6a2448>"
      ]
     },
     "execution_count": 9,
     "metadata": {},
     "output_type": "execute_result"
    },
    {
     "data": {
      "image/png": "[encoded data removed]",
      "text/plain": [
       "<Figure size 432x288 with 1 Axes>"
      ]
     },
     "metadata": {
      "needs_background": "light"
     },
     "output_type": "display_data"
    }
   ],
   "source": [
    "plt.plot(temp['SK하이닉스'].iloc[:5], label='SK하이닉스')\n",
    "plt.plot(temp['이동평균가(rolling)'].iloc[:5], label='이동평균가(rolling)')\n",
    "plt.legend()"
   ]
  },
  {
   "cell_type": "code",
   "execution_count": 10,
   "metadata": {},
   "outputs": [
    {
     "data": {
      "text/html": [
       "<div>\n",
       "<style scoped>\n",
       "    .dataframe tbody tr th:only-of-type {\n",
       "        vertical-align: middle;\n",
       "    }\n",
       "\n",
       "    .dataframe tbody tr th {\n",
       "        vertical-align: top;\n",
       "    }\n",
       "\n",
       "    .dataframe thead th {\n",
       "        text-align: right;\n",
       "    }\n",
       "</style>\n",
       "<table border=\"1\" class=\"dataframe\">\n",
       "  <thead>\n",
       "    <tr style=\"text-align: right;\">\n",
       "      <th></th>\n",
       "      <th>삼성전자</th>\n",
       "      <th>SK하이닉스</th>\n",
       "      <th>현대자동차</th>\n",
       "      <th>NAVER</th>\n",
       "    </tr>\n",
       "  </thead>\n",
       "  <tbody>\n",
       "    <tr>\n",
       "      <th>0</th>\n",
       "      <td>NaN</td>\n",
       "      <td>NaN</td>\n",
       "      <td>NaN</td>\n",
       "      <td>NaN</td>\n",
       "    </tr>\n",
       "    <tr>\n",
       "      <th>1</th>\n",
       "      <td>1.011760</td>\n",
       "      <td>1.014360</td>\n",
       "      <td>1.006689</td>\n",
       "      <td>0.984181</td>\n",
       "    </tr>\n",
       "    <tr>\n",
       "      <th>2</th>\n",
       "      <td>0.989539</td>\n",
       "      <td>0.992278</td>\n",
       "      <td>0.973422</td>\n",
       "      <td>1.025257</td>\n",
       "    </tr>\n",
       "    <tr>\n",
       "      <th>3</th>\n",
       "      <td>1.020360</td>\n",
       "      <td>1.028534</td>\n",
       "      <td>1.017065</td>\n",
       "      <td>1.016796</td>\n",
       "    </tr>\n",
       "    <tr>\n",
       "      <th>4</th>\n",
       "      <td>0.998081</td>\n",
       "      <td>0.986129</td>\n",
       "      <td>1.013423</td>\n",
       "      <td>1.046256</td>\n",
       "    </tr>\n",
       "    <tr>\n",
       "      <th>...</th>\n",
       "      <td>...</td>\n",
       "      <td>...</td>\n",
       "      <td>...</td>\n",
       "      <td>...</td>\n",
       "    </tr>\n",
       "    <tr>\n",
       "      <th>485</th>\n",
       "      <td>0.991071</td>\n",
       "      <td>0.995789</td>\n",
       "      <td>0.987903</td>\n",
       "      <td>1.002725</td>\n",
       "    </tr>\n",
       "    <tr>\n",
       "      <th>486</th>\n",
       "      <td>0.990991</td>\n",
       "      <td>0.991543</td>\n",
       "      <td>0.995918</td>\n",
       "      <td>0.989130</td>\n",
       "    </tr>\n",
       "    <tr>\n",
       "      <th>487</th>\n",
       "      <td>1.007273</td>\n",
       "      <td>1.010661</td>\n",
       "      <td>1.004098</td>\n",
       "      <td>0.991758</td>\n",
       "    </tr>\n",
       "    <tr>\n",
       "      <th>488</th>\n",
       "      <td>1.019856</td>\n",
       "      <td>1.012658</td>\n",
       "      <td>0.983673</td>\n",
       "      <td>1.016620</td>\n",
       "    </tr>\n",
       "    <tr>\n",
       "      <th>489</th>\n",
       "      <td>0.987611</td>\n",
       "      <td>0.980208</td>\n",
       "      <td>1.000000</td>\n",
       "      <td>1.016349</td>\n",
       "    </tr>\n",
       "  </tbody>\n",
       "</table>\n",
       "<p>490 rows × 4 columns</p>\n",
       "</div>"
      ],
      "text/plain": [
       "         삼성전자    SK하이닉스     현대자동차     NAVER\n",
       "0         NaN       NaN       NaN       NaN\n",
       "1    1.011760  1.014360  1.006689  0.984181\n",
       "2    0.989539  0.992278  0.973422  1.025257\n",
       "3    1.020360  1.028534  1.017065  1.016796\n",
       "4    0.998081  0.986129  1.013423  1.046256\n",
       "..        ...       ...       ...       ...\n",
       "485  0.991071  0.995789  0.987903  1.002725\n",
       "486  0.990991  0.991543  0.995918  0.989130\n",
       "487  1.007273  1.010661  1.004098  0.991758\n",
       "488  1.019856  1.012658  0.983673  1.016620\n",
       "489  0.987611  0.980208  1.000000  1.016349\n",
       "\n",
       "[490 rows x 4 columns]"
      ]
     },
     "execution_count": 10,
     "metadata": {},
     "output_type": "execute_result"
    }
   ],
   "source": [
    "df / df.shift(1)"
   ]
  },
  {
   "cell_type": "code",
   "execution_count": 11,
   "metadata": {},
   "outputs": [
    {
     "data": {
      "text/html": [
       "<div>\n",
       "<style scoped>\n",
       "    .dataframe tbody tr th:only-of-type {\n",
       "        vertical-align: middle;\n",
       "    }\n",
       "\n",
       "    .dataframe tbody tr th {\n",
       "        vertical-align: top;\n",
       "    }\n",
       "\n",
       "    .dataframe thead th {\n",
       "        text-align: right;\n",
       "    }\n",
       "</style>\n",
       "<table border=\"1\" class=\"dataframe\">\n",
       "  <thead>\n",
       "    <tr style=\"text-align: right;\">\n",
       "      <th></th>\n",
       "      <th>삼성전자</th>\n",
       "      <th>SK하이닉스</th>\n",
       "      <th>현대자동차</th>\n",
       "      <th>NAVER</th>\n",
       "    </tr>\n",
       "  </thead>\n",
       "  <tbody>\n",
       "    <tr>\n",
       "      <th>1</th>\n",
       "      <td>0.011691</td>\n",
       "      <td>0.014258</td>\n",
       "      <td>0.006667</td>\n",
       "      <td>-0.015946</td>\n",
       "    </tr>\n",
       "    <tr>\n",
       "      <th>2</th>\n",
       "      <td>-0.010516</td>\n",
       "      <td>-0.007752</td>\n",
       "      <td>-0.026938</td>\n",
       "      <td>0.024943</td>\n",
       "    </tr>\n",
       "    <tr>\n",
       "      <th>3</th>\n",
       "      <td>0.020156</td>\n",
       "      <td>0.028135</td>\n",
       "      <td>0.016921</td>\n",
       "      <td>0.016656</td>\n",
       "    </tr>\n",
       "    <tr>\n",
       "      <th>4</th>\n",
       "      <td>-0.001920</td>\n",
       "      <td>-0.013968</td>\n",
       "      <td>0.013334</td>\n",
       "      <td>0.045218</td>\n",
       "    </tr>\n",
       "    <tr>\n",
       "      <th>5</th>\n",
       "      <td>-0.031637</td>\n",
       "      <td>-0.016764</td>\n",
       "      <td>0.009885</td>\n",
       "      <td>-0.006332</td>\n",
       "    </tr>\n",
       "  </tbody>\n",
       "</table>\n",
       "</div>"
      ],
      "text/plain": [
       "       삼성전자    SK하이닉스     현대자동차     NAVER\n",
       "1  0.011691  0.014258  0.006667 -0.015946\n",
       "2 -0.010516 -0.007752 -0.026938  0.024943\n",
       "3  0.020156  0.028135  0.016921  0.016656\n",
       "4 -0.001920 -0.013968  0.013334  0.045218\n",
       "5 -0.031637 -0.016764  0.009885 -0.006332"
      ]
     },
     "execution_count": 11,
     "metadata": {},
     "output_type": "execute_result"
    }
   ],
   "source": [
    "dflog = np.log(df / df.shift(1))\n",
    "dflog.dropna(axis=0, inplace=True)\n",
    "dflog.head()"
   ]
  },
  {
   "cell_type": "markdown",
   "metadata": {},
   "source": [
    "# 기대수익률"
   ]
  },
  {
   "cell_type": "code",
   "execution_count": 12,
   "metadata": {},
   "outputs": [
    {
     "data": {
      "text/plain": [
       "array([0.00018314, 0.00042078])"
      ]
     },
     "execution_count": 12,
     "metadata": {},
     "output_type": "execute_result"
    }
   ],
   "source": [
    "ym = dflog[['삼성전자','SK하이닉스']].mean()\n",
    "ym.values"
   ]
  },
  {
   "cell_type": "code",
   "execution_count": 13,
   "metadata": {},
   "outputs": [
    {
     "name": "stdout",
     "output_type": "stream",
     "text": [
      "[[0.7]\n",
      " [0.3]] [0.00018314 0.00042078]\n"
     ]
    }
   ],
   "source": [
    "w = np.array([0.7, 0.3]).reshape(-1,1)\n",
    "ym = ym.values\n",
    "print(w, ym)"
   ]
  },
  {
   "cell_type": "code",
   "execution_count": 14,
   "metadata": {},
   "outputs": [
    {
     "data": {
      "text/plain": [
       "array([0.00025443])"
      ]
     },
     "execution_count": 14,
     "metadata": {},
     "output_type": "execute_result"
    }
   ],
   "source": [
    "res = ym.dot(w)\n",
    "res"
   ]
  },
  {
   "cell_type": "markdown",
   "metadata": {},
   "source": [
    "# 효율적 배분"
   ]
  },
  {
   "cell_type": "code",
   "execution_count": 15,
   "metadata": {},
   "outputs": [
    {
     "name": "stdout",
     "output_type": "stream",
     "text": [
      "[0.1 0.9] 0.0003970153139625126\n",
      "[0.2 0.8] 0.0003732515484878322\n",
      "[0.3 0.7] 0.0003494877830131518\n",
      "[0.4 0.6] 0.00032572401753847144\n",
      "[0.5 0.5] 0.00030196025206379105\n",
      "[0.6 0.4] 0.00027819648658911067\n",
      "[0.7 0.3] 0.0002544327211144303\n",
      "[0.8 0.2] 0.0002306689556397499\n",
      "[0.9 0.1] 0.00020690519016506952\n"
     ]
    }
   ],
   "source": [
    "ws = np.arange(.1, 1.0, .1)\n",
    "\n",
    "for i in ws:\n",
    "    w = np.array([i, 1-i])\n",
    "    res = ym.dot(w)\n",
    "    print(w, res)"
   ]
  },
  {
   "cell_type": "markdown",
   "metadata": {},
   "source": [
    "# 리스크"
   ]
  },
  {
   "cell_type": "code",
   "execution_count": 16,
   "metadata": {},
   "outputs": [
    {
     "name": "stdout",
     "output_type": "stream",
     "text": [
      "삼성전자      0.250593\n",
      "SK하이닉스    0.355185\n",
      "dtype: float64\n"
     ]
    }
   ],
   "source": [
    "day_std = dflog[['삼성전자','SK하이닉스']].std()\n",
    "year_std = day_std * np.sqrt(252)\n",
    "print(year_std)"
   ]
  },
  {
   "cell_type": "code",
   "execution_count": 17,
   "metadata": {},
   "outputs": [
    {
     "name": "stdout",
     "output_type": "stream",
     "text": [
      "            삼성전자    SK하이닉스\n",
      "삼성전자    0.062797  0.059889\n",
      "SK하이닉스  0.059889  0.126156\n"
     ]
    }
   ],
   "source": [
    "day_cov = dflog[['삼성전자','SK하이닉스']].cov()\n",
    "ym_cov = day_cov * 252\n",
    "print(ym_cov)"
   ]
  },
  {
   "cell_type": "markdown",
   "metadata": {},
   "source": [
    "# 효율적 투자선"
   ]
  },
  {
   "cell_type": "code",
   "execution_count": 18,
   "metadata": {},
   "outputs": [
    {
     "data": {
      "text/html": [
       "<div>\n",
       "<style scoped>\n",
       "    .dataframe tbody tr th:only-of-type {\n",
       "        vertical-align: middle;\n",
       "    }\n",
       "\n",
       "    .dataframe tbody tr th {\n",
       "        vertical-align: top;\n",
       "    }\n",
       "\n",
       "    .dataframe thead th {\n",
       "        text-align: right;\n",
       "    }\n",
       "</style>\n",
       "<table border=\"1\" class=\"dataframe\">\n",
       "  <thead>\n",
       "    <tr style=\"text-align: right;\">\n",
       "      <th></th>\n",
       "      <th>삼성전자</th>\n",
       "      <th>SK하이닉스</th>\n",
       "    </tr>\n",
       "  </thead>\n",
       "  <tbody>\n",
       "    <tr>\n",
       "      <th>1</th>\n",
       "      <td>0.011691</td>\n",
       "      <td>0.014258</td>\n",
       "    </tr>\n",
       "    <tr>\n",
       "      <th>2</th>\n",
       "      <td>-0.010516</td>\n",
       "      <td>-0.007752</td>\n",
       "    </tr>\n",
       "    <tr>\n",
       "      <th>3</th>\n",
       "      <td>0.020156</td>\n",
       "      <td>0.028135</td>\n",
       "    </tr>\n",
       "    <tr>\n",
       "      <th>4</th>\n",
       "      <td>-0.001920</td>\n",
       "      <td>-0.013968</td>\n",
       "    </tr>\n",
       "    <tr>\n",
       "      <th>5</th>\n",
       "      <td>-0.031637</td>\n",
       "      <td>-0.016764</td>\n",
       "    </tr>\n",
       "  </tbody>\n",
       "</table>\n",
       "</div>"
      ],
      "text/plain": [
       "       삼성전자    SK하이닉스\n",
       "1  0.011691  0.014258\n",
       "2 -0.010516 -0.007752\n",
       "3  0.020156  0.028135\n",
       "4 -0.001920 -0.013968\n",
       "5 -0.031637 -0.016764"
      ]
     },
     "execution_count": 18,
     "metadata": {},
     "output_type": "execute_result"
    }
   ],
   "source": [
    "dflog = dflog[['삼성전자','SK하이닉스']]\n",
    "dflog.head()"
   ]
  },
  {
   "cell_type": "markdown",
   "metadata": {},
   "source": [
    "# 몬테카를로"
   ]
  },
  {
   "cell_type": "code",
   "execution_count": 19,
   "metadata": {},
   "outputs": [],
   "source": [
    " \n",
    "daily_ret = df.pct_change() \n",
    "annual_ret = daily_ret.mean() * 252\n",
    "daily_cov = daily_ret.cov() \n",
    "annual_cov = daily_cov * 252\n",
    "\n",
    "port_ret = [] \n",
    "port_risk = [] \n",
    "port_weights = [] \n",
    "\n",
    "for _ in range(20000): \n",
    "    weights = np.random.random(len(stocks)) \n",
    "    weights /= np.sum(weights) \n",
    "\n",
    "    returns = np.dot(weights, annual_ret) \n",
    "    risk = np.sqrt(np.dot(weights.T, np.dot(annual_cov, weights))) \n",
    "\n",
    "    port_ret.append(returns) \n",
    "    port_risk.append(risk) \n",
    "    port_weights.append(weights) \n",
    "\n",
    "portfolio = {'Returns': port_ret, 'Risk': port_risk} \n",
    "# for i, s in enumerate(stocks): \n",
    "#     portfolio[s] = [weight[i] for weight in port_weights] \n",
    "# df = pd.DataFrame(portfolio) \n",
    "# df = df[['Returns', 'Risk'] + [s for s in stocks]] \n",
    "\n",
    "port_df = pd.DataFrame({\"수익률\": port_ret, \n",
    "                        \"리스크\": port_risk,\n",
    "                       \"삼성전자 가중치\":np.array(port_weights)[:,0],\n",
    "                        \"SK하이닉스 가중치\":np.array(port_weights)[:,1]})\n",
    "\n"
   ]
  },
  {
   "cell_type": "code",
   "execution_count": 20,
   "metadata": {},
   "outputs": [
    {
     "data": {
      "text/html": [
       "<div>\n",
       "<style scoped>\n",
       "    .dataframe tbody tr th:only-of-type {\n",
       "        vertical-align: middle;\n",
       "    }\n",
       "\n",
       "    .dataframe tbody tr th {\n",
       "        vertical-align: top;\n",
       "    }\n",
       "\n",
       "    .dataframe thead th {\n",
       "        text-align: right;\n",
       "    }\n",
       "</style>\n",
       "<table border=\"1\" class=\"dataframe\">\n",
       "  <thead>\n",
       "    <tr style=\"text-align: right;\">\n",
       "      <th></th>\n",
       "      <th>수익률</th>\n",
       "      <th>리스크</th>\n",
       "      <th>삼성전자 가중치</th>\n",
       "      <th>SK하이닉스 가중치</th>\n",
       "    </tr>\n",
       "  </thead>\n",
       "  <tbody>\n",
       "    <tr>\n",
       "      <th>0</th>\n",
       "      <td>0.099708</td>\n",
       "      <td>0.224849</td>\n",
       "      <td>0.257307</td>\n",
       "      <td>0.401742</td>\n",
       "    </tr>\n",
       "    <tr>\n",
       "      <th>1</th>\n",
       "      <td>0.032990</td>\n",
       "      <td>0.189200</td>\n",
       "      <td>0.480898</td>\n",
       "      <td>0.084162</td>\n",
       "    </tr>\n",
       "    <tr>\n",
       "      <th>2</th>\n",
       "      <td>0.065509</td>\n",
       "      <td>0.257761</td>\n",
       "      <td>0.116306</td>\n",
       "      <td>0.032362</td>\n",
       "    </tr>\n",
       "    <tr>\n",
       "      <th>3</th>\n",
       "      <td>0.049311</td>\n",
       "      <td>0.193852</td>\n",
       "      <td>0.203299</td>\n",
       "      <td>0.142449</td>\n",
       "    </tr>\n",
       "    <tr>\n",
       "      <th>4</th>\n",
       "      <td>0.064956</td>\n",
       "      <td>0.205601</td>\n",
       "      <td>0.430715</td>\n",
       "      <td>0.037678</td>\n",
       "    </tr>\n",
       "  </tbody>\n",
       "</table>\n",
       "</div>"
      ],
      "text/plain": [
       "        수익률       리스크  삼성전자 가중치  SK하이닉스 가중치\n",
       "0  0.099708  0.224849  0.257307    0.401742\n",
       "1  0.032990  0.189200  0.480898    0.084162\n",
       "2  0.065509  0.257761  0.116306    0.032362\n",
       "3  0.049311  0.193852  0.203299    0.142449\n",
       "4  0.064956  0.205601  0.430715    0.037678"
      ]
     },
     "execution_count": 20,
     "metadata": {},
     "output_type": "execute_result"
    }
   ],
   "source": [
    "port_df.head()"
   ]
  },
  {
   "cell_type": "code",
   "execution_count": 21,
   "metadata": {},
   "outputs": [
    {
     "data": {
      "image/png": "[encoded data removed]",
      "text/plain": [
       "<Figure size 576x432 with 1 Axes>"
      ]
     },
     "metadata": {
      "needs_background": "light"
     },
     "output_type": "display_data"
    }
   ],
   "source": [
    "port_df.plot.scatter(x='리스크', y='수익률', figsize=(8, 6), grid=True)\n",
    "plt.title('Efficient Frontier') \n",
    "plt.xlabel('Risk') \n",
    "plt.ylabel('Expected Returns') \n",
    "plt.show() "
   ]
  },
  {
   "cell_type": "markdown",
   "metadata": {},
   "source": [
    "# 샤프"
   ]
  },
  {
   "cell_type": "code",
   "execution_count": 22,
   "metadata": {},
   "outputs": [
    {
     "data": {
      "text/html": [
       "<div>\n",
       "<style scoped>\n",
       "    .dataframe tbody tr th:only-of-type {\n",
       "        vertical-align: middle;\n",
       "    }\n",
       "\n",
       "    .dataframe tbody tr th {\n",
       "        vertical-align: top;\n",
       "    }\n",
       "\n",
       "    .dataframe thead th {\n",
       "        text-align: right;\n",
       "    }\n",
       "</style>\n",
       "<table border=\"1\" class=\"dataframe\">\n",
       "  <thead>\n",
       "    <tr style=\"text-align: right;\">\n",
       "      <th></th>\n",
       "      <th>수익률</th>\n",
       "      <th>리스크</th>\n",
       "      <th>삼성전자 가중치</th>\n",
       "      <th>SK하이닉스 가중치</th>\n",
       "      <th>샤프지수</th>\n",
       "    </tr>\n",
       "  </thead>\n",
       "  <tbody>\n",
       "    <tr>\n",
       "      <th>0</th>\n",
       "      <td>0.099708</td>\n",
       "      <td>0.224849</td>\n",
       "      <td>0.257307</td>\n",
       "      <td>0.401742</td>\n",
       "      <td>0.443443</td>\n",
       "    </tr>\n",
       "    <tr>\n",
       "      <th>1</th>\n",
       "      <td>0.032990</td>\n",
       "      <td>0.189200</td>\n",
       "      <td>0.480898</td>\n",
       "      <td>0.084162</td>\n",
       "      <td>0.174364</td>\n",
       "    </tr>\n",
       "    <tr>\n",
       "      <th>2</th>\n",
       "      <td>0.065509</td>\n",
       "      <td>0.257761</td>\n",
       "      <td>0.116306</td>\n",
       "      <td>0.032362</td>\n",
       "      <td>0.254146</td>\n",
       "    </tr>\n",
       "    <tr>\n",
       "      <th>3</th>\n",
       "      <td>0.049311</td>\n",
       "      <td>0.193852</td>\n",
       "      <td>0.203299</td>\n",
       "      <td>0.142449</td>\n",
       "      <td>0.254375</td>\n",
       "    </tr>\n",
       "    <tr>\n",
       "      <th>4</th>\n",
       "      <td>0.064956</td>\n",
       "      <td>0.205601</td>\n",
       "      <td>0.430715</td>\n",
       "      <td>0.037678</td>\n",
       "      <td>0.315933</td>\n",
       "    </tr>\n",
       "  </tbody>\n",
       "</table>\n",
       "</div>"
      ],
      "text/plain": [
       "        수익률       리스크  삼성전자 가중치  SK하이닉스 가중치      샤프지수\n",
       "0  0.099708  0.224849  0.257307    0.401742  0.443443\n",
       "1  0.032990  0.189200  0.480898    0.084162  0.174364\n",
       "2  0.065509  0.257761  0.116306    0.032362  0.254146\n",
       "3  0.049311  0.193852  0.203299    0.142449  0.254375\n",
       "4  0.064956  0.205601  0.430715    0.037678  0.315933"
      ]
     },
     "execution_count": 22,
     "metadata": {},
     "output_type": "execute_result"
    }
   ],
   "source": [
    "# 샤프지수 = port_df['수익률'] / port_df['수익률'].std()\n",
    "\n",
    "#샤프 비율 : 위험 대비 자산 수익률\n",
    "샤프지수 = port_df['수익률'] / port_df['리스크']\n",
    "port_df['샤프지수'] = 샤프지수\n",
    "port_df.head()"
   ]
  },
  {
   "cell_type": "code",
   "execution_count": 23,
   "metadata": {},
   "outputs": [
    {
     "data": {
      "text/html": [
       "<div>\n",
       "<style scoped>\n",
       "    .dataframe tbody tr th:only-of-type {\n",
       "        vertical-align: middle;\n",
       "    }\n",
       "\n",
       "    .dataframe tbody tr th {\n",
       "        vertical-align: top;\n",
       "    }\n",
       "\n",
       "    .dataframe thead th {\n",
       "        text-align: right;\n",
       "    }\n",
       "</style>\n",
       "<table border=\"1\" class=\"dataframe\">\n",
       "  <thead>\n",
       "    <tr style=\"text-align: right;\">\n",
       "      <th></th>\n",
       "      <th>수익률</th>\n",
       "      <th>리스크</th>\n",
       "      <th>삼성전자 가중치</th>\n",
       "      <th>SK하이닉스 가중치</th>\n",
       "      <th>샤프지수</th>\n",
       "    </tr>\n",
       "  </thead>\n",
       "  <tbody>\n",
       "    <tr>\n",
       "      <th>0</th>\n",
       "      <td>0.099708</td>\n",
       "      <td>0.224849</td>\n",
       "      <td>0.257307</td>\n",
       "      <td>0.401742</td>\n",
       "      <td>0.443443</td>\n",
       "    </tr>\n",
       "  </tbody>\n",
       "</table>\n",
       "</div>"
      ],
      "text/plain": [
       "        수익률       리스크  삼성전자 가중치  SK하이닉스 가중치      샤프지수\n",
       "0  0.099708  0.224849  0.257307    0.401742  0.443443"
      ]
     },
     "execution_count": 23,
     "metadata": {},
     "output_type": "execute_result"
    }
   ],
   "source": [
    "idx = 샤프지수[샤프지수== max(샤프지수)]\n",
    "maxsharp = port_df.iloc[idx]\n",
    "maxsharp"
   ]
  },
  {
   "cell_type": "code",
   "execution_count": 24,
   "metadata": {},
   "outputs": [
    {
     "data": {
      "image/png": "[encoded data removed]",
      "text/plain": [
       "<Figure size 432x288 with 1 Axes>"
      ]
     },
     "metadata": {
      "needs_background": "light"
     },
     "output_type": "display_data"
    }
   ],
   "source": [
    "port_df.plot.scatter(x='리스크', y='수익률')\n",
    "plt.scatter(x=maxsharp['리스크'], y=maxsharp['수익률'] , marker='*' , color='red')\n",
    "plt.title('Efficient Frontier') \n",
    "plt.xlabel('Risk') \n",
    "plt.ylabel('Expected Returns') \n",
    "plt.show() "
   ]
  },
  {
   "cell_type": "code",
   "execution_count": null,
   "metadata": {},
   "outputs": [],
   "source": []
  },
  {
   "cell_type": "code",
   "execution_count": null,
   "metadata": {},
   "outputs": [],
   "source": []
  },
  {
   "cell_type": "code",
   "execution_count": null,
   "metadata": {},
   "outputs": [],
   "source": []
  },
  {
   "cell_type": "code",
   "execution_count": null,
   "metadata": {},
   "outputs": [],
   "source": []
  },
  {
   "cell_type": "code",
   "execution_count": null,
   "metadata": {},
   "outputs": [],
   "source": [
    "port_df = pd.DataFrame({\"수익률\": return_list, \"삼성전자 리스크\": np.array(risk_list)[:,0],\"SK하이닉스 리스크\":np.array(risk_list)[:,1],\n",
    "                       \"삼성전자 가중치\":np.array(w_list)[:,0],\"SK하이닉스 가중치\":np.array(w_list)[:,1]})\n"
   ]
  }
 ],
 "metadata": {
  "kernelspec": {
   "display_name": "Python 3",
   "language": "python",
   "name": "python3"
  },
  "language_info": {
   "codemirror_mode": {
    "name": "ipython",
    "version": 3
   },
   "file_extension": ".py",
   "mimetype": "text/x-python",
   "name": "python",
   "nbconvert_exporter": "python",
   "pygments_lexer": "ipython3",
   "version": "3.7.7"
  }
 },
 "nbformat": 4,
 "nbformat_minor": 4
}
