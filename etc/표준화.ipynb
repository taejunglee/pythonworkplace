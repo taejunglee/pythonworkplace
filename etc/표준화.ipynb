{
 "cells": [
  {
   "cell_type": "code",
   "execution_count": null,
   "id": "fc16b1ef-02ae-40a9-b44e-672f84a766cc",
   "metadata": {},
   "outputs": [],
   "source": []
  },
  {
   "cell_type": "code",
   "execution_count": 1,
   "id": "18b418f4-07e6-428f-b6f8-cc54ccbbe727",
   "metadata": {},
   "outputs": [],
   "source": [
    "import numpy as np\n",
    "data = np.random.randint(30, size=(6,5))"
   ]
  },
  {
   "cell_type": "code",
   "execution_count": 4,
   "id": "0c873070-b6d9-4dcf-941b-2c61b366f3da",
   "metadata": {},
   "outputs": [
    {
     "data": {
      "text/plain": [
       "array([[10, 24, 12, 23,  7],\n",
       "       [19, 11, 19, 24, 14],\n",
       "       [15,  6, 12, 26,  7],\n",
       "       [ 0, 15, 19, 15, 22],\n",
       "       [ 0,  0, 14,  3, 22],\n",
       "       [19, 18, 28, 16, 26]])"
      ]
     },
     "execution_count": 4,
     "metadata": {},
     "output_type": "execute_result"
    }
   ],
   "source": [
    "data"
   ]
  },
  {
   "cell_type": "code",
   "execution_count": 2,
   "id": "5560940a-95db-4cfc-9c61-207d7e896198",
   "metadata": {},
   "outputs": [],
   "source": [
    "from sklearn.preprocessing import StandardScaler\n",
    "data_standadized_skl = StandardScaler().fit_transform(data)"
   ]
  },
  {
   "cell_type": "code",
   "execution_count": 3,
   "id": "ed1e3fc2-ddf9-4d50-9e8c-7db68b00d263",
   "metadata": {},
   "outputs": [
    {
     "data": {
      "text/plain": [
       "array([[-0.06237829,  1.48700751, -0.95447998,  0.66440437, -1.24475183],\n",
       "       [ 1.06043086, -0.16994372,  0.29827499,  0.79299876, -0.31118796],\n",
       "       [ 0.56140458, -0.80723265, -0.95447998,  1.05018755, -1.24475183],\n",
       "       [-1.30994401,  0.33988743,  0.29827499, -0.36435078,  0.75574218],\n",
       "       [-1.30994401, -1.57197937, -0.59654999, -1.90748351,  0.75574218],\n",
       "       [ 1.06043086,  0.72226079,  1.90895996, -0.23575639,  1.28920725]])"
      ]
     },
     "execution_count": 3,
     "metadata": {},
     "output_type": "execute_result"
    }
   ],
   "source": [
    "data_standadized_skl"
   ]
  },
  {
   "cell_type": "code",
   "execution_count": null,
   "id": "31df2020-423d-4830-80ab-20c32b5595eb",
   "metadata": {},
   "outputs": [],
   "source": []
  },
  {
   "cell_type": "code",
   "execution_count": 5,
   "id": "5a6288d4-7061-451d-a30c-741031b9a80e",
   "metadata": {},
   "outputs": [],
   "source": [
    "d2006 = [9.05,7.17,6.03,5.15,4.52,2.93,2.26]"
   ]
  },
  {
   "cell_type": "code",
   "execution_count": 7,
   "id": "5f37ff55-204e-4ccb-9ed6-2422f04e38ac",
   "metadata": {},
   "outputs": [],
   "source": [
    "n_2006 = np.array(d2006)"
   ]
  },
  {
   "cell_type": "code",
   "execution_count": 10,
   "id": "76c69114-caa5-483a-963a-04cea30bd70b",
   "metadata": {},
   "outputs": [],
   "source": [
    "n_20061 = n_2006.reshape(-1, 1)"
   ]
  },
  {
   "cell_type": "code",
   "execution_count": 11,
   "id": "0059c8bb-7a38-4050-9c28-ad4e93cc13ce",
   "metadata": {},
   "outputs": [],
   "source": [
    "data_s = StandardScaler().fit_transform(n_20061)"
   ]
  },
  {
   "cell_type": "code",
   "execution_count": 12,
   "id": "6f2eeb7d-a1b4-4366-9000-900d88ab20e8",
   "metadata": {},
   "outputs": [
    {
     "data": {
      "text/plain": [
       "array([[ 1.71144743],\n",
       "       [ 0.8531148 ],\n",
       "       [ 0.33263651],\n",
       "       [-0.06913621],\n",
       "       [-0.35676896],\n",
       "       [-1.08269921],\n",
       "       [-1.38859435]])"
      ]
     },
     "execution_count": 12,
     "metadata": {},
     "output_type": "execute_result"
    }
   ],
   "source": [
    "data_s"
   ]
  },
  {
   "cell_type": "code",
   "execution_count": null,
   "id": "ccf7ba44-ea18-4821-a815-6e5087a8dff5",
   "metadata": {},
   "outputs": [],
   "source": []
  }
 ],
 "metadata": {
  "kernelspec": {
   "display_name": "Python 3",
   "language": "python",
   "name": "python3"
  },
  "language_info": {
   "codemirror_mode": {
    "name": "ipython",
    "version": 3
   },
   "file_extension": ".py",
   "mimetype": "text/x-python",
   "name": "python",
   "nbconvert_exporter": "python",
   "pygments_lexer": "ipython3",
   "version": "3.7.7"
  }
 },
 "nbformat": 4,
 "nbformat_minor": 5
}
