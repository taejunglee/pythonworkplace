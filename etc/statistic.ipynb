{
 "cells": [
  {
   "cell_type": "code",
   "execution_count": 1,
   "metadata": {},
   "outputs": [],
   "source": [
    "import warnings\n",
    "warnings.filterwarnings(action='ignore')\n",
    "import numpy as np"
   ]
  },
  {
   "cell_type": "code",
   "execution_count": 2,
   "metadata": {},
   "outputs": [],
   "source": [
    "arr1 = np.array([12,22,37,32,29,42])\n",
    "arr2 = np.array([82,78,53])\n",
    "arr3 = np.array([12,22,37,32,29,42,82,78,53])"
   ]
  },
  {
   "cell_type": "code",
   "execution_count": 3,
   "metadata": {},
   "outputs": [
    {
     "name": "stdout",
     "output_type": "stream",
     "text": [
      "평균1 29.0 분산1: 96.66666666666667 편차1: 9.83192080250175\n",
      "평균2 71.0 분산2: 164.66666666666666 편차2: 12.832251036613439\n",
      "평균3 43.0 분산3: 511.3333333333333 편차3: 22.612680808195506\n"
     ]
    }
   ],
   "source": [
    "평균1  = np.mean(arr1)\n",
    "분산1 = np.var(arr1)\n",
    "편차1 = np.std(arr1)\n",
    "print(\"평균1\", 평균1,  \"분산1:\", 분산1, \"편차1:\", 편차1)\n",
    "평균2  = np.mean(arr2)\n",
    "분산2 = np.var(arr2)\n",
    "편차2 = np.std(arr2)\n",
    "print(\"평균2\", 평균2,  \"분산2:\", 분산2, \"편차2:\", 편차2)\n",
    "평균3  = np.mean(arr3)\n",
    "분산3 = np.var(arr3)\n",
    "편차3 = np.std(arr3)\n",
    "print(\"평균3\", 평균3,  \"분산3:\", 분산3 , \"편차3:\", 편차3)"
   ]
  },
  {
   "cell_type": "code",
   "execution_count": 4,
   "metadata": {},
   "outputs": [
    {
     "name": "stdout",
     "output_type": "stream",
     "text": [
      "96.66666666666667 164.66666666666666 511.3333333333333\n"
     ]
    }
   ],
   "source": [
    "분산1 = ((arr1 - 평균1)**2).sum() * 1/len(arr1)\n",
    "분산2 = ((arr2 - 평균2)**2).sum() * 1/len(arr2)\n",
    "분산3 = ((arr3 - 평균3)**2).sum() * 1/len(arr3)\n",
    "print(분산1, 분산2, 분산3)"
   ]
  },
  {
   "cell_type": "code",
   "execution_count": 5,
   "metadata": {},
   "outputs": [
    {
     "name": "stdout",
     "output_type": "stream",
     "text": [
      "9.83192080250175 12.832251036613439 22.612680808195506\n"
     ]
    }
   ],
   "source": [
    "편차1 = np.sqrt(분산1)\n",
    "편차2 = np.sqrt(분산2)\n",
    "편차3 = np.sqrt(분산3)\n",
    "print(편차1, 편차2, 편차3)"
   ]
  },
  {
   "cell_type": "code",
   "execution_count": 6,
   "metadata": {},
   "outputs": [
    {
     "name": "stdout",
     "output_type": "stream",
     "text": [
      "[-1.72906193 -0.71196668  0.8136762   0.30512858  0.          1.32222383]\n",
      "[ 0.85721515  0.54550055 -1.4027157 ]\n",
      "[-1.3709122  -0.92868246 -0.26533785 -0.48645272 -0.61912164 -0.04422297\n",
      "  1.72469599  1.5478041   0.44222974]\n"
     ]
    }
   ],
   "source": [
    "표준화Z1 = (arr1 - 평균1)/편차1\n",
    "표준화Z2 = (arr2 - 평균2)/편차2\n",
    "표준화Z3 = (arr3 - 평균3)/편차3\n",
    "print(표준화Z1)\n",
    "print(표준화Z2)\n",
    "print(표준화Z3)"
   ]
  },
  {
   "cell_type": "code",
   "execution_count": 7,
   "metadata": {},
   "outputs": [
    {
     "name": "stdout",
     "output_type": "stream",
     "text": [
      "0.0 1.0\n",
      "0.0 1.0\n",
      "0.0 0.9999999999999999\n"
     ]
    }
   ],
   "source": [
    "print(np.mean(표준화Z1) , np.std(표준화Z1))\n",
    "print(np.mean(표준화Z2) , np.std(표준화Z2))\n",
    "print(np.mean(표준화Z3) , np.std(표준화Z3))"
   ]
  },
  {
   "cell_type": "code",
   "execution_count": 10,
   "metadata": {},
   "outputs": [],
   "source": [
    "import scipy as sc\n",
    "import scipy.stats as ss "
   ]
  },
  {
   "cell_type": "code",
   "execution_count": 11,
   "metadata": {},
   "outputs": [
    {
     "name": "stdout",
     "output_type": "stream",
     "text": [
      "29.0 96.66666666666667 9.83192080250175\n",
      "71.0 164.66666666666666 12.832251036613439\n",
      "43.0 511.3333333333333 22.612680808195506\n"
     ]
    }
   ],
   "source": [
    "print(sc.mean(arr1), sc.var(arr1), sc.std(arr1))\n",
    "print(sc.mean(arr2), sc.var(arr2), sc.std(arr2))\n",
    "print(sc.mean(arr3), sc.var(arr3), sc.std(arr3))"
   ]
  },
  {
   "cell_type": "code",
   "execution_count": 12,
   "metadata": {},
   "outputs": [
    {
     "name": "stdout",
     "output_type": "stream",
     "text": [
      "[-1.72906193 -0.71196668  0.8136762   0.30512858  0.          1.32222383]\n",
      "[ 0.85721515  0.54550055 -1.4027157 ]\n",
      "[-1.3709122  -0.92868246 -0.26533785 -0.48645272 -0.61912164 -0.04422297\n",
      "  1.72469599  1.5478041   0.44222974]\n"
     ]
    }
   ],
   "source": [
    "표준화1 = sc.stats.zscore(arr1)\n",
    "표준화2 = sc.stats.zscore(arr2)\n",
    "표준화3 = sc.stats.zscore(arr3)\n",
    "print(표준화Z1)\n",
    "print(표준화Z2)\n",
    "print(표준화Z3)"
   ]
  },
  {
   "cell_type": "code",
   "execution_count": 13,
   "metadata": {},
   "outputs": [
    {
     "name": "stdout",
     "output_type": "stream",
     "text": [
      "0.0 1.0\n",
      "0.0 1.0\n",
      "0.0 0.9999999999999999\n"
     ]
    }
   ],
   "source": [
    "# 표준화 = 평균0, 분산1로 하는 변환\n",
    "print(sc.mean(표준화Z1) , sc.std(표준화Z1))\n",
    "print(sc.mean(표준화Z2) , sc.std(표준화Z2))\n",
    "print(sc.mean(표준화Z3) , sc.std(표준화Z3))"
   ]
  },
  {
   "cell_type": "code",
   "execution_count": 14,
   "metadata": {},
   "outputs": [],
   "source": [
    "from sklearn.preprocessing import StandardScaler"
   ]
  },
  {
   "cell_type": "code",
   "execution_count": 15,
   "metadata": {},
   "outputs": [
    {
     "name": "stdout",
     "output_type": "stream",
     "text": [
      "[-1.72906193 -0.71196668  0.8136762   0.30512858  0.          1.32222383]\n",
      "[ 0.85721515  0.54550055 -1.4027157 ]\n",
      "[-1.3709122  -0.92868246 -0.26533785 -0.48645272 -0.61912164 -0.04422297\n",
      "  1.72469599  1.5478041   0.44222974]\n"
     ]
    }
   ],
   "source": [
    "scaler = StandardScaler()\n",
    "scaler_arr1 = scaler.fit_transform(arr1.reshape(-1,1))\n",
    "scaler_arr2 = scaler.fit_transform(arr2.reshape(-1,1))\n",
    "scaler_arr3 = scaler.fit_transform(arr3.reshape(-1,1))\n",
    "print(scaler_arr1.flatten())\n",
    "print(scaler_arr2.flatten())\n",
    "print(scaler_arr3.flatten())"
   ]
  },
  {
   "cell_type": "code",
   "execution_count": 16,
   "metadata": {},
   "outputs": [
    {
     "name": "stdout",
     "output_type": "stream",
     "text": [
      "0.0 1.0\n",
      "0.0 1.0\n",
      "0.0 0.9999999999999999\n"
     ]
    }
   ],
   "source": [
    "print(np.mean(scaler_arr1), np.std(scaler_arr1))\n",
    "print(np.mean(scaler_arr2), np.std(scaler_arr2))\n",
    "print(np.mean(scaler_arr3), np.std(scaler_arr3))"
   ]
  },
  {
   "cell_type": "markdown",
   "metadata": {},
   "source": [
    "## 공분산, 상관계수"
   ]
  },
  {
   "cell_type": "markdown",
   "metadata": {},
   "source": [
    "* 공분산 : -2개의 연속형 피쳐(독립=확률)간의 관계성 수치(통계량)\n",
    "* 상관계수 : 공분산/ 편차 (-1~1)"
   ]
  },
  {
   "cell_type": "code",
   "execution_count": 19,
   "metadata": {},
   "outputs": [],
   "source": [
    "import pandas as pd\n",
    "import "
   ]
  },
  {
   "cell_type": "code",
   "execution_count": 29,
   "metadata": {},
   "outputs": [],
   "source": [
    "df = pd.read_csv(\"sample.txt\", sep=\"/t\")"
   ]
  },
  {
   "cell_type": "code",
   "execution_count": 30,
   "metadata": {},
   "outputs": [
    {
     "data": {
      "text/html": [
       "<div>\n",
       "<style scoped>\n",
       "    .dataframe tbody tr th:only-of-type {\n",
       "        vertical-align: middle;\n",
       "    }\n",
       "\n",
       "    .dataframe tbody tr th {\n",
       "        vertical-align: top;\n",
       "    }\n",
       "\n",
       "    .dataframe thead th {\n",
       "        text-align: right;\n",
       "    }\n",
       "</style>\n",
       "<table border=\"1\" class=\"dataframe\">\n",
       "  <thead>\n",
       "    <tr style=\"text-align: right;\">\n",
       "      <th></th>\n",
       "      <th>kor\\teng</th>\n",
       "    </tr>\n",
       "  </thead>\n",
       "  <tbody>\n",
       "    <tr>\n",
       "      <th>0</th>\n",
       "      <td>89.4\\t79.6</td>\n",
       "    </tr>\n",
       "    <tr>\n",
       "      <th>1</th>\n",
       "      <td>84.2\\t77.4</td>\n",
       "    </tr>\n",
       "    <tr>\n",
       "      <th>2</th>\n",
       "      <td>75.4\\t69.4</td>\n",
       "    </tr>\n",
       "    <tr>\n",
       "      <th>3</th>\n",
       "      <td>32.6\\t22.8</td>\n",
       "    </tr>\n",
       "    <tr>\n",
       "      <th>4</th>\n",
       "      <td>74.5\\t68.2</td>\n",
       "    </tr>\n",
       "  </tbody>\n",
       "</table>\n",
       "</div>"
      ],
      "text/plain": [
       "     kor\\teng\n",
       "0  89.4\\t79.6\n",
       "1  84.2\\t77.4\n",
       "2  75.4\\t69.4\n",
       "3  32.6\\t22.8\n",
       "4  74.5\\t68.2"
      ]
     },
     "execution_count": 30,
     "metadata": {},
     "output_type": "execute_result"
    }
   ],
   "source": [
    "df.head()"
   ]
  },
  {
   "cell_type": "code",
   "execution_count": 31,
   "metadata": {},
   "outputs": [
    {
     "ename": "AttributeError",
     "evalue": "'DataFrame' object has no attribute 'kor'",
     "output_type": "error",
     "traceback": [
      "\u001b[1;31m---------------------------------------------------------------------------\u001b[0m",
      "\u001b[1;31mAttributeError\u001b[0m                            Traceback (most recent call last)",
      "\u001b[1;32m<ipython-input-31-7a6b06f45e17>\u001b[0m in \u001b[0;36m<module>\u001b[1;34m\u001b[0m\n\u001b[1;32m----> 1\u001b[1;33m \u001b[0mkor\u001b[0m \u001b[1;33m=\u001b[0m \u001b[0mdf\u001b[0m\u001b[1;33m.\u001b[0m\u001b[0mkor\u001b[0m\u001b[1;33m\u001b[0m\u001b[1;33m\u001b[0m\u001b[0m\n\u001b[0m\u001b[0;32m      2\u001b[0m \u001b[0meng\u001b[0m \u001b[1;33m=\u001b[0m \u001b[0mdf\u001b[0m\u001b[1;33m.\u001b[0m\u001b[0meng\u001b[0m\u001b[1;33m\u001b[0m\u001b[1;33m\u001b[0m\u001b[0m\n\u001b[0;32m      3\u001b[0m \u001b[0mN\u001b[0m \u001b[1;33m=\u001b[0m \u001b[0mdf\u001b[0m\u001b[1;33m.\u001b[0m\u001b[0mshape\u001b[0m\u001b[1;33m[\u001b[0m\u001b[1;36m0\u001b[0m\u001b[1;33m]\u001b[0m\u001b[1;33m\u001b[0m\u001b[1;33m\u001b[0m\u001b[0m\n\u001b[0;32m      4\u001b[0m \u001b[0mkor_mean\u001b[0m \u001b[1;33m=\u001b[0m \u001b[0msc\u001b[0m\u001b[1;33m.\u001b[0m\u001b[0mmean\u001b[0m\u001b[1;33m(\u001b[0m\u001b[0mkor\u001b[0m\u001b[1;33m)\u001b[0m\u001b[1;33m\u001b[0m\u001b[1;33m\u001b[0m\u001b[0m\n\u001b[0;32m      5\u001b[0m \u001b[0meng_mean\u001b[0m \u001b[1;33m=\u001b[0m \u001b[0msc\u001b[0m\u001b[1;33m.\u001b[0m\u001b[0mmean\u001b[0m\u001b[1;33m(\u001b[0m\u001b[0meng\u001b[0m\u001b[1;33m)\u001b[0m\u001b[1;33m\u001b[0m\u001b[1;33m\u001b[0m\u001b[0m\n",
      "\u001b[1;32mC:\\anaconda3\\lib\\site-packages\\pandas\\core\\generic.py\u001b[0m in \u001b[0;36m__getattr__\u001b[1;34m(self, name)\u001b[0m\n\u001b[0;32m   5137\u001b[0m             \u001b[1;32mif\u001b[0m \u001b[0mself\u001b[0m\u001b[1;33m.\u001b[0m\u001b[0m_info_axis\u001b[0m\u001b[1;33m.\u001b[0m\u001b[0m_can_hold_identifiers_and_holds_name\u001b[0m\u001b[1;33m(\u001b[0m\u001b[0mname\u001b[0m\u001b[1;33m)\u001b[0m\u001b[1;33m:\u001b[0m\u001b[1;33m\u001b[0m\u001b[1;33m\u001b[0m\u001b[0m\n\u001b[0;32m   5138\u001b[0m                 \u001b[1;32mreturn\u001b[0m \u001b[0mself\u001b[0m\u001b[1;33m[\u001b[0m\u001b[0mname\u001b[0m\u001b[1;33m]\u001b[0m\u001b[1;33m\u001b[0m\u001b[1;33m\u001b[0m\u001b[0m\n\u001b[1;32m-> 5139\u001b[1;33m             \u001b[1;32mreturn\u001b[0m \u001b[0mobject\u001b[0m\u001b[1;33m.\u001b[0m\u001b[0m__getattribute__\u001b[0m\u001b[1;33m(\u001b[0m\u001b[0mself\u001b[0m\u001b[1;33m,\u001b[0m \u001b[0mname\u001b[0m\u001b[1;33m)\u001b[0m\u001b[1;33m\u001b[0m\u001b[1;33m\u001b[0m\u001b[0m\n\u001b[0m\u001b[0;32m   5140\u001b[0m \u001b[1;33m\u001b[0m\u001b[0m\n\u001b[0;32m   5141\u001b[0m     \u001b[1;32mdef\u001b[0m \u001b[0m__setattr__\u001b[0m\u001b[1;33m(\u001b[0m\u001b[0mself\u001b[0m\u001b[1;33m,\u001b[0m \u001b[0mname\u001b[0m\u001b[1;33m:\u001b[0m \u001b[0mstr\u001b[0m\u001b[1;33m,\u001b[0m \u001b[0mvalue\u001b[0m\u001b[1;33m)\u001b[0m \u001b[1;33m->\u001b[0m \u001b[1;32mNone\u001b[0m\u001b[1;33m:\u001b[0m\u001b[1;33m\u001b[0m\u001b[1;33m\u001b[0m\u001b[0m\n",
      "\u001b[1;31mAttributeError\u001b[0m: 'DataFrame' object has no attribute 'kor'"
     ]
    }
   ],
   "source": [
    "kor = df.kor\n",
    "eng = df.eng\n",
    "N = df.shape[0]\n",
    "kor_mean = sc.mean(kor)\n",
    "eng_mean = sc.mean(eng)\n",
    "print(kor_mean, eng_mean)"
   ]
  },
  {
   "cell_type": "code",
   "execution_count": null,
   "metadata": {},
   "outputs": [],
   "source": [
    "공분산 = sum((kor - kor_mean)*(eng- eng_mean)) / (N-1)\n",
    "print(공분산)"
   ]
  },
  {
   "cell_type": "code",
   "execution_count": null,
   "metadata": {},
   "outputs": [],
   "source": [
    "공분산행렬 = sc.cov(kor, eng)\n",
    "print(공분산행렬)"
   ]
  },
  {
   "cell_type": "code",
   "execution_count": null,
   "metadata": {},
   "outputs": [],
   "source": [
    "피어슨상관계수 = 공분산 / (koe편차 * eng편차)"
   ]
  },
  {
   "cell_type": "code",
   "execution_count": null,
   "metadata": {},
   "outputs": [],
   "source": [
    "kor분산 = sc.var(kor)\n",
    "eng분산 = sc.var(eng)\n",
    "피어슨상관계수 = 공분산 / sp.sqrt(kor편차 * eng편차)\n",
    "print(피어슨상관계수)\n",
    "\n",
    "kor표준편차 = sc.std(kor)\n",
    "eng표준편차 = sc.std(eng)\n",
    "피어슨상관계수 = 공분산 / (kor표준편차 * eng표준표준편차)\n",
    "print(피어슨상관계수)"
   ]
  },
  {
   "cell_type": "code",
   "execution_count": null,
   "metadata": {},
   "outputs": [],
   "source": []
  }
 ],
 "metadata": {
  "kernelspec": {
   "display_name": "Python 3",
   "language": "python",
   "name": "python3"
  },
  "language_info": {
   "codemirror_mode": {
    "name": "ipython",
    "version": 3
   },
   "file_extension": ".py",
   "mimetype": "text/x-python",
   "name": "python",
   "nbconvert_exporter": "python",
   "pygments_lexer": "ipython3",
   "version": "3.8.5"
  }
 },
 "nbformat": 4,
 "nbformat_minor": 4
}
