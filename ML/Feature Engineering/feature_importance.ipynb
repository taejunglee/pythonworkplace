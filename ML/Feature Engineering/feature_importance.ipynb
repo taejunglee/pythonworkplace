{
 "cells": [
  {
   "cell_type": "markdown",
   "id": "331f351e-9196-41e6-8bd4-69e47305fec1",
   "metadata": {},
   "source": [
    "# featureimportance"
   ]
  },
  {
   "cell_type": "code",
   "execution_count": null,
   "id": "5cd06d01-28e0-48fd-96d3-1a192a841efb",
   "metadata": {},
   "outputs": [],
   "source": [
    "import seaborn as sns\n",
    "import matplotlib.pyplot as plt"
   ]
  },
  {
   "cell_type": "code",
   "execution_count": null,
   "id": "7271a69f-0d8b-4973-a6c0-4e60f06cd109",
   "metadata": {},
   "outputs": [],
   "source": []
  },
  {
   "cell_type": "code",
   "execution_count": null,
   "id": "405766b9-b4c0-45dc-8b70-c306ec9d4533",
   "metadata": {},
   "outputs": [],
   "source": [
    "ftr_importances_values = model.feature_importances_\n",
    "\n",
    "# Top 중요도로 정렬을 쉽게 하고, bar chart로 쉽게 표현하기 위해 Series 변환\n",
    "ftr_importances = pd.Series(ftr_importances_values, index=train_X.columns)\n",
    "\n",
    "# 중요도값 순으로 Series 정렬\n",
    "ftr_top = ftr_importances.sort_values(ascending=False)\n",
    "plt.figure(figsize=(8, 6))\n",
    "plt.title('Feature importance')\n",
    "sns.barplot(x=ftr_top, y = ftr_top.index)\n",
    "plt.show()"
   ]
  }
 ],
 "metadata": {
  "kernelspec": {
   "display_name": "Python 3",
   "language": "python",
   "name": "python3"
  },
  "language_info": {
   "codemirror_mode": {
    "name": "ipython",
    "version": 3
   },
   "file_extension": ".py",
   "mimetype": "text/x-python",
   "name": "python",
   "nbconvert_exporter": "python",
   "pygments_lexer": "ipython3",
   "version": "3.7.7"
  }
 },
 "nbformat": 4,
 "nbformat_minor": 5
}
