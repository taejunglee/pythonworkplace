{
 "cells": [
  {
   "cell_type": "markdown",
   "metadata": {},
   "source": [
    "# 특정 조건, 특정 컬럼 outlier"
   ]
  },
  {
   "cell_type": "code",
   "execution_count": null,
   "metadata": {},
   "outputs": [],
   "source": [
    "def crd_outlier(df=None, column=None, weight=1.5):\n",
    "    df = df[df['credit']<=1][column] # 조건\n",
    "    p25 = np.percentile(df.values, 25)\n",
    "    p75 = np.percentile(df.values, 75)\n",
    "    IQR = (p75 - p25) * weight\n",
    "    low_limit  = p25 - IQR\n",
    "    high_limit = p75 + IQR\n",
    "    outlier_idx = df[(df < low_limit) | (df > high_limit)].index.values.tolist()\n",
    "    return outlier_idx\n",
    "outlier_idx = crd_outlier(df=train,column=\"income_total\",weight=1.5);outlier_idx"
   ]
  },
  {
   "cell_type": "code",
   "execution_count": null,
   "metadata": {},
   "outputs": [],
   "source": [
    "train.drop(outlier_idx, inplace=True)"
   ]
  },
  {
   "cell_type": "markdown",
   "metadata": {},
   "source": [
    "----------------------------------------------------------------------------------------------------------------------------"
   ]
  },
  {
   "cell_type": "code",
   "execution_count": null,
   "metadata": {},
   "outputs": [],
   "source": [
    "from collections import Counter\n",
    "\n",
    "numeric_features = train.dtypes[train.dtypes != \"object\"].index.tolist()\n",
    "\n",
    "def detect_outliers(df, n, features):\n",
    "    outliers = []\n",
    "    for col in features:\n",
    "        Q1 = np.percentile(df[col], 25)\n",
    "        Q3 = np.percentile(df[col], 75)\n",
    "        IQR = Q3 - Q1\n",
    "        \n",
    "        outlier_step = 1.5 * IQR\n",
    "        \n",
    "        outlier_list_col = df[(df[col] < Q1 - outlier_step) | (df[col] > Q3 + outlier_step)].index\n",
    "        outliers.extend(outlier_list_col)\n",
    "    outliers = Counter(outliers) #이상치가 있는 행 카운트\n",
    "    multiple_outliers = list(k for k, v in outliers.items() if v > n) #이상치값을 2개 이상 포함하는 행\n",
    "    return multiple_outliers\n",
    "\n",
    "Outliers_to_drop = detect_outliers(train, 2, numeric_features)\n",
    "#이상치를 과하게 제거하면 오버피팅날 수 있다."
   ]
  },
  {
   "cell_type": "code",
   "execution_count": null,
   "metadata": {},
   "outputs": [],
   "source": [
    "train.drop(Outliers_to_drop, inplace=True) "
   ]
  }
 ],
 "metadata": {
  "kernelspec": {
   "display_name": "Python 3",
   "language": "python",
   "name": "python3"
  },
  "language_info": {
   "codemirror_mode": {
    "name": "ipython",
    "version": 3
   },
   "file_extension": ".py",
   "mimetype": "text/x-python",
   "name": "python",
   "nbconvert_exporter": "python",
   "pygments_lexer": "ipython3",
   "version": "3.8.5"
  }
 },
 "nbformat": 4,
 "nbformat_minor": 4
}
