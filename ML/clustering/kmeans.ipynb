{
 "cells": [
  {
   "cell_type": "markdown",
   "metadata": {},
   "source": [
    "# kmeans"
   ]
  },
  {
   "cell_type": "markdown",
   "metadata": {},
   "source": [
    "1. 중심 포인트(CP1랜덤)로 부터 k(임의지정)개를 그룹화\n",
    "2. 그 그룹화된 반경 내에서 중심(cp1)과 각 포인트(k-1) 간의 거리(유클리드)의 평균\n",
    "3. 평균 거리값이 가장 작은 포인트가 중심(cp2)으로 재설정\n",
    "4. 중심(cp1)는 일반 포인트가 되서 가장 가까운 cp 찾고 반경내로 재그룹이 형성됨\n",
    "5. 무한 반복 . 포인트의 변경이 없을때까지"
   ]
  },
  {
   "cell_type": "code",
   "execution_count": 8,
   "metadata": {},
   "outputs": [],
   "source": [
    "from sklearn import datasets\n",
    "import pandas as pd\n",
    "from sklearn.cluster import KMeans\n",
    "import matplotlib.pyplot  as plt\n",
    "import seaborn as sns\n",
    "from sklearn.metrics import silhouette_samples, silhouette_score"
   ]
  },
  {
   "cell_type": "code",
   "execution_count": 9,
   "metadata": {},
   "outputs": [],
   "source": [
    "def myscore(model, X, ncluster) :\n",
    "    c_coef = silhouette_samples(X, ncluster)\n",
    "    print(c_coef[:5])\n",
    "    df[\"c_coef\"] = c_coef\n",
    "\n",
    "    score = silhouette_score(X, ncluster)\n",
    "    print(score)\n",
    "    \n",
    "    print(f\"응집도 : {model.inertia_:.4f}\")"
   ]
  },
  {
   "cell_type": "code",
   "execution_count": 10,
   "metadata": {},
   "outputs": [
    {
     "data": {
      "text/html": [
       "<div>\n",
       "<style scoped>\n",
       "    .dataframe tbody tr th:only-of-type {\n",
       "        vertical-align: middle;\n",
       "    }\n",
       "\n",
       "    .dataframe tbody tr th {\n",
       "        vertical-align: top;\n",
       "    }\n",
       "\n",
       "    .dataframe thead th {\n",
       "        text-align: right;\n",
       "    }\n",
       "</style>\n",
       "<table border=\"1\" class=\"dataframe\">\n",
       "  <thead>\n",
       "    <tr style=\"text-align: right;\">\n",
       "      <th></th>\n",
       "      <th>Sepal length</th>\n",
       "      <th>Sepal width</th>\n",
       "      <th>Petal length</th>\n",
       "      <th>Petal width</th>\n",
       "      <th>target</th>\n",
       "    </tr>\n",
       "  </thead>\n",
       "  <tbody>\n",
       "    <tr>\n",
       "      <th>0</th>\n",
       "      <td>5.1</td>\n",
       "      <td>3.5</td>\n",
       "      <td>1.4</td>\n",
       "      <td>0.2</td>\n",
       "      <td>0</td>\n",
       "    </tr>\n",
       "    <tr>\n",
       "      <th>1</th>\n",
       "      <td>4.9</td>\n",
       "      <td>3.0</td>\n",
       "      <td>1.4</td>\n",
       "      <td>0.2</td>\n",
       "      <td>0</td>\n",
       "    </tr>\n",
       "    <tr>\n",
       "      <th>2</th>\n",
       "      <td>4.7</td>\n",
       "      <td>3.2</td>\n",
       "      <td>1.3</td>\n",
       "      <td>0.2</td>\n",
       "      <td>0</td>\n",
       "    </tr>\n",
       "    <tr>\n",
       "      <th>3</th>\n",
       "      <td>4.6</td>\n",
       "      <td>3.1</td>\n",
       "      <td>1.5</td>\n",
       "      <td>0.2</td>\n",
       "      <td>0</td>\n",
       "    </tr>\n",
       "    <tr>\n",
       "      <th>4</th>\n",
       "      <td>5.0</td>\n",
       "      <td>3.6</td>\n",
       "      <td>1.4</td>\n",
       "      <td>0.2</td>\n",
       "      <td>0</td>\n",
       "    </tr>\n",
       "  </tbody>\n",
       "</table>\n",
       "</div>"
      ],
      "text/plain": [
       "   Sepal length  Sepal width  Petal length  Petal width  target\n",
       "0           5.1          3.5           1.4          0.2       0\n",
       "1           4.9          3.0           1.4          0.2       0\n",
       "2           4.7          3.2           1.3          0.2       0\n",
       "3           4.6          3.1           1.5          0.2       0\n",
       "4           5.0          3.6           1.4          0.2       0"
      ]
     },
     "execution_count": 10,
     "metadata": {},
     "output_type": "execute_result"
    }
   ],
   "source": [
    "iris = datasets.load_iris()\n",
    "cols = ['Sepal length','Sepal width','Petal length','Petal width']\n",
    "df = pd.DataFrame(iris.data, columns=cols)\n",
    "df['target'] =  iris.target\n",
    "df.head()"
   ]
  },
  {
   "cell_type": "code",
   "execution_count": 11,
   "metadata": {},
   "outputs": [
    {
     "name": "stdout",
     "output_type": "stream",
     "text": [
      "     Sepal length  Sepal width  Petal length  Petal width  target  ncluster\n",
      "0             5.1          3.5           1.4          0.2       0         2\n",
      "1             4.9          3.0           1.4          0.2       0         2\n",
      "2             4.7          3.2           1.3          0.2       0         2\n",
      "3             4.6          3.1           1.5          0.2       0         2\n",
      "4             5.0          3.6           1.4          0.2       0         2\n",
      "..            ...          ...           ...          ...     ...       ...\n",
      "145           6.7          3.0           5.2          2.3       2         0\n",
      "146           6.3          2.5           5.0          1.9       2         1\n",
      "147           6.5          3.0           5.2          2.0       2         0\n",
      "148           6.2          3.4           5.4          2.3       2         0\n",
      "149           5.9          3.0           5.1          1.8       2         1\n",
      "\n",
      "[150 rows x 6 columns]\n"
     ]
    }
   ],
   "source": [
    "df_2col = df[['Sepal length','Sepal width']]\n",
    "\n",
    "model = KMeans(n_clusters=3)\n",
    "model.fit(df_2col)\n",
    "ncluster = model.predict(df_2col)\n",
    "df['ncluster'] = ncluster\n",
    "\n",
    "print(df)"
   ]
  },
  {
   "cell_type": "code",
   "execution_count": 12,
   "metadata": {},
   "outputs": [
    {
     "data": {
      "text/plain": [
       "array([[6.81276596, 3.07446809],\n",
       "       [5.77358491, 2.69245283],\n",
       "       [5.006     , 3.428     ]])"
      ]
     },
     "execution_count": 12,
     "metadata": {},
     "output_type": "execute_result"
    }
   ],
   "source": [
    "model.cluster_centers_"
   ]
  },
  {
   "cell_type": "code",
   "execution_count": 14,
   "metadata": {},
   "outputs": [
    {
     "data": {
      "image/png": "[encoded data removed]",
      "text/plain": [
       "<Figure size 432x288 with 1 Axes>"
      ]
     },
     "metadata": {
      "needs_background": "light"
     },
     "output_type": "display_data"
    }
   ],
   "source": [
    "centers = pd.DataFrame(model.cluster_centers_,columns=['Sepal length','Sepal width'])\n",
    "center_x = centers['Sepal length']\n",
    "center_y = centers['Sepal width']\n",
    "\n",
    "# scatter plot\n",
    "plt.scatter(df['Sepal length'],  df['Sepal width'], c=df[\"ncluster\"] )\n",
    "plt.scatter(center_x, center_y,  marker='*'      ,  c='r')\n",
    "plt.show()"
   ]
  },
  {
   "cell_type": "code",
   "execution_count": 15,
   "metadata": {},
   "outputs": [
    {
     "data": {
      "text/html": [
       "<div>\n",
       "<style scoped>\n",
       "    .dataframe tbody tr th:only-of-type {\n",
       "        vertical-align: middle;\n",
       "    }\n",
       "\n",
       "    .dataframe tbody tr th {\n",
       "        vertical-align: top;\n",
       "    }\n",
       "\n",
       "    .dataframe thead th {\n",
       "        text-align: right;\n",
       "    }\n",
       "</style>\n",
       "<table border=\"1\" class=\"dataframe\">\n",
       "  <thead>\n",
       "    <tr style=\"text-align: right;\">\n",
       "      <th></th>\n",
       "      <th>Sepal length</th>\n",
       "      <th>Sepal width</th>\n",
       "      <th>Petal length</th>\n",
       "      <th>Petal width</th>\n",
       "      <th>target</th>\n",
       "      <th>ncluster</th>\n",
       "    </tr>\n",
       "  </thead>\n",
       "  <tbody>\n",
       "    <tr>\n",
       "      <th>0</th>\n",
       "      <td>5.1</td>\n",
       "      <td>3.5</td>\n",
       "      <td>1.4</td>\n",
       "      <td>0.2</td>\n",
       "      <td>0</td>\n",
       "      <td>2</td>\n",
       "    </tr>\n",
       "    <tr>\n",
       "      <th>1</th>\n",
       "      <td>4.9</td>\n",
       "      <td>3.0</td>\n",
       "      <td>1.4</td>\n",
       "      <td>0.2</td>\n",
       "      <td>0</td>\n",
       "      <td>2</td>\n",
       "    </tr>\n",
       "    <tr>\n",
       "      <th>2</th>\n",
       "      <td>4.7</td>\n",
       "      <td>3.2</td>\n",
       "      <td>1.3</td>\n",
       "      <td>0.2</td>\n",
       "      <td>0</td>\n",
       "      <td>2</td>\n",
       "    </tr>\n",
       "    <tr>\n",
       "      <th>3</th>\n",
       "      <td>4.6</td>\n",
       "      <td>3.1</td>\n",
       "      <td>1.5</td>\n",
       "      <td>0.2</td>\n",
       "      <td>0</td>\n",
       "      <td>2</td>\n",
       "    </tr>\n",
       "    <tr>\n",
       "      <th>4</th>\n",
       "      <td>5.0</td>\n",
       "      <td>3.6</td>\n",
       "      <td>1.4</td>\n",
       "      <td>0.2</td>\n",
       "      <td>0</td>\n",
       "      <td>2</td>\n",
       "    </tr>\n",
       "  </tbody>\n",
       "</table>\n",
       "</div>"
      ],
      "text/plain": [
       "   Sepal length  Sepal width  Petal length  Petal width  target  ncluster\n",
       "0           5.1          3.5           1.4          0.2       0         2\n",
       "1           4.9          3.0           1.4          0.2       0         2\n",
       "2           4.7          3.2           1.3          0.2       0         2\n",
       "3           4.6          3.1           1.5          0.2       0         2\n",
       "4           5.0          3.6           1.4          0.2       0         2"
      ]
     },
     "execution_count": 15,
     "metadata": {},
     "output_type": "execute_result"
    }
   ],
   "source": [
    "df.head()"
   ]
  },
  {
   "cell_type": "code",
   "execution_count": 16,
   "metadata": {},
   "outputs": [
    {
     "name": "stdout",
     "output_type": "stream",
     "text": [
      "[0.59821502 0.40612542 0.56116222 0.50873385 0.62315302]\n",
      "0.4450525692083638\n",
      "응집도 : 37.0507\n"
     ]
    }
   ],
   "source": [
    "myscore(model, df[['Sepal length','Sepal width']], df[\"ncluster\"])"
   ]
  },
  {
   "cell_type": "code",
   "execution_count": 17,
   "metadata": {},
   "outputs": [],
   "source": [
    "from sklearn.preprocessing import StandardScaler"
   ]
  },
  {
   "cell_type": "code",
   "execution_count": 18,
   "metadata": {},
   "outputs": [],
   "source": [
    "scaler = StandardScaler()\n",
    "scaler_val = scaler.fit_transform(df[['Sepal length','Sepal width']])\n",
    "# df_scaler = pd.DataFrame(scaler_val, columns = ['Sepal length','Sepal width'])\n",
    "# df_scaler.head()\n",
    "df[[\"separl_length_sacle\", \"separ_with_scale\"]] = scaler_val"
   ]
  },
  {
   "cell_type": "code",
   "execution_count": 19,
   "metadata": {},
   "outputs": [
    {
     "data": {
      "text/html": [
       "<div>\n",
       "<style scoped>\n",
       "    .dataframe tbody tr th:only-of-type {\n",
       "        vertical-align: middle;\n",
       "    }\n",
       "\n",
       "    .dataframe tbody tr th {\n",
       "        vertical-align: top;\n",
       "    }\n",
       "\n",
       "    .dataframe thead th {\n",
       "        text-align: right;\n",
       "    }\n",
       "</style>\n",
       "<table border=\"1\" class=\"dataframe\">\n",
       "  <thead>\n",
       "    <tr style=\"text-align: right;\">\n",
       "      <th></th>\n",
       "      <th>Sepal length</th>\n",
       "      <th>Sepal width</th>\n",
       "      <th>Petal length</th>\n",
       "      <th>Petal width</th>\n",
       "      <th>target</th>\n",
       "      <th>ncluster</th>\n",
       "      <th>c_coef</th>\n",
       "      <th>separl_length_sacle</th>\n",
       "      <th>separ_with_scale</th>\n",
       "    </tr>\n",
       "  </thead>\n",
       "  <tbody>\n",
       "    <tr>\n",
       "      <th>0</th>\n",
       "      <td>5.1</td>\n",
       "      <td>3.5</td>\n",
       "      <td>1.4</td>\n",
       "      <td>0.2</td>\n",
       "      <td>0</td>\n",
       "      <td>2</td>\n",
       "      <td>0.598215</td>\n",
       "      <td>-0.900681</td>\n",
       "      <td>1.019004</td>\n",
       "    </tr>\n",
       "    <tr>\n",
       "      <th>1</th>\n",
       "      <td>4.9</td>\n",
       "      <td>3.0</td>\n",
       "      <td>1.4</td>\n",
       "      <td>0.2</td>\n",
       "      <td>0</td>\n",
       "      <td>2</td>\n",
       "      <td>0.406125</td>\n",
       "      <td>-1.143017</td>\n",
       "      <td>-0.131979</td>\n",
       "    </tr>\n",
       "    <tr>\n",
       "      <th>2</th>\n",
       "      <td>4.7</td>\n",
       "      <td>3.2</td>\n",
       "      <td>1.3</td>\n",
       "      <td>0.2</td>\n",
       "      <td>0</td>\n",
       "      <td>2</td>\n",
       "      <td>0.561162</td>\n",
       "      <td>-1.385353</td>\n",
       "      <td>0.328414</td>\n",
       "    </tr>\n",
       "    <tr>\n",
       "      <th>3</th>\n",
       "      <td>4.6</td>\n",
       "      <td>3.1</td>\n",
       "      <td>1.5</td>\n",
       "      <td>0.2</td>\n",
       "      <td>0</td>\n",
       "      <td>2</td>\n",
       "      <td>0.508734</td>\n",
       "      <td>-1.506521</td>\n",
       "      <td>0.098217</td>\n",
       "    </tr>\n",
       "    <tr>\n",
       "      <th>4</th>\n",
       "      <td>5.0</td>\n",
       "      <td>3.6</td>\n",
       "      <td>1.4</td>\n",
       "      <td>0.2</td>\n",
       "      <td>0</td>\n",
       "      <td>2</td>\n",
       "      <td>0.623153</td>\n",
       "      <td>-1.021849</td>\n",
       "      <td>1.249201</td>\n",
       "    </tr>\n",
       "  </tbody>\n",
       "</table>\n",
       "</div>"
      ],
      "text/plain": [
       "   Sepal length  Sepal width  Petal length  Petal width  target  ncluster  \\\n",
       "0           5.1          3.5           1.4          0.2       0         2   \n",
       "1           4.9          3.0           1.4          0.2       0         2   \n",
       "2           4.7          3.2           1.3          0.2       0         2   \n",
       "3           4.6          3.1           1.5          0.2       0         2   \n",
       "4           5.0          3.6           1.4          0.2       0         2   \n",
       "\n",
       "     c_coef  separl_length_sacle  separ_with_scale  \n",
       "0  0.598215            -0.900681          1.019004  \n",
       "1  0.406125            -1.143017         -0.131979  \n",
       "2  0.561162            -1.385353          0.328414  \n",
       "3  0.508734            -1.506521          0.098217  \n",
       "4  0.623153            -1.021849          1.249201  "
      ]
     },
     "execution_count": 19,
     "metadata": {},
     "output_type": "execute_result"
    }
   ],
   "source": [
    "df.head()"
   ]
  },
  {
   "cell_type": "code",
   "execution_count": 20,
   "metadata": {},
   "outputs": [],
   "source": [
    "df_2col = df[ ['separl_length_sacle', 'separ_with_scale']]\n",
    "\n",
    "# model = KMeans(n_clusters=3)\n",
    "model.fit(df_2col)\n",
    "ncluster = model.predict(df_2col)\n",
    "df['ncluster_scaler'] = ncluster"
   ]
  },
  {
   "cell_type": "code",
   "execution_count": 21,
   "metadata": {},
   "outputs": [
    {
     "data": {
      "text/html": [
       "<div>\n",
       "<style scoped>\n",
       "    .dataframe tbody tr th:only-of-type {\n",
       "        vertical-align: middle;\n",
       "    }\n",
       "\n",
       "    .dataframe tbody tr th {\n",
       "        vertical-align: top;\n",
       "    }\n",
       "\n",
       "    .dataframe thead th {\n",
       "        text-align: right;\n",
       "    }\n",
       "</style>\n",
       "<table border=\"1\" class=\"dataframe\">\n",
       "  <thead>\n",
       "    <tr style=\"text-align: right;\">\n",
       "      <th></th>\n",
       "      <th>Sepal length</th>\n",
       "      <th>Sepal width</th>\n",
       "      <th>Petal length</th>\n",
       "      <th>Petal width</th>\n",
       "      <th>target</th>\n",
       "      <th>ncluster</th>\n",
       "      <th>c_coef</th>\n",
       "      <th>separl_length_sacle</th>\n",
       "      <th>separ_with_scale</th>\n",
       "      <th>ncluster_scaler</th>\n",
       "    </tr>\n",
       "  </thead>\n",
       "  <tbody>\n",
       "    <tr>\n",
       "      <th>0</th>\n",
       "      <td>5.1</td>\n",
       "      <td>3.5</td>\n",
       "      <td>1.4</td>\n",
       "      <td>0.2</td>\n",
       "      <td>0</td>\n",
       "      <td>2</td>\n",
       "      <td>0.598215</td>\n",
       "      <td>-0.900681</td>\n",
       "      <td>1.019004</td>\n",
       "      <td>1</td>\n",
       "    </tr>\n",
       "    <tr>\n",
       "      <th>1</th>\n",
       "      <td>4.9</td>\n",
       "      <td>3.0</td>\n",
       "      <td>1.4</td>\n",
       "      <td>0.2</td>\n",
       "      <td>0</td>\n",
       "      <td>2</td>\n",
       "      <td>0.406125</td>\n",
       "      <td>-1.143017</td>\n",
       "      <td>-0.131979</td>\n",
       "      <td>1</td>\n",
       "    </tr>\n",
       "    <tr>\n",
       "      <th>2</th>\n",
       "      <td>4.7</td>\n",
       "      <td>3.2</td>\n",
       "      <td>1.3</td>\n",
       "      <td>0.2</td>\n",
       "      <td>0</td>\n",
       "      <td>2</td>\n",
       "      <td>0.561162</td>\n",
       "      <td>-1.385353</td>\n",
       "      <td>0.328414</td>\n",
       "      <td>1</td>\n",
       "    </tr>\n",
       "    <tr>\n",
       "      <th>3</th>\n",
       "      <td>4.6</td>\n",
       "      <td>3.1</td>\n",
       "      <td>1.5</td>\n",
       "      <td>0.2</td>\n",
       "      <td>0</td>\n",
       "      <td>2</td>\n",
       "      <td>0.508734</td>\n",
       "      <td>-1.506521</td>\n",
       "      <td>0.098217</td>\n",
       "      <td>1</td>\n",
       "    </tr>\n",
       "    <tr>\n",
       "      <th>4</th>\n",
       "      <td>5.0</td>\n",
       "      <td>3.6</td>\n",
       "      <td>1.4</td>\n",
       "      <td>0.2</td>\n",
       "      <td>0</td>\n",
       "      <td>2</td>\n",
       "      <td>0.623153</td>\n",
       "      <td>-1.021849</td>\n",
       "      <td>1.249201</td>\n",
       "      <td>1</td>\n",
       "    </tr>\n",
       "  </tbody>\n",
       "</table>\n",
       "</div>"
      ],
      "text/plain": [
       "   Sepal length  Sepal width  Petal length  Petal width  target  ncluster  \\\n",
       "0           5.1          3.5           1.4          0.2       0         2   \n",
       "1           4.9          3.0           1.4          0.2       0         2   \n",
       "2           4.7          3.2           1.3          0.2       0         2   \n",
       "3           4.6          3.1           1.5          0.2       0         2   \n",
       "4           5.0          3.6           1.4          0.2       0         2   \n",
       "\n",
       "     c_coef  separl_length_sacle  separ_with_scale  ncluster_scaler  \n",
       "0  0.598215            -0.900681          1.019004                1  \n",
       "1  0.406125            -1.143017         -0.131979                1  \n",
       "2  0.561162            -1.385353          0.328414                1  \n",
       "3  0.508734            -1.506521          0.098217                1  \n",
       "4  0.623153            -1.021849          1.249201                1  "
      ]
     },
     "execution_count": 21,
     "metadata": {},
     "output_type": "execute_result"
    }
   ],
   "source": [
    "df.head()"
   ]
  },
  {
   "cell_type": "code",
   "execution_count": 22,
   "metadata": {
    "scrolled": true
   },
   "outputs": [
    {
     "data": {
      "image/png": "[encoded data removed]",
      "text/plain": [
       "<Figure size 432x288 with 1 Axes>"
      ]
     },
     "metadata": {
      "needs_background": "light"
     },
     "output_type": "display_data"
    }
   ],
   "source": [
    "centers = pd.DataFrame(model.cluster_centers_,columns=['separl_length_sacle','separ_with_scale'])\n",
    "center_x = centers['separl_length_sacle']\n",
    "center_y = centers['separ_with_scale']\n",
    "\n",
    "# scatter plot\n",
    "plt.scatter(df['separl_length_sacle'],  df['separ_with_scale'], c=df[\"ncluster_scaler\"] )\n",
    "plt.scatter(center_x, center_y,  marker='*'      ,  c='r')\n",
    "plt.show()"
   ]
  },
  {
   "cell_type": "code",
   "execution_count": 23,
   "metadata": {},
   "outputs": [
    {
     "name": "stdout",
     "output_type": "stream",
     "text": [
      "[0.63870773 0.20166077 0.50275692 0.40644779 0.64752337]\n",
      "0.43721141375168143\n",
      "응집도 : 102.6177\n"
     ]
    }
   ],
   "source": [
    "myscore(model, df[['separl_length_sacle','separ_with_scale']], df[\"ncluster_scaler\"])"
   ]
  },
  {
   "cell_type": "markdown",
   "metadata": {},
   "source": [
    "# 최적 군집 갯수는 몇개?"
   ]
  },
  {
   "cell_type": "code",
   "execution_count": 24,
   "metadata": {},
   "outputs": [
    {
     "name": "stdout",
     "output_type": "stream",
     "text": [
      "2 ------------------------------\n",
      "[0.64958336 0.37216381 0.57234994 0.5063326  0.65414918]\n",
      "0.4478710793874113\n",
      "응집도 : 166.9517\n",
      "3 ------------------------------\n",
      "[0.64454259 0.20026949 0.50849325 0.41000468 0.65368182]\n",
      "0.4343127417012513\n",
      "응집도 : 102.6169\n",
      "4 ------------------------------\n",
      "[0.22911133 0.48610625 0.65988978 0.62591115 0.00344119]\n",
      "0.4110181469480815\n",
      "응집도 : 79.7714\n",
      "5 ------------------------------\n",
      "[0.32757644 0.4407031  0.66738234 0.60350322 0.04172398]\n",
      "0.40101188632513224\n",
      "응집도 : 61.8092\n",
      "6 ------------------------------\n",
      "[0.2951931  0.45255062 0.66960864 0.61547881 0.01724093]\n",
      "0.3942293956885734\n",
      "응집도 : 52.2189\n"
     ]
    }
   ],
   "source": [
    "NS = [2,3,4,5,6]\n",
    "df_2col = df[ ['separl_length_sacle', 'separ_with_scale']]\n",
    "for n in NS:\n",
    "    model = KMeans(n_clusters=n)\n",
    "    model.fit(df_2col)\n",
    "    ncluster = model.predict(df_2col)\n",
    "    print(n, \"--\"*15)\n",
    "    myscore(model, df_2col, ncluster)\n",
    "    centers_list.append(model.cluster_centers_)"
   ]
  },
  {
   "cell_type": "code",
   "execution_count": 30,
   "metadata": {},
   "outputs": [
    {
     "data": {
      "image/png": "[encoded data removed]",
      "text/plain": [
       "<Figure size 432x288 with 1 Axes>"
      ]
     },
     "metadata": {
      "needs_background": "light"
     },
     "output_type": "display_data"
    }
   ],
   "source": [
    "centers = pd.DataFrame(model.cluster_centers_,columns=['separl_length_sacle','separ_with_scale'])\n",
    "center_x = centers['separl_length_sacle']\n",
    "center_y = centers['separ_with_scale']\n",
    "\n",
    "# scatter plot\n",
    "plt.scatter(df['separl_length_sacle'],  df['separ_with_scale'] )\n",
    "plt.scatter(center_x, center_y,  marker='*'      ,  c='r')\n",
    "plt.show()"
   ]
  },
  {
   "cell_type": "markdown",
   "metadata": {},
   "source": [
    "# 검증"
   ]
  },
  {
   "cell_type": "code",
   "execution_count": 26,
   "metadata": {},
   "outputs": [
    {
     "name": "stdout",
     "output_type": "stream",
     "text": [
      "ncluster_scaler   0   1   2\n",
      "target                     \n",
      "0                 0  49   1\n",
      "1                13   1  36\n",
      "2                31   0  19\n"
     ]
    }
   ],
   "source": [
    "ctab = pd.crosstab(df[\"target\"],df[\"ncluster_scaler\"])\n",
    "print(ctab)"
   ]
  },
  {
   "cell_type": "code",
   "execution_count": 27,
   "metadata": {},
   "outputs": [],
   "source": [
    "from scipy.cluster.hierarchy import linkage, dendrogram"
   ]
  },
  {
   "cell_type": "code",
   "execution_count": 31,
   "metadata": {},
   "outputs": [
    {
     "data": {
      "image/png": "[encoded data removed]",
      "text/plain": [
       "<Figure size 1440x1440 with 1 Axes>"
      ]
     },
     "metadata": {
      "needs_background": "light"
     },
     "output_type": "display_data"
    }
   ],
   "source": [
    "plt.figure(figsize=(20,20))\n",
    "#y, method='single', metric='euclidean',\n",
    "matrix = linkage(df[['separl_length_sacle','separ_with_scale']], method='single', metric='euclidean')\n",
    "dendrogram(matrix)\n",
    "plt.show()\n"
   ]
  },
  {
   "cell_type": "code",
   "execution_count": null,
   "metadata": {},
   "outputs": [],
   "source": []
  }
 ],
 "metadata": {
  "kernelspec": {
   "display_name": "Python 3",
   "language": "python",
   "name": "python3"
  },
  "language_info": {
   "codemirror_mode": {
    "name": "ipython",
    "version": 3
   },
   "file_extension": ".py",
   "mimetype": "text/x-python",
   "name": "python",
   "nbconvert_exporter": "python",
   "pygments_lexer": "ipython3",
   "version": "3.8.5"
  }
 },
 "nbformat": 4,
 "nbformat_minor": 4
}
