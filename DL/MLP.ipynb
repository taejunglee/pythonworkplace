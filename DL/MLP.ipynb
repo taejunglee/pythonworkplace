{
 "cells": [
  {
   "cell_type": "markdown",
   "metadata": {},
   "source": [
    "- 다층 퍼셉트론을 이용하면 단층에서 불가능했던 비선형 문제를 해결할 수 있다.\n",
    "- 좌측부터 0층으로 표시하며 우측으로 갈 수록 높은 층으로 표시"
   ]
  },
  {
   "cell_type": "code",
   "execution_count": 1,
   "metadata": {},
   "outputs": [],
   "source": [
    "import numpy as np"
   ]
  },
  {
   "cell_type": "code",
   "execution_count": 2,
   "metadata": {},
   "outputs": [],
   "source": [
    "X = np.array([10,20])                         # X1,X2를 임의의 값인 10, 20 으로 준비\n",
    "W1 = np.array([[0.1,0.3,0.5], [0.2,0.4,0.6]]) # 가중치는 모두 6개, 2행3열 배열로 준비\n",
    "B1 = np.array([1,2,3])                        # 입력층에서 1층으로 향하는 편향, 임의값으로 준비\n",
    "\n",
    "def sigmoid(x):\n",
    "    return 1 / (1 + np.exp(-x))               # h() 활성화 함수로 0~1 사이값 반환\n",
    "\n",
    "A1 = np.dot(X, W1) + B1                       # 1층의 입력 신호를 계산\n",
    "Z1 = sigmoid(A1)                              # 1층의 입력 신호를 시그모이드로 활성화하여 출력값 구함"
   ]
  },
  {
   "cell_type": "markdown",
   "metadata": {},
   "source": [
    "- 회귀문제는 항등함수\n",
    "- 2클래스 분류문제는 시그모이드함수\n",
    "- 다중 클래스 분류문제는 소프트맥스 함수"
   ]
  },
  {
   "cell_type": "markdown",
   "metadata": {},
   "source": [
    "- 출력층의 입력값들을 모두 구한 뒤 출력층의 활성화 함수만 거치면 y1과 y2 출력값 구할 수 있다."
   ]
  },
  {
   "cell_type": "code",
   "execution_count": 3,
   "metadata": {},
   "outputs": [],
   "source": [
    "W2 = np.array([[0.1,0.4],[0.2,0.5],[0.3,0.6]])  # 가중치 6개, 3행 2열 임의의 가중치를 갖는 배열로 준비\n",
    "B2 = np.array([0.1, 0.2])                       # 은닉충에서 출력층으로 향하는 편향 (b1,b2)로 임의의 값\n",
    "\n",
    "A2 = np.dot(Z1, W2)+B2                          # 은닉층의 출력값 Z1에 가중치 W2를 곱하고 편향B2를 더해 출력층의 입력값 A2 구함\n",
    "Y = sigmoid(A2)                                 # 출력층의 활성화 함수로 시그모이드 함수를 사용해서 최종적으로 y값 구함"
   ]
  },
  {
   "cell_type": "code",
   "execution_count": 4,
   "metadata": {},
   "outputs": [
    {
     "data": {
      "text/plain": [
       "array([0.69975229, 1.69900982])"
      ]
     },
     "execution_count": 4,
     "metadata": {},
     "output_type": "execute_result"
    }
   ],
   "source": [
    "A2"
   ]
  },
  {
   "cell_type": "code",
   "execution_count": 5,
   "metadata": {},
   "outputs": [
    {
     "data": {
      "text/plain": [
       "array([0.66813285, 0.84540537])"
      ]
     },
     "execution_count": 5,
     "metadata": {},
     "output_type": "execute_result"
    }
   ],
   "source": [
    "Y"
   ]
  },
  {
   "cell_type": "markdown",
   "metadata": {},
   "source": [
    "- result: 위와 같은 방식으로 계산을 반복하면 복잡한 신경망도 넘파이 배열을 이용하여 최종 출력신호를 계산할 수 있다."
   ]
  },
  {
   "cell_type": "code",
   "execution_count": null,
   "metadata": {},
   "outputs": [],
   "source": []
  }
 ],
 "metadata": {
  "kernelspec": {
   "display_name": "Python 3",
   "language": "python",
   "name": "python3"
  },
  "language_info": {
   "codemirror_mode": {
    "name": "ipython",
    "version": 3
   },
   "file_extension": ".py",
   "mimetype": "text/x-python",
   "name": "python",
   "nbconvert_exporter": "python",
   "pygments_lexer": "ipython3",
   "version": "3.8.5"
  }
 },
 "nbformat": 4,
 "nbformat_minor": 4
}
